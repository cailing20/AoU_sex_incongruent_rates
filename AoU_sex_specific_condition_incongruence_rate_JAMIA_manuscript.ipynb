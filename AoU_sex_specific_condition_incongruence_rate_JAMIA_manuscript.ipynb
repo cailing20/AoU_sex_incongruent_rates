{
 "cells": [
  {
   "cell_type": "markdown",
   "id": "ac58739d",
   "metadata": {},
   "source": [
    "### Preparation"
   ]
  },
  {
   "cell_type": "markdown",
   "id": "6f0c3f61",
   "metadata": {},
   "source": [
    "#### loading"
   ]
  },
  {
   "cell_type": "code",
   "execution_count": 1,
   "id": "db891a6c",
   "metadata": {
    "scrolled": true
   },
   "outputs": [
    {
     "data": {
      "text/html": [
       "<table class=\"dataframe\">\n",
       "<caption>A matrix: 2 × 6 of type dbl</caption>\n",
       "<thead>\n",
       "\t<tr><th></th><th scope=col>used</th><th scope=col>(Mb)</th><th scope=col>gc trigger</th><th scope=col>(Mb)</th><th scope=col>max used</th><th scope=col>(Mb)</th></tr>\n",
       "</thead>\n",
       "<tbody>\n",
       "\t<tr><th scope=row>Ncells</th><td> 648076</td><td>34.7</td><td>1443041</td><td>77.1</td><td>1105655</td><td>59.1</td></tr>\n",
       "\t<tr><th scope=row>Vcells</th><td>1203633</td><td> 9.2</td><td>8388608</td><td>64.0</td><td>1924584</td><td>14.7</td></tr>\n",
       "</tbody>\n",
       "</table>\n"
      ],
      "text/latex": [
       "A matrix: 2 × 6 of type dbl\n",
       "\\begin{tabular}{r|llllll}\n",
       "  & used & (Mb) & gc trigger & (Mb) & max used & (Mb)\\\\\n",
       "\\hline\n",
       "\tNcells &  648076 & 34.7 & 1443041 & 77.1 & 1105655 & 59.1\\\\\n",
       "\tVcells & 1203633 &  9.2 & 8388608 & 64.0 & 1924584 & 14.7\\\\\n",
       "\\end{tabular}\n"
      ],
      "text/markdown": [
       "\n",
       "A matrix: 2 × 6 of type dbl\n",
       "\n",
       "| <!--/--> | used | (Mb) | gc trigger | (Mb) | max used | (Mb) |\n",
       "|---|---|---|---|---|---|---|\n",
       "| Ncells |  648076 | 34.7 | 1443041 | 77.1 | 1105655 | 59.1 |\n",
       "| Vcells | 1203633 |  9.2 | 8388608 | 64.0 | 1924584 | 14.7 |\n",
       "\n"
      ],
      "text/plain": [
       "       used    (Mb) gc trigger (Mb) max used (Mb)\n",
       "Ncells  648076 34.7 1443041    77.1 1105655  59.1\n",
       "Vcells 1203633  9.2 8388608    64.0 1924584  14.7"
      ]
     },
     "metadata": {},
     "output_type": "display_data"
    },
    {
     "name": "stderr",
     "output_type": "stream",
     "text": [
      "\n",
      "Attaching package: ‘lubridate’\n",
      "\n",
      "\n",
      "The following objects are masked from ‘package:base’:\n",
      "\n",
      "    date, intersect, setdiff, union\n",
      "\n",
      "\n",
      "── \u001b[1mAttaching core tidyverse packages\u001b[22m ──────────────────────── tidyverse 2.0.0 ──\n",
      "\u001b[32m✔\u001b[39m \u001b[34mdplyr  \u001b[39m 1.1.4     \u001b[32m✔\u001b[39m \u001b[34mreadr  \u001b[39m 2.1.5\n",
      "\u001b[32m✔\u001b[39m \u001b[34mforcats\u001b[39m 1.0.0     \u001b[32m✔\u001b[39m \u001b[34mstringr\u001b[39m 1.5.1\n",
      "\u001b[32m✔\u001b[39m \u001b[34mggplot2\u001b[39m 3.4.4     \u001b[32m✔\u001b[39m \u001b[34mtibble \u001b[39m 3.2.1\n",
      "\u001b[32m✔\u001b[39m \u001b[34mpurrr  \u001b[39m 1.0.2     \u001b[32m✔\u001b[39m \u001b[34mtidyr  \u001b[39m 1.3.0\n",
      "── \u001b[1mConflicts\u001b[22m ────────────────────────────────────────── tidyverse_conflicts() ──\n",
      "\u001b[31m✖\u001b[39m \u001b[34mpurrr\u001b[39m::\u001b[32m%||%()\u001b[39m   masks \u001b[34mbase\u001b[39m::%||%()\n",
      "\u001b[31m✖\u001b[39m \u001b[34mdplyr\u001b[39m::\u001b[32mfilter()\u001b[39m masks \u001b[34mstats\u001b[39m::filter()\n",
      "\u001b[31m✖\u001b[39m \u001b[34mdplyr\u001b[39m::\u001b[32mlag()\u001b[39m    masks \u001b[34mstats\u001b[39m::lag()\n",
      "\u001b[36mℹ\u001b[39m Use the conflicted package (\u001b[3m\u001b[34m<http://conflicted.r-lib.org/>\u001b[39m\u001b[23m) to force all conflicts to become errors\n",
      "\n",
      "Attaching package: ‘data.table’\n",
      "\n",
      "\n",
      "The following objects are masked from ‘package:dplyr’:\n",
      "\n",
      "    between, first, last\n",
      "\n",
      "\n",
      "The following object is masked from ‘package:purrr’:\n",
      "\n",
      "    transpose\n",
      "\n",
      "\n",
      "The following objects are masked from ‘package:lubridate’:\n",
      "\n",
      "    hour, isoweek, mday, minute, month, quarter, second, wday, week,\n",
      "    yday, year\n",
      "\n",
      "\n"
     ]
    }
   ],
   "source": [
    "rm(list=ls());gc()\n",
    "library(lubridate)\n",
    "library(bigrquery)\n",
    "library(tidyverse)\n",
    "library(data.table)\n",
    "library(ggplot2)\n",
    "library(patchwork)\n",
    "## BigQuery setup.\n",
    "BILLING_PROJECT_ID <- Sys.getenv('GOOGLE_PROJECT')\n",
    "# Get the BigQuery curated dataset for the current workspace context.\n",
    "CDR <- Sys.getenv('WORKSPACE_CDR')"
   ]
  },
  {
   "cell_type": "code",
   "execution_count": 2,
   "id": "461dd5ee",
   "metadata": {},
   "outputs": [
    {
     "data": {
      "text/plain": [
       "R version 4.4.0 (2024-04-24)\n",
       "Platform: x86_64-pc-linux-gnu\n",
       "Running under: Ubuntu 20.04.6 LTS\n",
       "\n",
       "Matrix products: default\n",
       "BLAS:   /usr/lib/x86_64-linux-gnu/openblas-pthread/libblas.so.3 \n",
       "LAPACK: /usr/lib/x86_64-linux-gnu/openblas-pthread/liblapack.so.3;  LAPACK version 3.9.0\n",
       "\n",
       "locale:\n",
       " [1] LC_CTYPE=en_US.UTF-8       LC_NUMERIC=C              \n",
       " [3] LC_TIME=en_US.UTF-8        LC_COLLATE=en_US.UTF-8    \n",
       " [5] LC_MONETARY=en_US.UTF-8    LC_MESSAGES=en_US.UTF-8   \n",
       " [7] LC_PAPER=en_US.UTF-8       LC_NAME=C                 \n",
       " [9] LC_ADDRESS=C               LC_TELEPHONE=C            \n",
       "[11] LC_MEASUREMENT=en_US.UTF-8 LC_IDENTIFICATION=C       \n",
       "\n",
       "time zone: Etc/UTC\n",
       "tzcode source: system (glibc)\n",
       "\n",
       "attached base packages:\n",
       "[1] stats     graphics  grDevices utils     datasets  methods   base     \n",
       "\n",
       "other attached packages:\n",
       " [1] patchwork_1.2.0   data.table_1.15.4 forcats_1.0.0     stringr_1.5.1    \n",
       " [5] dplyr_1.1.4       purrr_1.0.2       readr_2.1.5       tidyr_1.3.0      \n",
       " [9] tibble_3.2.1      ggplot2_3.4.4     tidyverse_2.0.0   bigrquery_1.5.1  \n",
       "[13] lubridate_1.9.3  \n",
       "\n",
       "loaded via a namespace (and not attached):\n",
       " [1] bit_4.0.5         gtable_0.3.4      jsonlite_1.8.7    compiler_4.4.0   \n",
       " [5] crayon_1.5.2      tidyselect_1.2.0  IRdisplay_1.1     scales_1.2.1     \n",
       " [9] uuid_1.2-0        fastmap_1.2.0     IRkernel_1.3.2    R6_2.5.1         \n",
       "[13] generics_0.1.3    munsell_0.5.0     DBI_1.2.2         tzdb_0.4.0       \n",
       "[17] pillar_1.9.0      rlang_1.1.2       utf8_1.2.4        stringi_1.8.1    \n",
       "[21] repr_1.1.7        fs_1.6.3          bit64_4.0.5       timechange_0.3.0 \n",
       "[25] cli_3.6.1         withr_2.5.2       magrittr_2.0.3    digest_0.6.33    \n",
       "[29] grid_4.4.0        hms_1.1.3         base64enc_0.1-3   pbdZMQ_0.3-11    \n",
       "[33] lifecycle_1.0.4   vctrs_0.6.4       evaluate_0.23     gargle_1.5.2     \n",
       "[37] glue_1.6.2        fansi_1.0.5       colorspace_2.1-0  httr_1.4.7       \n",
       "[41] tools_4.4.0       pkgconfig_2.0.3   htmltools_0.5.8.1"
      ]
     },
     "metadata": {},
     "output_type": "display_data"
    }
   ],
   "source": [
    "sessionInfo()"
   ]
  },
  {
   "cell_type": "markdown",
   "id": "4dc9f935",
   "metadata": {},
   "source": [
    "#### confidence interval function"
   ]
  },
  {
   "cell_type": "code",
   "execution_count": 3,
   "id": "e9fae185",
   "metadata": {},
   "outputs": [],
   "source": [
    "CI<-function(p,n){\n",
    "    err<-sqrt(p*(1-p)/n)*1.96\n",
    "    paste0('[',paste(signif(c(p-err,p+err),2),collapse = ', '),']')\n",
    "}"
   ]
  },
  {
   "cell_type": "markdown",
   "id": "6c6c08aa",
   "metadata": {},
   "source": [
    "### find out the number of participants with specific medical conditions, excluding non-cisgender people"
   ]
  },
  {
   "cell_type": "markdown",
   "id": "d063bc89",
   "metadata": {},
   "source": [
    "#### Exclude non-cisgender"
   ]
  },
  {
   "cell_type": "code",
   "execution_count": 4,
   "id": "f342cbb2",
   "metadata": {},
   "outputs": [
    {
     "name": "stdout",
     "output_type": "stream",
     "text": [
      "413457 participants with survey data available\n",
      "404734 participants with binary sex at birth"
     ]
    }
   ],
   "source": [
    "all_person_df <- bq_table_download(bq_project_query(\n",
    "    BILLING_PROJECT_ID, page_size = 25000,\n",
    "    query = str_glue('\n",
    "SELECT \n",
    "    person_id,sex_at_birth_source_value,gender_source_value\n",
    "FROM {CDR}.person\n",
    "')))\n",
    "setDT(all_person_df)\n",
    "cat(paste(nrow(all_person_df),\n",
    "         \"participants with survey data available\\n\"))\n",
    "cat(paste(nrow(all_person_df[sex_at_birth_source_value%in%c('SexAtBirth_Male','SexAtBirth_Female')]),\n",
    "         \"participants with binary sex at birth\"))"
   ]
  },
  {
   "cell_type": "code",
   "execution_count": 5,
   "id": "b12e135d",
   "metadata": {},
   "outputs": [],
   "source": [
    "# define non-cis-gender participants\n",
    "all_person_df[!((sex_at_birth_source_value=='SexAtBirth_Male' & gender_source_value=='GenderIdentity_Man')|\n",
    "         (sex_at_birth_source_value=='SexAtBirth_Female' & gender_source_value=='GenderIdentity_Woman')),noncisgender:=T]\n",
    "all_person_df[is.na(noncisgender),noncisgender:=F]"
   ]
  },
  {
   "cell_type": "code",
   "execution_count": 6,
   "id": "ab3b8404",
   "metadata": {
    "scrolled": true
   },
   "outputs": [
    {
     "data": {
      "text/html": [
       "<table class=\"dataframe\">\n",
       "<caption>A data.table: 2 × 2</caption>\n",
       "<thead>\n",
       "\t<tr><th scope=col>noncisgender</th><th scope=col>N</th></tr>\n",
       "\t<tr><th scope=col>&lt;lgl&gt;</th><th scope=col>&lt;int&gt;</th></tr>\n",
       "</thead>\n",
       "<tbody>\n",
       "\t<tr><td> TRUE</td><td> 16233</td></tr>\n",
       "\t<tr><td>FALSE</td><td>397224</td></tr>\n",
       "</tbody>\n",
       "</table>\n"
      ],
      "text/latex": [
       "A data.table: 2 × 2\n",
       "\\begin{tabular}{ll}\n",
       " noncisgender & N\\\\\n",
       " <lgl> & <int>\\\\\n",
       "\\hline\n",
       "\t  TRUE &  16233\\\\\n",
       "\t FALSE & 397224\\\\\n",
       "\\end{tabular}\n"
      ],
      "text/markdown": [
       "\n",
       "A data.table: 2 × 2\n",
       "\n",
       "| noncisgender &lt;lgl&gt; | N &lt;int&gt; |\n",
       "|---|---|\n",
       "|  TRUE |  16233 |\n",
       "| FALSE | 397224 |\n",
       "\n"
      ],
      "text/plain": [
       "  noncisgender N     \n",
       "1  TRUE         16233\n",
       "2 FALSE        397224"
      ]
     },
     "metadata": {},
     "output_type": "display_data"
    }
   ],
   "source": [
    "all_person_df[,.N,by=noncisgender]"
   ]
  },
  {
   "cell_type": "code",
   "execution_count": 7,
   "id": "959f9a4b",
   "metadata": {},
   "outputs": [
    {
     "data": {
      "text/html": [
       "<table class=\"dataframe\">\n",
       "<caption>A data.table: 2 × 2</caption>\n",
       "<thead>\n",
       "\t<tr><th scope=col>sex_at_birth_source_value</th><th scope=col>N</th></tr>\n",
       "\t<tr><th scope=col>&lt;chr&gt;</th><th scope=col>&lt;int&gt;</th></tr>\n",
       "</thead>\n",
       "<tbody>\n",
       "\t<tr><td>SexAtBirth_Male  </td><td>152093</td></tr>\n",
       "\t<tr><td>SexAtBirth_Female</td><td>245131</td></tr>\n",
       "</tbody>\n",
       "</table>\n"
      ],
      "text/latex": [
       "A data.table: 2 × 2\n",
       "\\begin{tabular}{ll}\n",
       " sex\\_at\\_birth\\_source\\_value & N\\\\\n",
       " <chr> & <int>\\\\\n",
       "\\hline\n",
       "\t SexAtBirth\\_Male   & 152093\\\\\n",
       "\t SexAtBirth\\_Female & 245131\\\\\n",
       "\\end{tabular}\n"
      ],
      "text/markdown": [
       "\n",
       "A data.table: 2 × 2\n",
       "\n",
       "| sex_at_birth_source_value &lt;chr&gt; | N &lt;int&gt; |\n",
       "|---|---|\n",
       "| SexAtBirth_Male   | 152093 |\n",
       "| SexAtBirth_Female | 245131 |\n",
       "\n"
      ],
      "text/plain": [
       "  sex_at_birth_source_value N     \n",
       "1 SexAtBirth_Male           152093\n",
       "2 SexAtBirth_Female         245131"
      ]
     },
     "metadata": {},
     "output_type": "display_data"
    }
   ],
   "source": [
    "# breakdown of cisgender participants\n",
    "all_person_df[which(!noncisgender),.N,by=sex_at_birth_source_value]"
   ]
  },
  {
   "cell_type": "code",
   "execution_count": 8,
   "id": "2223ce1f",
   "metadata": {},
   "outputs": [
    {
     "data": {
      "text/html": [
       "<table class=\"dataframe\">\n",
       "<caption>A data.table: 7 × 2</caption>\n",
       "<thead>\n",
       "\t<tr><th scope=col>sex_at_birth_source_value</th><th scope=col>N</th></tr>\n",
       "\t<tr><th scope=col>&lt;chr&gt;</th><th scope=col>&lt;int&gt;</th></tr>\n",
       "</thead>\n",
       "<tbody>\n",
       "\t<tr><td>SexAtBirth_Female               </td><td>4434</td></tr>\n",
       "\t<tr><td>No matching concept             </td><td>4284</td></tr>\n",
       "\t<tr><td>PMI_Skip                        </td><td>3855</td></tr>\n",
       "\t<tr><td>SexAtBirth_Male                 </td><td>3076</td></tr>\n",
       "\t<tr><td>PMI_PreferNotToAnswer           </td><td> 346</td></tr>\n",
       "\t<tr><td>SexAtBirth_SexAtBirthNoneOfThese</td><td> 146</td></tr>\n",
       "\t<tr><td>SexAtBirth_Intersex             </td><td>  92</td></tr>\n",
       "</tbody>\n",
       "</table>\n"
      ],
      "text/latex": [
       "A data.table: 7 × 2\n",
       "\\begin{tabular}{ll}\n",
       " sex\\_at\\_birth\\_source\\_value & N\\\\\n",
       " <chr> & <int>\\\\\n",
       "\\hline\n",
       "\t SexAtBirth\\_Female                & 4434\\\\\n",
       "\t No matching concept              & 4284\\\\\n",
       "\t PMI\\_Skip                         & 3855\\\\\n",
       "\t SexAtBirth\\_Male                  & 3076\\\\\n",
       "\t PMI\\_PreferNotToAnswer            &  346\\\\\n",
       "\t SexAtBirth\\_SexAtBirthNoneOfThese &  146\\\\\n",
       "\t SexAtBirth\\_Intersex              &   92\\\\\n",
       "\\end{tabular}\n"
      ],
      "text/markdown": [
       "\n",
       "A data.table: 7 × 2\n",
       "\n",
       "| sex_at_birth_source_value &lt;chr&gt; | N &lt;int&gt; |\n",
       "|---|---|\n",
       "| SexAtBirth_Female                | 4434 |\n",
       "| No matching concept              | 4284 |\n",
       "| PMI_Skip                         | 3855 |\n",
       "| SexAtBirth_Male                  | 3076 |\n",
       "| PMI_PreferNotToAnswer            |  346 |\n",
       "| SexAtBirth_SexAtBirthNoneOfThese |  146 |\n",
       "| SexAtBirth_Intersex              |   92 |\n",
       "\n"
      ],
      "text/plain": [
       "  sex_at_birth_source_value        N   \n",
       "1 SexAtBirth_Female                4434\n",
       "2 No matching concept              4284\n",
       "3 PMI_Skip                         3855\n",
       "4 SexAtBirth_Male                  3076\n",
       "5 PMI_PreferNotToAnswer             346\n",
       "6 SexAtBirth_SexAtBirthNoneOfThese  146\n",
       "7 SexAtBirth_Intersex                92"
      ]
     },
     "metadata": {},
     "output_type": "display_data"
    }
   ],
   "source": [
    "# breakdown of noncisgender participants\n",
    "noncisgender_person_df<-all_person_df[which(noncisgender)]\n",
    "noncisgender_person_df[,.N,by=sex_at_birth_source_value][order(-N)]"
   ]
  },
  {
   "cell_type": "markdown",
   "id": "575ee02f",
   "metadata": {},
   "source": [
    "#### download conditions from cisgender participants"
   ]
  },
  {
   "cell_type": "code",
   "execution_count": 9,
   "id": "820cfd0b",
   "metadata": {
    "scrolled": true
   },
   "outputs": [
    {
     "data": {
      "text/html": [
       "<table class=\"dataframe\">\n",
       "<caption>A tibble: 6 × 3</caption>\n",
       "<thead>\n",
       "\t<tr><th scope=col>count</th><th scope=col>standard_concept_id</th><th scope=col>concept_name</th></tr>\n",
       "\t<tr><th scope=col>&lt;int&gt;</th><th scope=col>&lt;int&gt;</th><th scope=col>&lt;chr&gt;</th></tr>\n",
       "</thead>\n",
       "<tbody>\n",
       "\t<tr><td>110974</td><td>320128</td><td>Essential hypertension</td></tr>\n",
       "\t<tr><td> 89652</td><td>432867</td><td>Hyperlipidemia        </td></tr>\n",
       "\t<tr><td> 80798</td><td> 77670</td><td>Chest pain            </td></tr>\n",
       "\t<tr><td> 73538</td><td>254761</td><td>Cough                 </td></tr>\n",
       "\t<tr><td> 73174</td><td>200219</td><td>Abdominal pain        </td></tr>\n",
       "\t<tr><td> 68283</td><td>194133</td><td>Low back pain         </td></tr>\n",
       "</tbody>\n",
       "</table>\n"
      ],
      "text/latex": [
       "A tibble: 6 × 3\n",
       "\\begin{tabular}{lll}\n",
       " count & standard\\_concept\\_id & concept\\_name\\\\\n",
       " <int> & <int> & <chr>\\\\\n",
       "\\hline\n",
       "\t 110974 & 320128 & Essential hypertension\\\\\n",
       "\t  89652 & 432867 & Hyperlipidemia        \\\\\n",
       "\t  80798 &  77670 & Chest pain            \\\\\n",
       "\t  73538 & 254761 & Cough                 \\\\\n",
       "\t  73174 & 200219 & Abdominal pain        \\\\\n",
       "\t  68283 & 194133 & Low back pain         \\\\\n",
       "\\end{tabular}\n"
      ],
      "text/markdown": [
       "\n",
       "A tibble: 6 × 3\n",
       "\n",
       "| count &lt;int&gt; | standard_concept_id &lt;int&gt; | concept_name &lt;chr&gt; |\n",
       "|---|---|---|\n",
       "| 110974 | 320128 | Essential hypertension |\n",
       "|  89652 | 432867 | Hyperlipidemia         |\n",
       "|  80798 |  77670 | Chest pain             |\n",
       "|  73538 | 254761 | Cough                  |\n",
       "|  73174 | 200219 | Abdominal pain         |\n",
       "|  68283 | 194133 | Low back pain          |\n",
       "\n"
      ],
      "text/plain": [
       "  count  standard_concept_id concept_name          \n",
       "1 110974 320128              Essential hypertension\n",
       "2  89652 432867              Hyperlipidemia        \n",
       "3  80798  77670              Chest pain            \n",
       "4  73538 254761              Cough                 \n",
       "5  73174 200219              Abdominal pain        \n",
       "6  68283 194133              Low back pain         "
      ]
     },
     "metadata": {},
     "output_type": "display_data"
    }
   ],
   "source": [
    "number_of_participants_with_med_conditions_df <- bq_table_download(bq_project_query(\n",
    "    BILLING_PROJECT_ID, page_size = 25000,\n",
    "    query = str_glue('\n",
    "SELECT \n",
    "    COUNT(DISTINCT m.person_id) as count ,m.condition_concept_id AS standard_concept_id , c.concept_name as concept_name \n",
    "\n",
    "FROM `{CDR}.condition_occurrence` m \n",
    "\n",
    "LEFT JOIN `{CDR}.concept` c \n",
    "\n",
    "ON m.condition_concept_id = c.concept_id \n",
    "\n",
    "WHERE m.person_id NOT IN (',paste(noncisgender_person_df$person_id,collapse=\",\"),')\n",
    "\n",
    "group by m.condition_concept_id, c.concept_name \n",
    "\n",
    "order by count DESC\n",
    "')))\n",
    "\n",
    "\n",
    "head(number_of_participants_with_med_conditions_df)"
   ]
  },
  {
   "cell_type": "markdown",
   "id": "34586894",
   "metadata": {},
   "source": [
    "#### save it"
   ]
  },
  {
   "cell_type": "code",
   "execution_count": 10,
   "id": "e71f3609",
   "metadata": {},
   "outputs": [],
   "source": [
    "number_of_participants_with_med_conditions_df<-as.data.table(number_of_participants_with_med_conditions_df)\n",
    "fwrite(number_of_participants_with_med_conditions_df,'n_subj_by_condition_cisgender_only.csv')"
   ]
  },
  {
   "cell_type": "code",
   "execution_count": 11,
   "id": "4efdc63e",
   "metadata": {},
   "outputs": [],
   "source": [
    "number_of_participants_with_med_conditions_df<-fread('n_subj_by_condition_cisgender_only.csv')"
   ]
  },
  {
   "cell_type": "code",
   "execution_count": 12,
   "id": "b9d855eb",
   "metadata": {},
   "outputs": [
    {
     "name": "stdout",
     "output_type": "stream",
     "text": [
      "30556 conditions selected."
     ]
    }
   ],
   "source": [
    "cat(paste(nrow(number_of_participants_with_med_conditions_df),'conditions selected.'))"
   ]
  },
  {
   "cell_type": "markdown",
   "id": "2ca12a4b",
   "metadata": {},
   "source": [
    "#### log10 distribution of counts\n"
   ]
  },
  {
   "cell_type": "code",
   "execution_count": 13,
   "id": "0a4d77d1",
   "metadata": {},
   "outputs": [
    {
     "data": {
      "image/png": "[encoded data removed]",
      "text/plain": [
       "Plot with title “density(x = log10(number_of_participants_with_med_conditions_df[[\"count\"]]))”"
      ]
     },
     "metadata": {
      "image/png": {
       "height": 180,
       "width": 600
      }
     },
     "output_type": "display_data"
    }
   ],
   "source": [
    "options(repr.plot.width=10, repr.plot.height=3)\n",
    "plot(density(log10(number_of_participants_with_med_conditions_df[['count']])))"
   ]
  },
  {
   "cell_type": "markdown",
   "id": "57cbc628",
   "metadata": {},
   "source": [
    "### Reviewer question: The number of female participants who have EHR and number of male participants who have EHR are not included clearly. Those numbers should be reported at the beginning of the manuscript."
   ]
  },
  {
   "cell_type": "code",
   "execution_count": 14,
   "id": "bca39e2b",
   "metadata": {},
   "outputs": [
    {
     "data": {
      "text/html": [
       "<table class=\"dataframe\">\n",
       "<caption>A data.table: 2 × 2</caption>\n",
       "<thead>\n",
       "\t<tr><th scope=col>sex_at_birth_concept_id</th><th scope=col>unique_subject_count</th></tr>\n",
       "\t<tr><th scope=col>&lt;int&gt;</th><th scope=col>&lt;int&gt;</th></tr>\n",
       "</thead>\n",
       "<tbody>\n",
       "\t<tr><td>45878463</td><td>152551</td></tr>\n",
       "\t<tr><td>45880669</td><td> 92597</td></tr>\n",
       "</tbody>\n",
       "</table>\n"
      ],
      "text/latex": [
       "A data.table: 2 × 2\n",
       "\\begin{tabular}{ll}\n",
       " sex\\_at\\_birth\\_concept\\_id & unique\\_subject\\_count\\\\\n",
       " <int> & <int>\\\\\n",
       "\\hline\n",
       "\t 45878463 & 152551\\\\\n",
       "\t 45880669 &  92597\\\\\n",
       "\\end{tabular}\n"
      ],
      "text/markdown": [
       "\n",
       "A data.table: 2 × 2\n",
       "\n",
       "| sex_at_birth_concept_id &lt;int&gt; | unique_subject_count &lt;int&gt; |\n",
       "|---|---|\n",
       "| 45878463 | 152551 |\n",
       "| 45880669 |  92597 |\n",
       "\n"
      ],
      "text/plain": [
       "  sex_at_birth_concept_id unique_subject_count\n",
       "1 45878463                152551              \n",
       "2 45880669                 92597              "
      ]
     },
     "metadata": {},
     "output_type": "display_data"
    }
   ],
   "source": [
    "# Execute the query and download the results into a DataFrame\n",
    "participants_by_sex_df <- bq_table_download(bq_project_query(\n",
    "    BILLING_PROJECT_ID, \n",
    "    page_size = 25000,\n",
    "    query = glue::glue('\n",
    "SELECT\n",
    "    p.sex_at_birth_concept_id,\n",
    "    COUNT(DISTINCT m.person_id) AS unique_subject_count\n",
    "FROM `{CDR}.condition_occurrence` m \n",
    "LEFT JOIN `{CDR}.person` p ON m.person_id = p.person_id\n",
    "WHERE m.person_id NOT IN (',paste(noncisgender_person_df$person_id,collapse=\",\"),')\n",
    "GROUP BY p.sex_at_birth_concept_id\n",
    "')\n",
    "))\n",
    "setDT(participants_by_sex_df)\n",
    "# Display the first few rows of the DataFrame\n",
    "head(participants_by_sex_df)"
   ]
  },
  {
   "cell_type": "markdown",
   "id": "a083d427",
   "metadata": {},
   "source": [
    "participants with condition data available"
   ]
  },
  {
   "cell_type": "code",
   "execution_count": 15,
   "id": "aae569ef",
   "metadata": {},
   "outputs": [
    {
     "data": {
      "text/html": [
       "245148"
      ],
      "text/latex": [
       "245148"
      ],
      "text/markdown": [
       "245148"
      ],
      "text/plain": [
       "[1] 245148"
      ]
     },
     "metadata": {},
     "output_type": "display_data"
    }
   ],
   "source": [
    "participants_by_sex_df[,sum(unique_subject_count)]"
   ]
  },
  {
   "cell_type": "markdown",
   "id": "cedc60ee",
   "metadata": {},
   "source": [
    "### find out the number of participants with medical conditions"
   ]
  },
  {
   "cell_type": "markdown",
   "id": "a1defe00",
   "metadata": {},
   "source": [
    "#### We want to limit the conditions to those with 20 or more counts to avoid reporting limit"
   ]
  },
  {
   "cell_type": "code",
   "execution_count": 16,
   "id": "5c035fcb",
   "metadata": {},
   "outputs": [],
   "source": [
    "frequent_cond<-number_of_participants_with_med_conditions_df[count>=20][['standard_concept_id']]"
   ]
  },
  {
   "cell_type": "code",
   "execution_count": 17,
   "id": "3fecbe5a",
   "metadata": {},
   "outputs": [
    {
     "name": "stdout",
     "output_type": "stream",
     "text": [
      "12744 conditions reported in at least 20 participants."
     ]
    }
   ],
   "source": [
    "cat(paste(length(frequent_cond),\"conditions reported in at least 20 participants.\"))"
   ]
  },
  {
   "cell_type": "markdown",
   "id": "57318853",
   "metadata": {},
   "source": [
    "#### download table with conditions counted separately by sex_at_birth"
   ]
  },
  {
   "cell_type": "code",
   "execution_count": 18,
   "id": "88bac4d1",
   "metadata": {},
   "outputs": [
    {
     "data": {
      "text/html": [
       "<table class=\"dataframe\">\n",
       "<caption>A tibble: 6 × 4</caption>\n",
       "<thead>\n",
       "\t<tr><th scope=col>standard_concept_id</th><th scope=col>concept_name</th><th scope=col>sex_at_birth_concept_id</th><th scope=col>count</th></tr>\n",
       "\t<tr><th scope=col>&lt;int&gt;</th><th scope=col>&lt;chr&gt;</th><th scope=col>&lt;int&gt;</th><th scope=col>&lt;int&gt;</th></tr>\n",
       "</thead>\n",
       "<tbody>\n",
       "\t<tr><td>    0</td><td>No matching concept                     </td><td>45878463</td><td>45</td></tr>\n",
       "\t<tr><td>    0</td><td>No matching concept                     </td><td>45880669</td><td>27</td></tr>\n",
       "\t<tr><td>22274</td><td>Neoplasm of uncertain behavior of larynx</td><td>45880669</td><td>42</td></tr>\n",
       "\t<tr><td>22274</td><td>Neoplasm of uncertain behavior of larynx</td><td>45878463</td><td>27</td></tr>\n",
       "\t<tr><td>22281</td><td>Sickle cell-hemoglobin SS disease       </td><td>45878463</td><td>57</td></tr>\n",
       "\t<tr><td>22281</td><td>Sickle cell-hemoglobin SS disease       </td><td>45880669</td><td>35</td></tr>\n",
       "</tbody>\n",
       "</table>\n"
      ],
      "text/latex": [
       "A tibble: 6 × 4\n",
       "\\begin{tabular}{llll}\n",
       " standard\\_concept\\_id & concept\\_name & sex\\_at\\_birth\\_concept\\_id & count\\\\\n",
       " <int> & <chr> & <int> & <int>\\\\\n",
       "\\hline\n",
       "\t     0 & No matching concept                      & 45878463 & 45\\\\\n",
       "\t     0 & No matching concept                      & 45880669 & 27\\\\\n",
       "\t 22274 & Neoplasm of uncertain behavior of larynx & 45880669 & 42\\\\\n",
       "\t 22274 & Neoplasm of uncertain behavior of larynx & 45878463 & 27\\\\\n",
       "\t 22281 & Sickle cell-hemoglobin SS disease        & 45878463 & 57\\\\\n",
       "\t 22281 & Sickle cell-hemoglobin SS disease        & 45880669 & 35\\\\\n",
       "\\end{tabular}\n"
      ],
      "text/markdown": [
       "\n",
       "A tibble: 6 × 4\n",
       "\n",
       "| standard_concept_id &lt;int&gt; | concept_name &lt;chr&gt; | sex_at_birth_concept_id &lt;int&gt; | count &lt;int&gt; |\n",
       "|---|---|---|---|\n",
       "|     0 | No matching concept                      | 45878463 | 45 |\n",
       "|     0 | No matching concept                      | 45880669 | 27 |\n",
       "| 22274 | Neoplasm of uncertain behavior of larynx | 45880669 | 42 |\n",
       "| 22274 | Neoplasm of uncertain behavior of larynx | 45878463 | 27 |\n",
       "| 22281 | Sickle cell-hemoglobin SS disease        | 45878463 | 57 |\n",
       "| 22281 | Sickle cell-hemoglobin SS disease        | 45880669 | 35 |\n",
       "\n"
      ],
      "text/plain": [
       "  standard_concept_id concept_name                            \n",
       "1     0               No matching concept                     \n",
       "2     0               No matching concept                     \n",
       "3 22274               Neoplasm of uncertain behavior of larynx\n",
       "4 22274               Neoplasm of uncertain behavior of larynx\n",
       "5 22281               Sickle cell-hemoglobin SS disease       \n",
       "6 22281               Sickle cell-hemoglobin SS disease       \n",
       "  sex_at_birth_concept_id count\n",
       "1 45878463                45   \n",
       "2 45880669                27   \n",
       "3 45880669                42   \n",
       "4 45878463                27   \n",
       "5 45878463                57   \n",
       "6 45880669                35   "
      ]
     },
     "metadata": {},
     "output_type": "display_data"
    }
   ],
   "source": [
    "participants_with_med_conditions_by_sex_df <- bq_table_download(bq_project_query(\n",
    "    BILLING_PROJECT_ID, page_size = 25000,\n",
    "    query = str_glue('\n",
    "SELECT \n",
    "    m.condition_concept_id AS standard_concept_id,\n",
    "    c.concept_name as concept_name,\n",
    "    p.sex_at_birth_concept_id,\n",
    "    COUNT(DISTINCT m.person_id) as count\n",
    "FROM `{CDR}.condition_occurrence` m \n",
    "LEFT JOIN `{CDR}.concept` c \n",
    "ON m.condition_concept_id = c.concept_id \n",
    "LEFT JOIN `{CDR}.person` p\n",
    "ON m.person_id = p.person_id\n",
    "WHERE m.condition_concept_id IN (',paste(frequent_cond,collapse=\",\"),')\n",
    "AND m.person_id NOT IN (',paste(noncisgender_person_df$person_id,collapse=\",\"),')\n",
    "GROUP BY m.condition_concept_id, c.concept_name, p.sex_at_birth_concept_id\n",
    "ORDER BY m.condition_concept_id, count DESC\n",
    "')))\n",
    "\n",
    "head(participants_with_med_conditions_by_sex_df)"
   ]
  },
  {
   "cell_type": "code",
   "execution_count": 19,
   "id": "e21ff4b8",
   "metadata": {},
   "outputs": [],
   "source": [
    "fwrite(participants_with_med_conditions_by_sex_df,'cisgender_participants_with_med_conditions_by_sex_df')"
   ]
  },
  {
   "cell_type": "code",
   "execution_count": 20,
   "id": "1777735f",
   "metadata": {},
   "outputs": [],
   "source": [
    "participants_with_med_conditions_by_sex_df<-fread('cisgender_participants_with_med_conditions_by_sex_df')"
   ]
  },
  {
   "cell_type": "markdown",
   "id": "d5da8e6b",
   "metadata": {},
   "source": [
    "#### remove conditions with zero concept_id"
   ]
  },
  {
   "cell_type": "code",
   "execution_count": 21,
   "id": "9eb701ca",
   "metadata": {},
   "outputs": [
    {
     "data": {
      "text/html": [
       "<style>\n",
       ".list-inline {list-style: none; margin:0; padding: 0}\n",
       ".list-inline>li {display: inline-block}\n",
       ".list-inline>li:not(:last-child)::after {content: \"\\00b7\"; padding: 0 .5ex}\n",
       "</style>\n",
       "<ol class=list-inline><li>24721</li><li>4</li></ol>\n"
      ],
      "text/latex": [
       "\\begin{enumerate*}\n",
       "\\item 24721\n",
       "\\item 4\n",
       "\\end{enumerate*}\n"
      ],
      "text/markdown": [
       "1. 24721\n",
       "2. 4\n",
       "\n",
       "\n"
      ],
      "text/plain": [
       "[1] 24721     4"
      ]
     },
     "metadata": {},
     "output_type": "display_data"
    },
    {
     "data": {
      "text/html": [
       "<style>\n",
       ".list-inline {list-style: none; margin:0; padding: 0}\n",
       ".list-inline>li {display: inline-block}\n",
       ".list-inline>li:not(:last-child)::after {content: \"\\00b7\"; padding: 0 .5ex}\n",
       "</style>\n",
       "<ol class=list-inline><li>24719</li><li>4</li></ol>\n"
      ],
      "text/latex": [
       "\\begin{enumerate*}\n",
       "\\item 24719\n",
       "\\item 4\n",
       "\\end{enumerate*}\n"
      ],
      "text/markdown": [
       "1. 24719\n",
       "2. 4\n",
       "\n",
       "\n"
      ],
      "text/plain": [
       "[1] 24719     4"
      ]
     },
     "metadata": {},
     "output_type": "display_data"
    }
   ],
   "source": [
    "setDT(participants_with_med_conditions_by_sex_df)\n",
    "dim(participants_with_med_conditions_by_sex_df)\n",
    "participants_with_med_conditions_by_sex_df<-participants_with_med_conditions_by_sex_df[standard_concept_id!=0]\n",
    "dim(participants_with_med_conditions_by_sex_df)"
   ]
  },
  {
   "cell_type": "markdown",
   "id": "2c3f0684",
   "metadata": {},
   "source": [
    "#### explore distribution of counts by conditions in males"
   ]
  },
  {
   "cell_type": "code",
   "execution_count": 22,
   "id": "de011003",
   "metadata": {},
   "outputs": [],
   "source": [
    "# 45880669 (male) Look for conditions with a sex bias\n",
    "male_cond_count<-participants_with_med_conditions_by_sex_df[, list(\n",
    "  male_count = sum(count[sex_at_birth_concept_id == 45880669]),\n",
    "  total_count = sum(count)\n",
    "), by = .(standard_concept_id, concept_name)]\n",
    "male_cond_count[,male_frac:=male_count/total_count]"
   ]
  },
  {
   "cell_type": "markdown",
   "id": "8c2304f3",
   "metadata": {},
   "source": [
    "*Looks like trimodal distribution* - female-specific to the left, sex non-sepcific in the middle, and male-specific to the right."
   ]
  },
  {
   "cell_type": "code",
   "execution_count": 23,
   "id": "6fb8b426",
   "metadata": {},
   "outputs": [
    {
     "data": {
      "image/png": "[encoded data removed]",
      "text/plain": [
       "Plot with title “condition frequency in males”"
      ]
     },
     "metadata": {
      "image/png": {
       "height": 150,
       "width": 240
      }
     },
     "output_type": "display_data"
    }
   ],
   "source": [
    "options(repr.plot.width=4, repr.plot.height=2.5)\n",
    "plot(density(male_cond_count[['male_frac']]),main='condition frequency in males')"
   ]
  },
  {
   "cell_type": "markdown",
   "id": "058d7a49",
   "metadata": {},
   "source": [
    "#### we set sex-specific conditions as those observed in over 95% or under 5% of males"
   ]
  },
  {
   "cell_type": "code",
   "execution_count": 24,
   "id": "e03da14f",
   "metadata": {
    "scrolled": true
   },
   "outputs": [
    {
     "name": "stdout",
     "output_type": "stream",
     "text": [
      "1314 conditions"
     ]
    },
    {
     "data": {
      "text/html": [
       "<table class=\"dataframe\">\n",
       "<caption>A data.table: 6 × 5</caption>\n",
       "<thead>\n",
       "\t<tr><th scope=col>standard_concept_id</th><th scope=col>concept_name</th><th scope=col>male_count</th><th scope=col>total_count</th><th scope=col>male_frac</th></tr>\n",
       "\t<tr><th scope=col>&lt;int&gt;</th><th scope=col>&lt;chr&gt;</th><th scope=col>&lt;int&gt;</th><th scope=col>&lt;int&gt;</th><th scope=col>&lt;dbl&gt;</th></tr>\n",
       "</thead>\n",
       "<tbody>\n",
       "\t<tr><td>26662</td><td>Testicular hypofunction      </td><td>4157</td><td> 4201</td><td>0.989526303</td></tr>\n",
       "\t<tr><td>26935</td><td>Disorder of endocrine testis </td><td> 229</td><td>  230</td><td>0.995652174</td></tr>\n",
       "\t<tr><td>30969</td><td>Testicular hyperfunction     </td><td>  52</td><td>   53</td><td>0.981132075</td></tr>\n",
       "\t<tr><td>72576</td><td>Benign tumor of breast       </td><td>  21</td><td> 2578</td><td>0.008145849</td></tr>\n",
       "\t<tr><td>73723</td><td>Benign neoplasm of epididymis</td><td>  23</td><td>   24</td><td>0.958333333</td></tr>\n",
       "\t<tr><td>73819</td><td>Pain of breast               </td><td> 593</td><td>13598</td><td>0.043609354</td></tr>\n",
       "</tbody>\n",
       "</table>\n"
      ],
      "text/latex": [
       "A data.table: 6 × 5\n",
       "\\begin{tabular}{lllll}\n",
       " standard\\_concept\\_id & concept\\_name & male\\_count & total\\_count & male\\_frac\\\\\n",
       " <int> & <chr> & <int> & <int> & <dbl>\\\\\n",
       "\\hline\n",
       "\t 26662 & Testicular hypofunction       & 4157 &  4201 & 0.989526303\\\\\n",
       "\t 26935 & Disorder of endocrine testis  &  229 &   230 & 0.995652174\\\\\n",
       "\t 30969 & Testicular hyperfunction      &   52 &    53 & 0.981132075\\\\\n",
       "\t 72576 & Benign tumor of breast        &   21 &  2578 & 0.008145849\\\\\n",
       "\t 73723 & Benign neoplasm of epididymis &   23 &    24 & 0.958333333\\\\\n",
       "\t 73819 & Pain of breast                &  593 & 13598 & 0.043609354\\\\\n",
       "\\end{tabular}\n"
      ],
      "text/markdown": [
       "\n",
       "A data.table: 6 × 5\n",
       "\n",
       "| standard_concept_id &lt;int&gt; | concept_name &lt;chr&gt; | male_count &lt;int&gt; | total_count &lt;int&gt; | male_frac &lt;dbl&gt; |\n",
       "|---|---|---|---|---|\n",
       "| 26662 | Testicular hypofunction       | 4157 |  4201 | 0.989526303 |\n",
       "| 26935 | Disorder of endocrine testis  |  229 |   230 | 0.995652174 |\n",
       "| 30969 | Testicular hyperfunction      |   52 |    53 | 0.981132075 |\n",
       "| 72576 | Benign tumor of breast        |   21 |  2578 | 0.008145849 |\n",
       "| 73723 | Benign neoplasm of epididymis |   23 |    24 | 0.958333333 |\n",
       "| 73819 | Pain of breast                |  593 | 13598 | 0.043609354 |\n",
       "\n"
      ],
      "text/plain": [
       "  standard_concept_id concept_name                  male_count total_count\n",
       "1 26662               Testicular hypofunction       4157        4201      \n",
       "2 26935               Disorder of endocrine testis   229         230      \n",
       "3 30969               Testicular hyperfunction        52          53      \n",
       "4 72576               Benign tumor of breast          21        2578      \n",
       "5 73723               Benign neoplasm of epididymis   23          24      \n",
       "6 73819               Pain of breast                 593       13598      \n",
       "  male_frac  \n",
       "1 0.989526303\n",
       "2 0.995652174\n",
       "3 0.981132075\n",
       "4 0.008145849\n",
       "5 0.958333333\n",
       "6 0.043609354"
      ]
     },
     "metadata": {},
     "output_type": "display_data"
    }
   ],
   "source": [
    "sex_cond<-male_cond_count[male_frac>.95|male_frac<.05]\n",
    "cat(paste(nrow(sex_cond),'conditions'))\n",
    "head(sex_cond[male_count>20])"
   ]
  },
  {
   "cell_type": "markdown",
   "id": "70464024",
   "metadata": {},
   "source": [
    "#### exclude breast since males also have breast and can have rare breast-related diseases"
   ]
  },
  {
   "cell_type": "code",
   "execution_count": 25,
   "id": "e96ba346",
   "metadata": {},
   "outputs": [
    {
     "name": "stdout",
     "output_type": "stream",
     "text": [
      "1183 conditions"
     ]
    }
   ],
   "source": [
    "sex_cond<-sex_cond[grep(\"breast|mamm\",concept_name,ignore.case = T,invert = T)]\n",
    "cat(paste(nrow(sex_cond),'conditions'))"
   ]
  },
  {
   "cell_type": "markdown",
   "id": "7a823095",
   "metadata": {},
   "source": [
    "Conditions observed in 100% male or 100% female participants are rarer than those observed in mixed sexes"
   ]
  },
  {
   "cell_type": "markdown",
   "id": "48c43837",
   "metadata": {},
   "source": [
    "*Figure 1a*"
   ]
  },
  {
   "cell_type": "code",
   "execution_count": 26,
   "id": "b2475eff",
   "metadata": {
    "scrolled": true
   },
   "outputs": [
    {
     "data": {
      "text/html": [
       "<strong>png:</strong> 2"
      ],
      "text/latex": [
       "\\textbf{png:} 2"
      ],
      "text/markdown": [
       "**png:** 2"
      ],
      "text/plain": [
       "png \n",
       "  2 "
      ]
     },
     "metadata": {},
     "output_type": "display_data"
    },
    {
     "data": {
      "image/png": "[encoded data removed]",
      "text/plain": [
       "plot without title"
      ]
     },
     "metadata": {
      "image/png": {
       "height": 150,
       "width": 240
      }
     },
     "output_type": "display_data"
    }
   ],
   "source": [
    "options(repr.plot.width=4, repr.plot.height=2.5)\n",
    "g<-ggplot(sex_cond,aes(x=log10(total_count),\n",
    "                    y=ifelse(male_frac%in%c(1,0),'yes','no')))+geom_boxplot()+\n",
    "ylab(\"Exclusively in a single sex\")+theme_bw()+xlab('Log10(Total Participant Count)')+\n",
    "facet_grid(~ifelse(male_frac>.5,'male-biased','female-biased'));g\n",
    "pdf('output/condition_size_by_exclusivity.pdf',w=4,h=2.5)\n",
    "g\n",
    "dev.off()"
   ]
  },
  {
   "cell_type": "markdown",
   "id": "cfa161a0",
   "metadata": {},
   "source": [
    "There are more conditions with 100% concordance (probably because they are less frequent and do not allow this problem to be detected)  \n",
    "The number of conditions by sex is quite different"
   ]
  },
  {
   "cell_type": "markdown",
   "id": "713b011a",
   "metadata": {},
   "source": [
    "*Figure 1b*"
   ]
  },
  {
   "cell_type": "code",
   "execution_count": 27,
   "id": "f7b9f2c0",
   "metadata": {
    "scrolled": true
   },
   "outputs": [
    {
     "data": {
      "text/html": [
       "<table class=\"dataframe\">\n",
       "<caption>A data.table: 4 × 3</caption>\n",
       "<thead>\n",
       "\t<tr><th scope=col>male-specific</th><th scope=col>perfect concordance</th><th scope=col>N</th></tr>\n",
       "\t<tr><th scope=col>&lt;lgl&gt;</th><th scope=col>&lt;lgl&gt;</th><th scope=col>&lt;int&gt;</th></tr>\n",
       "</thead>\n",
       "<tbody>\n",
       "\t<tr><td>FALSE</td><td>FALSE</td><td>379</td></tr>\n",
       "\t<tr><td>FALSE</td><td> TRUE</td><td>647</td></tr>\n",
       "\t<tr><td> TRUE</td><td>FALSE</td><td> 78</td></tr>\n",
       "\t<tr><td> TRUE</td><td> TRUE</td><td> 79</td></tr>\n",
       "</tbody>\n",
       "</table>\n"
      ],
      "text/latex": [
       "A data.table: 4 × 3\n",
       "\\begin{tabular}{lll}\n",
       " male-specific & perfect concordance & N\\\\\n",
       " <lgl> & <lgl> & <int>\\\\\n",
       "\\hline\n",
       "\t FALSE & FALSE & 379\\\\\n",
       "\t FALSE &  TRUE & 647\\\\\n",
       "\t  TRUE & FALSE &  78\\\\\n",
       "\t  TRUE &  TRUE &  79\\\\\n",
       "\\end{tabular}\n"
      ],
      "text/markdown": [
       "\n",
       "A data.table: 4 × 3\n",
       "\n",
       "| male-specific &lt;lgl&gt; | perfect concordance &lt;lgl&gt; | N &lt;int&gt; |\n",
       "|---|---|---|\n",
       "| FALSE | FALSE | 379 |\n",
       "| FALSE |  TRUE | 647 |\n",
       "|  TRUE | FALSE |  78 |\n",
       "|  TRUE |  TRUE |  79 |\n",
       "\n"
      ],
      "text/plain": [
       "  male-specific perfect concordance N  \n",
       "1 FALSE         FALSE               379\n",
       "2 FALSE          TRUE               647\n",
       "3  TRUE         FALSE                78\n",
       "4  TRUE          TRUE                79"
      ]
     },
     "metadata": {},
     "output_type": "display_data"
    }
   ],
   "source": [
    "condition_breakdown<-sex_cond[,.N,by=.(male_frac>.5,male_frac%in%c(1,0))]\n",
    "colnames(condition_breakdown)[1:2]<-c('male-specific','perfect concordance')\n",
    "condition_breakdown[order(condition_breakdown[[1]],condition_breakdown[[2]])]"
   ]
  },
  {
   "cell_type": "code",
   "execution_count": 28,
   "id": "03786e7f",
   "metadata": {},
   "outputs": [
    {
     "name": "stdout",
     "output_type": "stream",
     "text": [
      "Female-biased conditions are 6.54 folds of male-biased conditions"
     ]
    }
   ],
   "source": [
    "cat(paste(\"Female-biased conditions are\",round(sum(condition_breakdown[which(!`male-specific`)][['N']])/\n",
    "      sum(condition_breakdown[which(`male-specific`)][['N']]),2),\"folds of male-biased conditions\"))"
   ]
  },
  {
   "cell_type": "markdown",
   "id": "b3aed000",
   "metadata": {},
   "source": [
    "#### explore number of subjects by sex and by sex-biased conditions (absolute vs. mixed)"
   ]
  },
  {
   "cell_type": "code",
   "execution_count": 29,
   "id": "10d3b37f",
   "metadata": {},
   "outputs": [],
   "source": [
    "sex_cond[,female_count:=total_count-male_count]\n",
    "sex_cond[,female_frac:=1-male_frac]"
   ]
  },
  {
   "cell_type": "code",
   "execution_count": 30,
   "id": "ee00b02e",
   "metadata": {},
   "outputs": [],
   "source": [
    "sex_cond.backup<-sex_cond"
   ]
  },
  {
   "cell_type": "code",
   "execution_count": 31,
   "id": "89404dd5",
   "metadata": {},
   "outputs": [
    {
     "name": "stdout",
     "output_type": "stream",
     "text": [
      "9005 males have 100% male-biased conditions"
     ]
    }
   ],
   "source": [
    "cat(paste(sum(with(sex_cond[male_frac==1],male_count)),\"males have 100% male-biased conditions\"))"
   ]
  },
  {
   "cell_type": "code",
   "execution_count": 32,
   "id": "d19decc4",
   "metadata": {},
   "outputs": [
    {
     "name": "stdout",
     "output_type": "stream",
     "text": [
      "200328 females have 100% female-biased conditions"
     ]
    }
   ],
   "source": [
    "cat(paste(sum(with(sex_cond[male_frac==0],total_count-male_count)),\"females have 100% female-biased conditions\"))"
   ]
  },
  {
   "cell_type": "code",
   "execution_count": 33,
   "id": "17513d24",
   "metadata": {},
   "outputs": [
    {
     "name": "stdout",
     "output_type": "stream",
     "text": [
      "ratio of F:M is 22.2 in conditions with 100% sex concordance"
     ]
    }
   ],
   "source": [
    "cat(paste(\"ratio of F:M is\",round(200328/9005,1),'in conditions with 100% sex concordance'))"
   ]
  },
  {
   "cell_type": "code",
   "execution_count": 34,
   "id": "7471bbad",
   "metadata": {},
   "outputs": [],
   "source": [
    "sex_cond<-sex_cond[male_frac!=0 & male_frac!=1][order(male_frac)]"
   ]
  },
  {
   "cell_type": "code",
   "execution_count": 35,
   "id": "7fc68d4c",
   "metadata": {},
   "outputs": [
    {
     "name": "stdout",
     "output_type": "stream",
     "text": [
      "109588 males have male-biased conditions"
     ]
    }
   ],
   "source": [
    "cat(paste(sum(with(sex_cond[male_frac>.5],male_count)),\"males have male-biased conditions\"))"
   ]
  },
  {
   "cell_type": "code",
   "execution_count": 36,
   "id": "4c00afd3",
   "metadata": {},
   "outputs": [
    {
     "name": "stdout",
     "output_type": "stream",
     "text": [
      "515 females have male-biased conditions"
     ]
    }
   ],
   "source": [
    "cat(paste(sum(with(sex_cond[male_frac>.5],total_count-male_count)),\"females have male-biased conditions\"))"
   ]
  },
  {
   "cell_type": "code",
   "execution_count": 37,
   "id": "04ea79db",
   "metadata": {},
   "outputs": [
    {
     "name": "stdout",
     "output_type": "stream",
     "text": [
      "741548 females have female-biased conditions"
     ]
    }
   ],
   "source": [
    "cat(paste(sum(with(sex_cond[male_frac<.5],total_count-male_count)),\"females have female-biased conditions\"))"
   ]
  },
  {
   "cell_type": "code",
   "execution_count": 38,
   "id": "3731418a",
   "metadata": {},
   "outputs": [
    {
     "name": "stdout",
     "output_type": "stream",
     "text": [
      "2025 males have female-biased conditions"
     ]
    }
   ],
   "source": [
    "cat(paste(sum(with(sex_cond[male_frac<.5],male_count)),\"males have female-biased conditions\"))"
   ]
  },
  {
   "cell_type": "markdown",
   "id": "12dcbdd8",
   "metadata": {},
   "source": [
    "#### what is the relationship between total count and % mix up?"
   ]
  },
  {
   "cell_type": "code",
   "execution_count": 39,
   "id": "74ec7c94",
   "metadata": {},
   "outputs": [],
   "source": [
    "female_cond<-sex_cond[male_frac<.5][['standard_concept_id']]\n",
    "male_cond<-sex_cond[male_frac>.5][['standard_concept_id']]"
   ]
  },
  {
   "cell_type": "markdown",
   "id": "bfb9e94f",
   "metadata": {},
   "source": [
    "*Figure 3a*"
   ]
  },
  {
   "cell_type": "code",
   "execution_count": 40,
   "id": "5be0fd65",
   "metadata": {},
   "outputs": [
    {
     "data": {
      "text/html": [
       "<strong>png:</strong> 2"
      ],
      "text/latex": [
       "\\textbf{png:} 2"
      ],
      "text/markdown": [
       "**png:** 2"
      ],
      "text/plain": [
       "png \n",
       "  2 "
      ]
     },
     "metadata": {},
     "output_type": "display_data"
    },
    {
     "data": {
      "image/png": "[encoded data removed]",
      "text/plain": [
       "plot without title"
      ]
     },
     "metadata": {
      "image/png": {
       "height": 150,
       "width": 300
      }
     },
     "output_type": "display_data"
    }
   ],
   "source": [
    "g1<-ggplot(sex_cond[standard_concept_id%in%female_cond],aes(x=log10(total_count),y=male_frac))+\n",
    "geom_point(alpha=.3)+theme_bw()+ggtitle(\"female-biased\\nconditions\")+\n",
    "ylab('Condition-specific IR')+xlab('Log10(Participant Count)')\n",
    "g2<-ggplot(sex_cond[standard_concept_id%in%male_cond],aes(x=log10(total_count),y=(1-male_frac)))+\n",
    "geom_point(alpha=.3)+theme_bw()+ggtitle(\"male-biased\\nconditions\")+\n",
    "ylab('Condition-specific IR')+xlab('Log10(Participant Count)')\n",
    "options(repr.plot.width=5, repr.plot.height=2.5);g1|g2\n",
    "pdf('output/CIR_all_conditions.pdf',w=5,h=2.5);g1|g2;dev.off()"
   ]
  },
  {
   "cell_type": "markdown",
   "id": "129b8f61",
   "metadata": {},
   "source": [
    "The fraction is more reliable when the total count is big, so we want to limit the investigation to those with more than 1000 cases and have 20 or more mixed up cases."
   ]
  },
  {
   "cell_type": "code",
   "execution_count": 41,
   "id": "5a834b19",
   "metadata": {},
   "outputs": [
    {
     "data": {
      "text/html": [
       "379"
      ],
      "text/latex": [
       "379"
      ],
      "text/markdown": [
       "379"
      ],
      "text/plain": [
       "[1] 379"
      ]
     },
     "metadata": {},
     "output_type": "display_data"
    },
    {
     "data": {
      "text/html": [
       "78"
      ],
      "text/latex": [
       "78"
      ],
      "text/markdown": [
       "78"
      ],
      "text/plain": [
       "[1] 78"
      ]
     },
     "metadata": {},
     "output_type": "display_data"
    }
   ],
   "source": [
    "length(female_cond)\n",
    "length(male_cond)"
   ]
  },
  {
   "cell_type": "code",
   "execution_count": 42,
   "id": "b3ffa7af",
   "metadata": {},
   "outputs": [
    {
     "data": {
      "text/html": [
       "162"
      ],
      "text/latex": [
       "162"
      ],
      "text/markdown": [
       "162"
      ],
      "text/plain": [
       "[1] 162"
      ]
     },
     "metadata": {},
     "output_type": "display_data"
    },
    {
     "data": {
      "text/html": [
       "18"
      ],
      "text/latex": [
       "18"
      ],
      "text/markdown": [
       "18"
      ],
      "text/plain": [
       "[1] 18"
      ]
     },
     "metadata": {},
     "output_type": "display_data"
    }
   ],
   "source": [
    "sex_cond<-sex_cond[total_count>1000]\n",
    "female_cond<-sex_cond[male_frac<.5][['standard_concept_id']]\n",
    "male_cond<-sex_cond[male_frac>.5][['standard_concept_id']]\n",
    "length(female_cond)\n",
    "length(male_cond)"
   ]
  },
  {
   "cell_type": "markdown",
   "id": "e16550a7",
   "metadata": {},
   "source": [
    "*Figure 3b*"
   ]
  },
  {
   "cell_type": "code",
   "execution_count": 43,
   "id": "48e5e607",
   "metadata": {
    "scrolled": true
   },
   "outputs": [
    {
     "data": {
      "text/html": [
       "<strong>png:</strong> 2"
      ],
      "text/latex": [
       "\\textbf{png:} 2"
      ],
      "text/markdown": [
       "**png:** 2"
      ],
      "text/plain": [
       "png \n",
       "  2 "
      ]
     },
     "metadata": {},
     "output_type": "display_data"
    },
    {
     "data": {
      "image/png": "[encoded data removed]",
      "text/plain": [
       "plot without title"
      ]
     },
     "metadata": {
      "image/png": {
       "height": 150,
       "width": 300
      }
     },
     "output_type": "display_data"
    }
   ],
   "source": [
    "g1<-ggplot(sex_cond[standard_concept_id%in%female_cond],aes(x=log10(total_count),y=male_frac))+\n",
    "geom_point(alpha=.3)+theme_bw()+ggtitle(\"female-biased\\nconditions\")+\n",
    "ylab('Condition-specific IR')+xlab('Log10(Participant Count)')\n",
    "g2<-ggplot(sex_cond[standard_concept_id%in%male_cond],aes(x=log10(total_count),y=(1-male_frac)))+\n",
    "geom_point(alpha=.3)+theme_bw()+ggtitle(\"male-biased\\nconditions\")+\n",
    "ylab('Condition-specific IR')+xlab('Log10(Participant Count)')\n",
    "options(repr.plot.width=5, repr.plot.height=2.5);g1|g2\n",
    "pdf('output/CIR_large_conditions.pdf',w=5,h=2.5);g1|g2;dev.off()"
   ]
  },
  {
   "cell_type": "markdown",
   "id": "50a7df41",
   "metadata": {},
   "source": [
    "#### Filter by non-exclusivity"
   ]
  },
  {
   "cell_type": "markdown",
   "id": "fd9f594f",
   "metadata": {},
   "source": [
    "Ask ChatGPT to identify terms that are not sex-specific"
   ]
  },
  {
   "cell_type": "markdown",
   "id": "1873bd79",
   "metadata": {},
   "source": [
    "Prompt:\n",
    "Here is a list of conditions. Please go through all of these terms and provide justification one at a time, explain whether they are sex-specific based on your knowledge. At the end, construct the list of non-sex-specific conditions in the form of an R character vector.\n",
    "\n"
   ]
  },
  {
   "cell_type": "code",
   "execution_count": 44,
   "id": "1b429b29",
   "metadata": {
    "scrolled": false
   },
   "outputs": [
    {
     "data": {
      "text/html": [
       "180"
      ],
      "text/latex": [
       "180"
      ],
      "text/markdown": [
       "180"
      ],
      "text/plain": [
       "[1] 180"
      ]
     },
     "metadata": {},
     "output_type": "display_data"
    }
   ],
   "source": [
    "length(sex_cond[[2]])"
   ]
  },
  {
   "cell_type": "code",
   "execution_count": 45,
   "id": "e24d03f8",
   "metadata": {},
   "outputs": [
    {
     "data": {
      "text/html": [
       "<style>\n",
       ".list-inline {list-style: none; margin:0; padding: 0}\n",
       ".list-inline>li {display: inline-block}\n",
       ".list-inline>li:not(:last-child)::after {content: \"\\00b7\"; padding: 0 .5ex}\n",
       "</style>\n",
       "<ol class=list-inline><li>'Acute vaginitis'</li><li>'Menopause present'</li><li>'Postmenopausal bleeding'</li><li>'Noninflammatory disorder of the vagina'</li><li>'Acquired absence of cervix and uterus'</li><li>'Vulval and/or perineal noninflammatory disorders'</li><li>'Excessive and frequent menstruation'</li><li>'Finding of menstrual bleeding'</li><li>'Cervicitis and endocervicitis'</li><li>'Cyst of ovary'</li><li>'Leukorrhea'</li><li>'Uterine leiomyoma'</li><li>'Labor and delivery complicated by fetal heart rate anomaly'</li><li>'Subserous leiomyoma of uterus'</li><li>'Gestation period, 32 weeks'</li><li>'Gestation period, 40 weeks'</li><li>'Intramural leiomyoma of uterus'</li><li>'Intermenstrual bleeding - irregular'</li><li>'Cord entanglement without compression'</li><li>'Gestation period, 18 weeks'</li><li>'Gestation period, 8 weeks'</li><li>'Reduced fetal movement'</li><li>'Endometriosis of uterus'</li><li>'Herniation of rectum into vagina'</li><li>'Irregular periods'</li><li>'Cervical intraepithelial neoplasia grade 1'</li><li>'Gestation period, 30 weeks'</li><li>'Submucous leiomyoma of uterus'</li><li>'Poor fetal growth affecting management'</li><li>'Polyp of corpus uteri'</li><li>'Deliveries by cesarean'</li><li>'Disorder of uterus'</li><li>'Inflammation of cervix'</li><li>'Excessive fetal growth affecting management of mother'</li><li>'Vomiting of pregnancy'</li><li>'Maternal obesity complicating pregnancy, childbirth and the puerperium, antepartum'</li><li>'Gestation period, 29 weeks'</li><li>'Antepartum hemorrhage'</li><li>'Pregnancy test negative'</li><li>'Uterovaginal prolapse'</li><li>'Genitourinary tract hemorrhage'</li><li>'Perimenopausal disorder'</li><li>'Uncertain viability of pregnancy'</li><li>'Dysmenorrhea'</li><li>'Gestation period, 35 weeks'</li><li>'Disorder of menstruation'</li><li>'Delivery normal'</li><li>'First degree perineal tear during delivery - delivered'</li><li>'Atypical squamous cells of undetermined significance on cervical Papanicolaou smear'</li><li>'Gestation less than 24 weeks'</li><li>'Gestation period, 10 weeks'</li><li>'Gestation less than 9 weeks'</li><li>'Pre-eclampsia'</li><li>'Polycystic ovary syndrome'</li><li>'Single live birth'</li><li>'Miscarriage without complication'</li><li>'Gestation period, 36 weeks'</li><li>'Gestation period, 33 weeks'</li><li>'Mechanical complication of intrauterine contraceptive device'</li><li>'Premenstrual tension syndrome'</li><li>'Third trimester pregnancy'</li><li>'Maternal AND/OR fetal condition affecting labor AND/OR delivery'</li><li>'Gestation period, 28 weeks'</li><li>'Gestation period, 19 weeks'</li><li>'Gestation period, 38 weeks'</li><li>'Anemia in mother complicating childbirth'</li><li>'Menopausal and postmenopausal disorders'</li><li>'Gestation period, 39 weeks'</li><li>'Gestation period, 15 weeks'</li><li>'Gestation period, 34 weeks'</li><li>'False labor before 37 completed weeks of gestation'</li><li>'Cervicovaginal cytology: Low grade squamous intraepithelial lesion'</li><li>'Post-term pregnancy'</li><li>'Trauma to perineum and/or vulva during delivery'</li><li>'Complication occurring during labor and delivery'</li><li>'Human papillomavirus deoxyribonucleic acid test positive, high risk on cervical specimen'</li><li>'High risk pregnancy due to history of preterm labor'</li><li>'Corpus luteum cyst'</li><li>'Dysplasia of cervix'</li><li>'High risk pregnancy'</li><li>'Second trimester pregnancy'</li><li>'Gestation period, 20 weeks'</li><li>'Postmenopausal state'</li><li>'Abnormal fetal heart rate'</li><li>'Vaginitis'</li><li>'Gestation period, 22 weeks'</li><li>'Group B streptococcus infection in mother complicating childbirth'</li><li>'Gestation period, 27 weeks'</li><li>'Endocrine, nutritional and metabolic disease complicating pregnancy, childbirth and puerperium'</li><li>'Gestational diabetes mellitus'</li><li>'Ovarian failure'</li><li>'Gestation period, 37 weeks'</li><li>'Amenorrhea'</li><li>'Pregnancy-induced hypertension'</li><li>'Gestation period, 23 weeks'</li><li>'Menorrhagia'</li><li>'Unplanned pregnancy'</li><li>'Atypical glandular cells on cervical Papanicolaou smear'</li><li>'Gestation period, 16 weeks'</li><li>'Dyspareunia'</li><li>'Mental disorders during pregnancy, childbirth and the puerperium'</li><li>'Polycystic ovary'</li><li>'Complication of the puerperium'</li><li>'Labor and delivery complication by meconium in amniotic fluid'</li><li>'Maternal obesity syndrome'</li><li>'Endometriosis (clinical)'</li><li>'Maternal hypertension'</li><li>'Menopausal symptom'</li><li>'Finding of length of gestation'</li><li>'Abnormal cytological finding in specimen from female genital organ'</li><li>'Candida infection of genital region'</li><li>'Complication occurring during pregnancy'</li><li>'Carcinoma in situ of uterine cervix'</li><li>'Pregnancy test finding'</li><li>'Disorder of uterine cervix'</li><li>'Disease of nervous system complicating pregnancy, childbirth and puerperium'</li><li>'Fetal condition affecting obstetrical care of mother'</li><li>'Mother delivered'</li><li>'Postpartum finding'</li><li>'Obesity in mother complicating childbirth'</li><li>'Abnormal cervical Papanicolaou smear with positive human papillomavirus deoxyribonucleic acid test'</li><li>'Gestation period, 25 weeks'</li><li>'First trimester pregnancy'</li><li>'Gestation period, 13 weeks'</li><li>'Normal pregnancy'</li><li>'Female pelvic inflammatory disease'</li><li>'Trichomonal vulvovaginitis'</li><li>'Gestation period, 14 weeks'</li><li>'Disease of the respiratory system complicating pregnancy, childbirth and/or the puerperium'</li><li>'Viral disease in mother complicating pregnancy, childbirth AND/OR puerperium'</li><li>'Mild hyperemesis gravidarum'</li><li>'Menopause finding'</li><li>'Perimenopausal state'</li><li>'Urinary tract infection in pregnancy'</li><li>'Abnormal glucose tolerance in mother complicating pregnancy, childbirth AND/OR puerperium'</li><li>'Female genitalia finding'</li><li>'Female genital organ symptoms'</li><li>'Anemia of pregnancy'</li><li>'Menopausal syndrome'</li><li>'Suspected fetal abnormality affecting management of mother'</li><li>'Inflammatory disease of female genital structure'</li><li>'Complication of pregnancy, childbirth and/or the puerperium'</li><li>'Group B Streptococcus carrier'</li><li>'Pruritus of vulva'</li><li>'Disorder of female genital organs'</li><li>'Gestation period, 31 weeks'</li><li>'Primary malignant neoplasm of ovary'</li><li>'Estrogen receptor positive tumor'</li><li>'Pregnant'</li><li>'Noninflammatory cervical disorder'</li><li>'Benign neoplasm of ovary'</li><li>'Finding related to pregnancy'</li><li>'Prolapse of female genital organs'</li><li>'Disorder of pregnancy'</li><li>'Carrier of cystic fibrosis gene mutation'</li><li>'Discharge from nipple'</li><li>'Primary ovarian failure'</li><li>'Hirsutism'</li><li>'Female infertility'</li><li>'Drug dependence in mother complicating pregnancy, childbirth AND/OR puerperium'</li><li>'Lichen sclerosus et atrophicus'</li><li>'Asymptomatic'</li><li>'Psychosexual dysfunction associated with inhibited sexual excitement'</li><li>'Inflammatory disorder of male genital organ'</li><li>'Testicular hypofunction'</li><li>'Primary malignant neoplasm of prostate'</li><li>'Hyperplasia of prostate'</li><li>'Prostatitis'</li><li>'Varicocele'</li><li>'Secondary erectile dysfunction'</li><li>'Disorder of prostate'</li><li>'Disorder of male genital organ'</li><li>'Hydrocele of tunica vaginalis'</li><li>'Pain in testicle'</li><li>'Disorder of penis'</li><li>'Raised prostate specific antigen'</li><li>'Benign prostatic hypertrophy without outflow obstruction'</li><li>'Benign prostatic hypertrophy with outflow obstruction'</li><li>'Benign prostatic hyperplasia'</li><li>'Erectile dysfunction'</li></ol>\n"
      ],
      "text/latex": [
       "\\begin{enumerate*}\n",
       "\\item 'Acute vaginitis'\n",
       "\\item 'Menopause present'\n",
       "\\item 'Postmenopausal bleeding'\n",
       "\\item 'Noninflammatory disorder of the vagina'\n",
       "\\item 'Acquired absence of cervix and uterus'\n",
       "\\item 'Vulval and/or perineal noninflammatory disorders'\n",
       "\\item 'Excessive and frequent menstruation'\n",
       "\\item 'Finding of menstrual bleeding'\n",
       "\\item 'Cervicitis and endocervicitis'\n",
       "\\item 'Cyst of ovary'\n",
       "\\item 'Leukorrhea'\n",
       "\\item 'Uterine leiomyoma'\n",
       "\\item 'Labor and delivery complicated by fetal heart rate anomaly'\n",
       "\\item 'Subserous leiomyoma of uterus'\n",
       "\\item 'Gestation period, 32 weeks'\n",
       "\\item 'Gestation period, 40 weeks'\n",
       "\\item 'Intramural leiomyoma of uterus'\n",
       "\\item 'Intermenstrual bleeding - irregular'\n",
       "\\item 'Cord entanglement without compression'\n",
       "\\item 'Gestation period, 18 weeks'\n",
       "\\item 'Gestation period, 8 weeks'\n",
       "\\item 'Reduced fetal movement'\n",
       "\\item 'Endometriosis of uterus'\n",
       "\\item 'Herniation of rectum into vagina'\n",
       "\\item 'Irregular periods'\n",
       "\\item 'Cervical intraepithelial neoplasia grade 1'\n",
       "\\item 'Gestation period, 30 weeks'\n",
       "\\item 'Submucous leiomyoma of uterus'\n",
       "\\item 'Poor fetal growth affecting management'\n",
       "\\item 'Polyp of corpus uteri'\n",
       "\\item 'Deliveries by cesarean'\n",
       "\\item 'Disorder of uterus'\n",
       "\\item 'Inflammation of cervix'\n",
       "\\item 'Excessive fetal growth affecting management of mother'\n",
       "\\item 'Vomiting of pregnancy'\n",
       "\\item 'Maternal obesity complicating pregnancy, childbirth and the puerperium, antepartum'\n",
       "\\item 'Gestation period, 29 weeks'\n",
       "\\item 'Antepartum hemorrhage'\n",
       "\\item 'Pregnancy test negative'\n",
       "\\item 'Uterovaginal prolapse'\n",
       "\\item 'Genitourinary tract hemorrhage'\n",
       "\\item 'Perimenopausal disorder'\n",
       "\\item 'Uncertain viability of pregnancy'\n",
       "\\item 'Dysmenorrhea'\n",
       "\\item 'Gestation period, 35 weeks'\n",
       "\\item 'Disorder of menstruation'\n",
       "\\item 'Delivery normal'\n",
       "\\item 'First degree perineal tear during delivery - delivered'\n",
       "\\item 'Atypical squamous cells of undetermined significance on cervical Papanicolaou smear'\n",
       "\\item 'Gestation less than 24 weeks'\n",
       "\\item 'Gestation period, 10 weeks'\n",
       "\\item 'Gestation less than 9 weeks'\n",
       "\\item 'Pre-eclampsia'\n",
       "\\item 'Polycystic ovary syndrome'\n",
       "\\item 'Single live birth'\n",
       "\\item 'Miscarriage without complication'\n",
       "\\item 'Gestation period, 36 weeks'\n",
       "\\item 'Gestation period, 33 weeks'\n",
       "\\item 'Mechanical complication of intrauterine contraceptive device'\n",
       "\\item 'Premenstrual tension syndrome'\n",
       "\\item 'Third trimester pregnancy'\n",
       "\\item 'Maternal AND/OR fetal condition affecting labor AND/OR delivery'\n",
       "\\item 'Gestation period, 28 weeks'\n",
       "\\item 'Gestation period, 19 weeks'\n",
       "\\item 'Gestation period, 38 weeks'\n",
       "\\item 'Anemia in mother complicating childbirth'\n",
       "\\item 'Menopausal and postmenopausal disorders'\n",
       "\\item 'Gestation period, 39 weeks'\n",
       "\\item 'Gestation period, 15 weeks'\n",
       "\\item 'Gestation period, 34 weeks'\n",
       "\\item 'False labor before 37 completed weeks of gestation'\n",
       "\\item 'Cervicovaginal cytology: Low grade squamous intraepithelial lesion'\n",
       "\\item 'Post-term pregnancy'\n",
       "\\item 'Trauma to perineum and/or vulva during delivery'\n",
       "\\item 'Complication occurring during labor and delivery'\n",
       "\\item 'Human papillomavirus deoxyribonucleic acid test positive, high risk on cervical specimen'\n",
       "\\item 'High risk pregnancy due to history of preterm labor'\n",
       "\\item 'Corpus luteum cyst'\n",
       "\\item 'Dysplasia of cervix'\n",
       "\\item 'High risk pregnancy'\n",
       "\\item 'Second trimester pregnancy'\n",
       "\\item 'Gestation period, 20 weeks'\n",
       "\\item 'Postmenopausal state'\n",
       "\\item 'Abnormal fetal heart rate'\n",
       "\\item 'Vaginitis'\n",
       "\\item 'Gestation period, 22 weeks'\n",
       "\\item 'Group B streptococcus infection in mother complicating childbirth'\n",
       "\\item 'Gestation period, 27 weeks'\n",
       "\\item 'Endocrine, nutritional and metabolic disease complicating pregnancy, childbirth and puerperium'\n",
       "\\item 'Gestational diabetes mellitus'\n",
       "\\item 'Ovarian failure'\n",
       "\\item 'Gestation period, 37 weeks'\n",
       "\\item 'Amenorrhea'\n",
       "\\item 'Pregnancy-induced hypertension'\n",
       "\\item 'Gestation period, 23 weeks'\n",
       "\\item 'Menorrhagia'\n",
       "\\item 'Unplanned pregnancy'\n",
       "\\item 'Atypical glandular cells on cervical Papanicolaou smear'\n",
       "\\item 'Gestation period, 16 weeks'\n",
       "\\item 'Dyspareunia'\n",
       "\\item 'Mental disorders during pregnancy, childbirth and the puerperium'\n",
       "\\item 'Polycystic ovary'\n",
       "\\item 'Complication of the puerperium'\n",
       "\\item 'Labor and delivery complication by meconium in amniotic fluid'\n",
       "\\item 'Maternal obesity syndrome'\n",
       "\\item 'Endometriosis (clinical)'\n",
       "\\item 'Maternal hypertension'\n",
       "\\item 'Menopausal symptom'\n",
       "\\item 'Finding of length of gestation'\n",
       "\\item 'Abnormal cytological finding in specimen from female genital organ'\n",
       "\\item 'Candida infection of genital region'\n",
       "\\item 'Complication occurring during pregnancy'\n",
       "\\item 'Carcinoma in situ of uterine cervix'\n",
       "\\item 'Pregnancy test finding'\n",
       "\\item 'Disorder of uterine cervix'\n",
       "\\item 'Disease of nervous system complicating pregnancy, childbirth and puerperium'\n",
       "\\item 'Fetal condition affecting obstetrical care of mother'\n",
       "\\item 'Mother delivered'\n",
       "\\item 'Postpartum finding'\n",
       "\\item 'Obesity in mother complicating childbirth'\n",
       "\\item 'Abnormal cervical Papanicolaou smear with positive human papillomavirus deoxyribonucleic acid test'\n",
       "\\item 'Gestation period, 25 weeks'\n",
       "\\item 'First trimester pregnancy'\n",
       "\\item 'Gestation period, 13 weeks'\n",
       "\\item 'Normal pregnancy'\n",
       "\\item 'Female pelvic inflammatory disease'\n",
       "\\item 'Trichomonal vulvovaginitis'\n",
       "\\item 'Gestation period, 14 weeks'\n",
       "\\item 'Disease of the respiratory system complicating pregnancy, childbirth and/or the puerperium'\n",
       "\\item 'Viral disease in mother complicating pregnancy, childbirth AND/OR puerperium'\n",
       "\\item 'Mild hyperemesis gravidarum'\n",
       "\\item 'Menopause finding'\n",
       "\\item 'Perimenopausal state'\n",
       "\\item 'Urinary tract infection in pregnancy'\n",
       "\\item 'Abnormal glucose tolerance in mother complicating pregnancy, childbirth AND/OR puerperium'\n",
       "\\item 'Female genitalia finding'\n",
       "\\item 'Female genital organ symptoms'\n",
       "\\item 'Anemia of pregnancy'\n",
       "\\item 'Menopausal syndrome'\n",
       "\\item 'Suspected fetal abnormality affecting management of mother'\n",
       "\\item 'Inflammatory disease of female genital structure'\n",
       "\\item 'Complication of pregnancy, childbirth and/or the puerperium'\n",
       "\\item 'Group B Streptococcus carrier'\n",
       "\\item 'Pruritus of vulva'\n",
       "\\item 'Disorder of female genital organs'\n",
       "\\item 'Gestation period, 31 weeks'\n",
       "\\item 'Primary malignant neoplasm of ovary'\n",
       "\\item 'Estrogen receptor positive tumor'\n",
       "\\item 'Pregnant'\n",
       "\\item 'Noninflammatory cervical disorder'\n",
       "\\item 'Benign neoplasm of ovary'\n",
       "\\item 'Finding related to pregnancy'\n",
       "\\item 'Prolapse of female genital organs'\n",
       "\\item 'Disorder of pregnancy'\n",
       "\\item 'Carrier of cystic fibrosis gene mutation'\n",
       "\\item 'Discharge from nipple'\n",
       "\\item 'Primary ovarian failure'\n",
       "\\item 'Hirsutism'\n",
       "\\item 'Female infertility'\n",
       "\\item 'Drug dependence in mother complicating pregnancy, childbirth AND/OR puerperium'\n",
       "\\item 'Lichen sclerosus et atrophicus'\n",
       "\\item 'Asymptomatic'\n",
       "\\item 'Psychosexual dysfunction associated with inhibited sexual excitement'\n",
       "\\item 'Inflammatory disorder of male genital organ'\n",
       "\\item 'Testicular hypofunction'\n",
       "\\item 'Primary malignant neoplasm of prostate'\n",
       "\\item 'Hyperplasia of prostate'\n",
       "\\item 'Prostatitis'\n",
       "\\item 'Varicocele'\n",
       "\\item 'Secondary erectile dysfunction'\n",
       "\\item 'Disorder of prostate'\n",
       "\\item 'Disorder of male genital organ'\n",
       "\\item 'Hydrocele of tunica vaginalis'\n",
       "\\item 'Pain in testicle'\n",
       "\\item 'Disorder of penis'\n",
       "\\item 'Raised prostate specific antigen'\n",
       "\\item 'Benign prostatic hypertrophy without outflow obstruction'\n",
       "\\item 'Benign prostatic hypertrophy with outflow obstruction'\n",
       "\\item 'Benign prostatic hyperplasia'\n",
       "\\item 'Erectile dysfunction'\n",
       "\\end{enumerate*}\n"
      ],
      "text/markdown": [
       "1. 'Acute vaginitis'\n",
       "2. 'Menopause present'\n",
       "3. 'Postmenopausal bleeding'\n",
       "4. 'Noninflammatory disorder of the vagina'\n",
       "5. 'Acquired absence of cervix and uterus'\n",
       "6. 'Vulval and/or perineal noninflammatory disorders'\n",
       "7. 'Excessive and frequent menstruation'\n",
       "8. 'Finding of menstrual bleeding'\n",
       "9. 'Cervicitis and endocervicitis'\n",
       "10. 'Cyst of ovary'\n",
       "11. 'Leukorrhea'\n",
       "12. 'Uterine leiomyoma'\n",
       "13. 'Labor and delivery complicated by fetal heart rate anomaly'\n",
       "14. 'Subserous leiomyoma of uterus'\n",
       "15. 'Gestation period, 32 weeks'\n",
       "16. 'Gestation period, 40 weeks'\n",
       "17. 'Intramural leiomyoma of uterus'\n",
       "18. 'Intermenstrual bleeding - irregular'\n",
       "19. 'Cord entanglement without compression'\n",
       "20. 'Gestation period, 18 weeks'\n",
       "21. 'Gestation period, 8 weeks'\n",
       "22. 'Reduced fetal movement'\n",
       "23. 'Endometriosis of uterus'\n",
       "24. 'Herniation of rectum into vagina'\n",
       "25. 'Irregular periods'\n",
       "26. 'Cervical intraepithelial neoplasia grade 1'\n",
       "27. 'Gestation period, 30 weeks'\n",
       "28. 'Submucous leiomyoma of uterus'\n",
       "29. 'Poor fetal growth affecting management'\n",
       "30. 'Polyp of corpus uteri'\n",
       "31. 'Deliveries by cesarean'\n",
       "32. 'Disorder of uterus'\n",
       "33. 'Inflammation of cervix'\n",
       "34. 'Excessive fetal growth affecting management of mother'\n",
       "35. 'Vomiting of pregnancy'\n",
       "36. 'Maternal obesity complicating pregnancy, childbirth and the puerperium, antepartum'\n",
       "37. 'Gestation period, 29 weeks'\n",
       "38. 'Antepartum hemorrhage'\n",
       "39. 'Pregnancy test negative'\n",
       "40. 'Uterovaginal prolapse'\n",
       "41. 'Genitourinary tract hemorrhage'\n",
       "42. 'Perimenopausal disorder'\n",
       "43. 'Uncertain viability of pregnancy'\n",
       "44. 'Dysmenorrhea'\n",
       "45. 'Gestation period, 35 weeks'\n",
       "46. 'Disorder of menstruation'\n",
       "47. 'Delivery normal'\n",
       "48. 'First degree perineal tear during delivery - delivered'\n",
       "49. 'Atypical squamous cells of undetermined significance on cervical Papanicolaou smear'\n",
       "50. 'Gestation less than 24 weeks'\n",
       "51. 'Gestation period, 10 weeks'\n",
       "52. 'Gestation less than 9 weeks'\n",
       "53. 'Pre-eclampsia'\n",
       "54. 'Polycystic ovary syndrome'\n",
       "55. 'Single live birth'\n",
       "56. 'Miscarriage without complication'\n",
       "57. 'Gestation period, 36 weeks'\n",
       "58. 'Gestation period, 33 weeks'\n",
       "59. 'Mechanical complication of intrauterine contraceptive device'\n",
       "60. 'Premenstrual tension syndrome'\n",
       "61. 'Third trimester pregnancy'\n",
       "62. 'Maternal AND/OR fetal condition affecting labor AND/OR delivery'\n",
       "63. 'Gestation period, 28 weeks'\n",
       "64. 'Gestation period, 19 weeks'\n",
       "65. 'Gestation period, 38 weeks'\n",
       "66. 'Anemia in mother complicating childbirth'\n",
       "67. 'Menopausal and postmenopausal disorders'\n",
       "68. 'Gestation period, 39 weeks'\n",
       "69. 'Gestation period, 15 weeks'\n",
       "70. 'Gestation period, 34 weeks'\n",
       "71. 'False labor before 37 completed weeks of gestation'\n",
       "72. 'Cervicovaginal cytology: Low grade squamous intraepithelial lesion'\n",
       "73. 'Post-term pregnancy'\n",
       "74. 'Trauma to perineum and/or vulva during delivery'\n",
       "75. 'Complication occurring during labor and delivery'\n",
       "76. 'Human papillomavirus deoxyribonucleic acid test positive, high risk on cervical specimen'\n",
       "77. 'High risk pregnancy due to history of preterm labor'\n",
       "78. 'Corpus luteum cyst'\n",
       "79. 'Dysplasia of cervix'\n",
       "80. 'High risk pregnancy'\n",
       "81. 'Second trimester pregnancy'\n",
       "82. 'Gestation period, 20 weeks'\n",
       "83. 'Postmenopausal state'\n",
       "84. 'Abnormal fetal heart rate'\n",
       "85. 'Vaginitis'\n",
       "86. 'Gestation period, 22 weeks'\n",
       "87. 'Group B streptococcus infection in mother complicating childbirth'\n",
       "88. 'Gestation period, 27 weeks'\n",
       "89. 'Endocrine, nutritional and metabolic disease complicating pregnancy, childbirth and puerperium'\n",
       "90. 'Gestational diabetes mellitus'\n",
       "91. 'Ovarian failure'\n",
       "92. 'Gestation period, 37 weeks'\n",
       "93. 'Amenorrhea'\n",
       "94. 'Pregnancy-induced hypertension'\n",
       "95. 'Gestation period, 23 weeks'\n",
       "96. 'Menorrhagia'\n",
       "97. 'Unplanned pregnancy'\n",
       "98. 'Atypical glandular cells on cervical Papanicolaou smear'\n",
       "99. 'Gestation period, 16 weeks'\n",
       "100. 'Dyspareunia'\n",
       "101. 'Mental disorders during pregnancy, childbirth and the puerperium'\n",
       "102. 'Polycystic ovary'\n",
       "103. 'Complication of the puerperium'\n",
       "104. 'Labor and delivery complication by meconium in amniotic fluid'\n",
       "105. 'Maternal obesity syndrome'\n",
       "106. 'Endometriosis (clinical)'\n",
       "107. 'Maternal hypertension'\n",
       "108. 'Menopausal symptom'\n",
       "109. 'Finding of length of gestation'\n",
       "110. 'Abnormal cytological finding in specimen from female genital organ'\n",
       "111. 'Candida infection of genital region'\n",
       "112. 'Complication occurring during pregnancy'\n",
       "113. 'Carcinoma in situ of uterine cervix'\n",
       "114. 'Pregnancy test finding'\n",
       "115. 'Disorder of uterine cervix'\n",
       "116. 'Disease of nervous system complicating pregnancy, childbirth and puerperium'\n",
       "117. 'Fetal condition affecting obstetrical care of mother'\n",
       "118. 'Mother delivered'\n",
       "119. 'Postpartum finding'\n",
       "120. 'Obesity in mother complicating childbirth'\n",
       "121. 'Abnormal cervical Papanicolaou smear with positive human papillomavirus deoxyribonucleic acid test'\n",
       "122. 'Gestation period, 25 weeks'\n",
       "123. 'First trimester pregnancy'\n",
       "124. 'Gestation period, 13 weeks'\n",
       "125. 'Normal pregnancy'\n",
       "126. 'Female pelvic inflammatory disease'\n",
       "127. 'Trichomonal vulvovaginitis'\n",
       "128. 'Gestation period, 14 weeks'\n",
       "129. 'Disease of the respiratory system complicating pregnancy, childbirth and/or the puerperium'\n",
       "130. 'Viral disease in mother complicating pregnancy, childbirth AND/OR puerperium'\n",
       "131. 'Mild hyperemesis gravidarum'\n",
       "132. 'Menopause finding'\n",
       "133. 'Perimenopausal state'\n",
       "134. 'Urinary tract infection in pregnancy'\n",
       "135. 'Abnormal glucose tolerance in mother complicating pregnancy, childbirth AND/OR puerperium'\n",
       "136. 'Female genitalia finding'\n",
       "137. 'Female genital organ symptoms'\n",
       "138. 'Anemia of pregnancy'\n",
       "139. 'Menopausal syndrome'\n",
       "140. 'Suspected fetal abnormality affecting management of mother'\n",
       "141. 'Inflammatory disease of female genital structure'\n",
       "142. 'Complication of pregnancy, childbirth and/or the puerperium'\n",
       "143. 'Group B Streptococcus carrier'\n",
       "144. 'Pruritus of vulva'\n",
       "145. 'Disorder of female genital organs'\n",
       "146. 'Gestation period, 31 weeks'\n",
       "147. 'Primary malignant neoplasm of ovary'\n",
       "148. 'Estrogen receptor positive tumor'\n",
       "149. 'Pregnant'\n",
       "150. 'Noninflammatory cervical disorder'\n",
       "151. 'Benign neoplasm of ovary'\n",
       "152. 'Finding related to pregnancy'\n",
       "153. 'Prolapse of female genital organs'\n",
       "154. 'Disorder of pregnancy'\n",
       "155. 'Carrier of cystic fibrosis gene mutation'\n",
       "156. 'Discharge from nipple'\n",
       "157. 'Primary ovarian failure'\n",
       "158. 'Hirsutism'\n",
       "159. 'Female infertility'\n",
       "160. 'Drug dependence in mother complicating pregnancy, childbirth AND/OR puerperium'\n",
       "161. 'Lichen sclerosus et atrophicus'\n",
       "162. 'Asymptomatic'\n",
       "163. 'Psychosexual dysfunction associated with inhibited sexual excitement'\n",
       "164. 'Inflammatory disorder of male genital organ'\n",
       "165. 'Testicular hypofunction'\n",
       "166. 'Primary malignant neoplasm of prostate'\n",
       "167. 'Hyperplasia of prostate'\n",
       "168. 'Prostatitis'\n",
       "169. 'Varicocele'\n",
       "170. 'Secondary erectile dysfunction'\n",
       "171. 'Disorder of prostate'\n",
       "172. 'Disorder of male genital organ'\n",
       "173. 'Hydrocele of tunica vaginalis'\n",
       "174. 'Pain in testicle'\n",
       "175. 'Disorder of penis'\n",
       "176. 'Raised prostate specific antigen'\n",
       "177. 'Benign prostatic hypertrophy without outflow obstruction'\n",
       "178. 'Benign prostatic hypertrophy with outflow obstruction'\n",
       "179. 'Benign prostatic hyperplasia'\n",
       "180. 'Erectile dysfunction'\n",
       "\n",
       "\n"
      ],
      "text/plain": [
       "  [1] \"Acute vaginitis\"                                                                                   \n",
       "  [2] \"Menopause present\"                                                                                 \n",
       "  [3] \"Postmenopausal bleeding\"                                                                           \n",
       "  [4] \"Noninflammatory disorder of the vagina\"                                                            \n",
       "  [5] \"Acquired absence of cervix and uterus\"                                                             \n",
       "  [6] \"Vulval and/or perineal noninflammatory disorders\"                                                  \n",
       "  [7] \"Excessive and frequent menstruation\"                                                               \n",
       "  [8] \"Finding of menstrual bleeding\"                                                                     \n",
       "  [9] \"Cervicitis and endocervicitis\"                                                                     \n",
       " [10] \"Cyst of ovary\"                                                                                     \n",
       " [11] \"Leukorrhea\"                                                                                        \n",
       " [12] \"Uterine leiomyoma\"                                                                                 \n",
       " [13] \"Labor and delivery complicated by fetal heart rate anomaly\"                                        \n",
       " [14] \"Subserous leiomyoma of uterus\"                                                                     \n",
       " [15] \"Gestation period, 32 weeks\"                                                                        \n",
       " [16] \"Gestation period, 40 weeks\"                                                                        \n",
       " [17] \"Intramural leiomyoma of uterus\"                                                                    \n",
       " [18] \"Intermenstrual bleeding - irregular\"                                                               \n",
       " [19] \"Cord entanglement without compression\"                                                             \n",
       " [20] \"Gestation period, 18 weeks\"                                                                        \n",
       " [21] \"Gestation period, 8 weeks\"                                                                         \n",
       " [22] \"Reduced fetal movement\"                                                                            \n",
       " [23] \"Endometriosis of uterus\"                                                                           \n",
       " [24] \"Herniation of rectum into vagina\"                                                                  \n",
       " [25] \"Irregular periods\"                                                                                 \n",
       " [26] \"Cervical intraepithelial neoplasia grade 1\"                                                        \n",
       " [27] \"Gestation period, 30 weeks\"                                                                        \n",
       " [28] \"Submucous leiomyoma of uterus\"                                                                     \n",
       " [29] \"Poor fetal growth affecting management\"                                                            \n",
       " [30] \"Polyp of corpus uteri\"                                                                             \n",
       " [31] \"Deliveries by cesarean\"                                                                            \n",
       " [32] \"Disorder of uterus\"                                                                                \n",
       " [33] \"Inflammation of cervix\"                                                                            \n",
       " [34] \"Excessive fetal growth affecting management of mother\"                                             \n",
       " [35] \"Vomiting of pregnancy\"                                                                             \n",
       " [36] \"Maternal obesity complicating pregnancy, childbirth and the puerperium, antepartum\"                \n",
       " [37] \"Gestation period, 29 weeks\"                                                                        \n",
       " [38] \"Antepartum hemorrhage\"                                                                             \n",
       " [39] \"Pregnancy test negative\"                                                                           \n",
       " [40] \"Uterovaginal prolapse\"                                                                             \n",
       " [41] \"Genitourinary tract hemorrhage\"                                                                    \n",
       " [42] \"Perimenopausal disorder\"                                                                           \n",
       " [43] \"Uncertain viability of pregnancy\"                                                                  \n",
       " [44] \"Dysmenorrhea\"                                                                                      \n",
       " [45] \"Gestation period, 35 weeks\"                                                                        \n",
       " [46] \"Disorder of menstruation\"                                                                          \n",
       " [47] \"Delivery normal\"                                                                                   \n",
       " [48] \"First degree perineal tear during delivery - delivered\"                                            \n",
       " [49] \"Atypical squamous cells of undetermined significance on cervical Papanicolaou smear\"               \n",
       " [50] \"Gestation less than 24 weeks\"                                                                      \n",
       " [51] \"Gestation period, 10 weeks\"                                                                        \n",
       " [52] \"Gestation less than 9 weeks\"                                                                       \n",
       " [53] \"Pre-eclampsia\"                                                                                     \n",
       " [54] \"Polycystic ovary syndrome\"                                                                         \n",
       " [55] \"Single live birth\"                                                                                 \n",
       " [56] \"Miscarriage without complication\"                                                                  \n",
       " [57] \"Gestation period, 36 weeks\"                                                                        \n",
       " [58] \"Gestation period, 33 weeks\"                                                                        \n",
       " [59] \"Mechanical complication of intrauterine contraceptive device\"                                      \n",
       " [60] \"Premenstrual tension syndrome\"                                                                     \n",
       " [61] \"Third trimester pregnancy\"                                                                         \n",
       " [62] \"Maternal AND/OR fetal condition affecting labor AND/OR delivery\"                                   \n",
       " [63] \"Gestation period, 28 weeks\"                                                                        \n",
       " [64] \"Gestation period, 19 weeks\"                                                                        \n",
       " [65] \"Gestation period, 38 weeks\"                                                                        \n",
       " [66] \"Anemia in mother complicating childbirth\"                                                          \n",
       " [67] \"Menopausal and postmenopausal disorders\"                                                           \n",
       " [68] \"Gestation period, 39 weeks\"                                                                        \n",
       " [69] \"Gestation period, 15 weeks\"                                                                        \n",
       " [70] \"Gestation period, 34 weeks\"                                                                        \n",
       " [71] \"False labor before 37 completed weeks of gestation\"                                                \n",
       " [72] \"Cervicovaginal cytology: Low grade squamous intraepithelial lesion\"                                \n",
       " [73] \"Post-term pregnancy\"                                                                               \n",
       " [74] \"Trauma to perineum and/or vulva during delivery\"                                                   \n",
       " [75] \"Complication occurring during labor and delivery\"                                                  \n",
       " [76] \"Human papillomavirus deoxyribonucleic acid test positive, high risk on cervical specimen\"          \n",
       " [77] \"High risk pregnancy due to history of preterm labor\"                                               \n",
       " [78] \"Corpus luteum cyst\"                                                                                \n",
       " [79] \"Dysplasia of cervix\"                                                                               \n",
       " [80] \"High risk pregnancy\"                                                                               \n",
       " [81] \"Second trimester pregnancy\"                                                                        \n",
       " [82] \"Gestation period, 20 weeks\"                                                                        \n",
       " [83] \"Postmenopausal state\"                                                                              \n",
       " [84] \"Abnormal fetal heart rate\"                                                                         \n",
       " [85] \"Vaginitis\"                                                                                         \n",
       " [86] \"Gestation period, 22 weeks\"                                                                        \n",
       " [87] \"Group B streptococcus infection in mother complicating childbirth\"                                 \n",
       " [88] \"Gestation period, 27 weeks\"                                                                        \n",
       " [89] \"Endocrine, nutritional and metabolic disease complicating pregnancy, childbirth and puerperium\"    \n",
       " [90] \"Gestational diabetes mellitus\"                                                                     \n",
       " [91] \"Ovarian failure\"                                                                                   \n",
       " [92] \"Gestation period, 37 weeks\"                                                                        \n",
       " [93] \"Amenorrhea\"                                                                                        \n",
       " [94] \"Pregnancy-induced hypertension\"                                                                    \n",
       " [95] \"Gestation period, 23 weeks\"                                                                        \n",
       " [96] \"Menorrhagia\"                                                                                       \n",
       " [97] \"Unplanned pregnancy\"                                                                               \n",
       " [98] \"Atypical glandular cells on cervical Papanicolaou smear\"                                           \n",
       " [99] \"Gestation period, 16 weeks\"                                                                        \n",
       "[100] \"Dyspareunia\"                                                                                       \n",
       "[101] \"Mental disorders during pregnancy, childbirth and the puerperium\"                                  \n",
       "[102] \"Polycystic ovary\"                                                                                  \n",
       "[103] \"Complication of the puerperium\"                                                                    \n",
       "[104] \"Labor and delivery complication by meconium in amniotic fluid\"                                     \n",
       "[105] \"Maternal obesity syndrome\"                                                                         \n",
       "[106] \"Endometriosis (clinical)\"                                                                          \n",
       "[107] \"Maternal hypertension\"                                                                             \n",
       "[108] \"Menopausal symptom\"                                                                                \n",
       "[109] \"Finding of length of gestation\"                                                                    \n",
       "[110] \"Abnormal cytological finding in specimen from female genital organ\"                                \n",
       "[111] \"Candida infection of genital region\"                                                               \n",
       "[112] \"Complication occurring during pregnancy\"                                                           \n",
       "[113] \"Carcinoma in situ of uterine cervix\"                                                               \n",
       "[114] \"Pregnancy test finding\"                                                                            \n",
       "[115] \"Disorder of uterine cervix\"                                                                        \n",
       "[116] \"Disease of nervous system complicating pregnancy, childbirth and puerperium\"                       \n",
       "[117] \"Fetal condition affecting obstetrical care of mother\"                                              \n",
       "[118] \"Mother delivered\"                                                                                  \n",
       "[119] \"Postpartum finding\"                                                                                \n",
       "[120] \"Obesity in mother complicating childbirth\"                                                         \n",
       "[121] \"Abnormal cervical Papanicolaou smear with positive human papillomavirus deoxyribonucleic acid test\"\n",
       "[122] \"Gestation period, 25 weeks\"                                                                        \n",
       "[123] \"First trimester pregnancy\"                                                                         \n",
       "[124] \"Gestation period, 13 weeks\"                                                                        \n",
       "[125] \"Normal pregnancy\"                                                                                  \n",
       "[126] \"Female pelvic inflammatory disease\"                                                                \n",
       "[127] \"Trichomonal vulvovaginitis\"                                                                        \n",
       "[128] \"Gestation period, 14 weeks\"                                                                        \n",
       "[129] \"Disease of the respiratory system complicating pregnancy, childbirth and/or the puerperium\"        \n",
       "[130] \"Viral disease in mother complicating pregnancy, childbirth AND/OR puerperium\"                      \n",
       "[131] \"Mild hyperemesis gravidarum\"                                                                       \n",
       "[132] \"Menopause finding\"                                                                                 \n",
       "[133] \"Perimenopausal state\"                                                                              \n",
       "[134] \"Urinary tract infection in pregnancy\"                                                              \n",
       "[135] \"Abnormal glucose tolerance in mother complicating pregnancy, childbirth AND/OR puerperium\"         \n",
       "[136] \"Female genitalia finding\"                                                                          \n",
       "[137] \"Female genital organ symptoms\"                                                                     \n",
       "[138] \"Anemia of pregnancy\"                                                                               \n",
       "[139] \"Menopausal syndrome\"                                                                               \n",
       "[140] \"Suspected fetal abnormality affecting management of mother\"                                        \n",
       "[141] \"Inflammatory disease of female genital structure\"                                                  \n",
       "[142] \"Complication of pregnancy, childbirth and/or the puerperium\"                                       \n",
       "[143] \"Group B Streptococcus carrier\"                                                                     \n",
       "[144] \"Pruritus of vulva\"                                                                                 \n",
       "[145] \"Disorder of female genital organs\"                                                                 \n",
       "[146] \"Gestation period, 31 weeks\"                                                                        \n",
       "[147] \"Primary malignant neoplasm of ovary\"                                                               \n",
       "[148] \"Estrogen receptor positive tumor\"                                                                  \n",
       "[149] \"Pregnant\"                                                                                          \n",
       "[150] \"Noninflammatory cervical disorder\"                                                                 \n",
       "[151] \"Benign neoplasm of ovary\"                                                                          \n",
       "[152] \"Finding related to pregnancy\"                                                                      \n",
       "[153] \"Prolapse of female genital organs\"                                                                 \n",
       "[154] \"Disorder of pregnancy\"                                                                             \n",
       "[155] \"Carrier of cystic fibrosis gene mutation\"                                                          \n",
       "[156] \"Discharge from nipple\"                                                                             \n",
       "[157] \"Primary ovarian failure\"                                                                           \n",
       "[158] \"Hirsutism\"                                                                                         \n",
       "[159] \"Female infertility\"                                                                                \n",
       "[160] \"Drug dependence in mother complicating pregnancy, childbirth AND/OR puerperium\"                    \n",
       "[161] \"Lichen sclerosus et atrophicus\"                                                                    \n",
       "[162] \"Asymptomatic\"                                                                                      \n",
       "[163] \"Psychosexual dysfunction associated with inhibited sexual excitement\"                              \n",
       "[164] \"Inflammatory disorder of male genital organ\"                                                       \n",
       "[165] \"Testicular hypofunction\"                                                                           \n",
       "[166] \"Primary malignant neoplasm of prostate\"                                                            \n",
       "[167] \"Hyperplasia of prostate\"                                                                           \n",
       "[168] \"Prostatitis\"                                                                                       \n",
       "[169] \"Varicocele\"                                                                                        \n",
       "[170] \"Secondary erectile dysfunction\"                                                                    \n",
       "[171] \"Disorder of prostate\"                                                                              \n",
       "[172] \"Disorder of male genital organ\"                                                                    \n",
       "[173] \"Hydrocele of tunica vaginalis\"                                                                     \n",
       "[174] \"Pain in testicle\"                                                                                  \n",
       "[175] \"Disorder of penis\"                                                                                 \n",
       "[176] \"Raised prostate specific antigen\"                                                                  \n",
       "[177] \"Benign prostatic hypertrophy without outflow obstruction\"                                          \n",
       "[178] \"Benign prostatic hypertrophy with outflow obstruction\"                                             \n",
       "[179] \"Benign prostatic hyperplasia\"                                                                      \n",
       "[180] \"Erectile dysfunction\"                                                                              "
      ]
     },
     "metadata": {},
     "output_type": "display_data"
    }
   ],
   "source": [
    "sex_cond[[2]]"
   ]
  },
  {
   "cell_type": "code",
   "execution_count": 46,
   "id": "b2663800",
   "metadata": {},
   "outputs": [],
   "source": [
    "non_sex_specific_conditions <- c('Dyspareunia', 'Group B Streptococcus carrier', 'Estrogen receptor positive tumor',\n",
    "                                 'Candida infection of genital region', 'Carrier of cystic fibrosis gene mutation',\n",
    "                                 'Discharge from nipple', 'Hirsutism', 'Lichen sclerosus et atrophicus', \n",
    "                                 'Genitourinary tract hemorrhage',\n",
    "                                 # newly added by Dr. DeBerardinis:\n",
    "                                 'Raised prostate specific antigen','Leukorrhea',\n",
    "                                 # removed by Dr. DeBerardinis:\n",
    "                                # 'Drug dependence in mother complicating pregnancy, childbirth AND/OR puerperium',\n",
    "                                 'Asymptomatic', 'Psychosexual dysfunction associated with inhibited sexual excitement')"
   ]
  },
  {
   "cell_type": "code",
   "execution_count": 47,
   "id": "862f92e8",
   "metadata": {},
   "outputs": [
    {
     "data": {
      "text/plain": [
       "\n",
       "TRUE \n",
       "  13 "
      ]
     },
     "metadata": {},
     "output_type": "display_data"
    }
   ],
   "source": [
    "table(non_sex_specific_conditions%in%sex_cond$concept_name)"
   ]
  },
  {
   "cell_type": "code",
   "execution_count": 48,
   "id": "2c4e6097",
   "metadata": {},
   "outputs": [],
   "source": [
    "sex_cond<-sex_cond[!concept_name%in%non_sex_specific_conditions]"
   ]
  },
  {
   "cell_type": "code",
   "execution_count": 49,
   "id": "0d52fc6d",
   "metadata": {},
   "outputs": [
    {
     "data": {
      "text/html": [
       "167"
      ],
      "text/latex": [
       "167"
      ],
      "text/markdown": [
       "167"
      ],
      "text/plain": [
       "[1] 167"
      ]
     },
     "metadata": {},
     "output_type": "display_data"
    }
   ],
   "source": [
    "nrow(sex_cond)"
   ]
  },
  {
   "cell_type": "code",
   "execution_count": 50,
   "id": "dda59578",
   "metadata": {},
   "outputs": [
    {
     "name": "stdout",
     "output_type": "stream",
     "text": [
      "151 female-specific conditions."
     ]
    },
    {
     "data": {
      "text/plain": [
       "     Min.   1st Qu.    Median      Mean   3rd Qu.      Max. \n",
       "9.344e-05 5.357e-04 9.862e-04 1.968e-03 1.873e-03 2.687e-02 "
      ]
     },
     "metadata": {},
     "output_type": "display_data"
    }
   ],
   "source": [
    "cat(paste(nrow(sex_cond[male_frac<.5]),\"female-specific conditions.\"))\n",
    "summary(sex_cond[male_frac<.5][['male_frac']])"
   ]
  },
  {
   "cell_type": "code",
   "execution_count": 51,
   "id": "e153da7f",
   "metadata": {},
   "outputs": [
    {
     "name": "stdout",
     "output_type": "stream",
     "text": [
      "16 male-specific conditions."
     ]
    },
    {
     "data": {
      "text/plain": [
       "     Min.   1st Qu.    Median      Mean   3rd Qu.      Max. \n",
       "0.0009901 0.0022530 0.0035533 0.0058619 0.0072380 0.0299359 "
      ]
     },
     "metadata": {},
     "output_type": "display_data"
    }
   ],
   "source": [
    "cat(paste(nrow(sex_cond[male_frac>.5]),\"male-specific conditions.\"))\n",
    "summary(1-sex_cond[male_frac>.5][['male_frac']])"
   ]
  },
  {
   "cell_type": "markdown",
   "id": "f4ee0208",
   "metadata": {},
   "source": [
    "#### Prepare Table 1 and supplementary table"
   ]
  },
  {
   "cell_type": "code",
   "execution_count": 52,
   "id": "b4d49e47",
   "metadata": {},
   "outputs": [],
   "source": [
    "sex_cond[,female_count:=total_count-male_count]\n",
    "sex_cond[,female_frac:=1-male_frac]"
   ]
  },
  {
   "cell_type": "code",
   "execution_count": 53,
   "id": "560a7067",
   "metadata": {},
   "outputs": [],
   "source": [
    "sex_cond<-sex_cond[,c('standard_concept_id','concept_name','male_count','female_count',\n",
    "                      'total_count','male_frac','female_frac'),with=F]"
   ]
  },
  {
   "cell_type": "code",
   "execution_count": 54,
   "id": "b1a81d21",
   "metadata": {},
   "outputs": [],
   "source": [
    "sex_cond_report_full<-data.table(sex_specificity=ifelse(sex_cond$male_frac<.5,'female','male'),sex_cond)"
   ]
  },
  {
   "cell_type": "code",
   "execution_count": 55,
   "id": "7e4c30d0",
   "metadata": {},
   "outputs": [],
   "source": [
    "sex_cond_report_full[sex_specificity=='female',incongruent_count:=male_count]\n",
    "sex_cond_report_full[sex_specificity=='male',incongruent_count:=female_count]\n",
    "sex_cond_report_full[sex_specificity=='female',incongruent_freq:=male_frac]\n",
    "sex_cond_report_full[sex_specificity=='male',incongruent_freq:=female_frac]"
   ]
  },
  {
   "cell_type": "code",
   "execution_count": 56,
   "id": "913cac06",
   "metadata": {},
   "outputs": [],
   "source": [
    "incongruent_CI<-rep('',nrow(sex_cond_report_full))\n",
    "for(i in 1:nrow(sex_cond_report_full)) \n",
    "    incongruent_CI[i]<-with(sex_cond_report_full,CI(p = incongruent_freq[i],n=incongruent_count[i]))\n",
    "\n",
    "sex_cond_report_full[,incongruent_CI:=incongruent_CI]"
   ]
  },
  {
   "cell_type": "code",
   "execution_count": 57,
   "id": "280fc14c",
   "metadata": {},
   "outputs": [],
   "source": [
    "sex_cond_report_full[,female_frac:=round(female_frac,4)][,male_frac:=round(male_frac,4)]"
   ]
  },
  {
   "cell_type": "markdown",
   "id": "1f3385cc",
   "metadata": {},
   "source": [
    "*Table 1*"
   ]
  },
  {
   "cell_type": "code",
   "execution_count": 58,
   "id": "ca9aabbf",
   "metadata": {},
   "outputs": [
    {
     "data": {
      "text/html": [
       "<table class=\"dataframe\">\n",
       "<caption>A data.table: 6 × 11</caption>\n",
       "<thead>\n",
       "\t<tr><th scope=col>sex_specificity</th><th scope=col>standard_concept_id</th><th scope=col>concept_name</th><th scope=col>male_count</th><th scope=col>female_count</th><th scope=col>total_count</th><th scope=col>male_frac</th><th scope=col>female_frac</th><th scope=col>incongruent_count</th><th scope=col>incongruent_freq</th><th scope=col>incongruent_CI</th></tr>\n",
       "\t<tr><th scope=col>&lt;chr&gt;</th><th scope=col>&lt;int&gt;</th><th scope=col>&lt;chr&gt;</th><th scope=col>&lt;int&gt;</th><th scope=col>&lt;int&gt;</th><th scope=col>&lt;int&gt;</th><th scope=col>&lt;dbl&gt;</th><th scope=col>&lt;dbl&gt;</th><th scope=col>&lt;int&gt;</th><th scope=col>&lt;dbl&gt;</th><th scope=col>&lt;chr&gt;</th></tr>\n",
       "</thead>\n",
       "<tbody>\n",
       "\t<tr><td>female</td><td> 440787</td><td>Drug dependence in mother complicating pregnancy, childbirth AND/OR puerperium</td><td>  27</td><td> 978</td><td>1005</td><td>0.0269</td><td>0.9731</td><td> 27</td><td>0.02686567</td><td>[-0.034, 0.088] </td></tr>\n",
       "\t<tr><td>female</td><td> 201909</td><td>Female infertility                                                            </td><td> 102</td><td>3715</td><td>3817</td><td>0.0267</td><td>0.9733</td><td>102</td><td>0.02672256</td><td>[-0.0046, 0.058]</td></tr>\n",
       "\t<tr><td>female</td><td>4279913</td><td>Primary ovarian failure                                                       </td><td>  62</td><td>3591</td><td>3653</td><td>0.0170</td><td>0.9830</td><td> 62</td><td>0.01697235</td><td>[-0.015, 0.049] </td></tr>\n",
       "\t<tr><td>male  </td><td> 197605</td><td>Inflammatory disorder of male genital organ                                   </td><td>1361</td><td>  42</td><td>1403</td><td>0.9701</td><td>0.0299</td><td> 42</td><td>0.02993585</td><td>[-0.022, 0.081] </td></tr>\n",
       "\t<tr><td>male  </td><td>  26662</td><td>Testicular hypofunction                                                       </td><td>4157</td><td>  44</td><td>4201</td><td>0.9895</td><td>0.0105</td><td> 44</td><td>0.01047370</td><td>[-0.02, 0.041]  </td></tr>\n",
       "\t<tr><td>male  </td><td> 200962</td><td>Primary malignant neoplasm of prostate                                        </td><td>5770</td><td>  55</td><td>5825</td><td>0.9906</td><td>0.0094</td><td> 55</td><td>0.00944206</td><td>[-0.016, 0.035] </td></tr>\n",
       "</tbody>\n",
       "</table>\n"
      ],
      "text/latex": [
       "A data.table: 6 × 11\n",
       "\\begin{tabular}{lllllllllll}\n",
       " sex\\_specificity & standard\\_concept\\_id & concept\\_name & male\\_count & female\\_count & total\\_count & male\\_frac & female\\_frac & incongruent\\_count & incongruent\\_freq & incongruent\\_CI\\\\\n",
       " <chr> & <int> & <chr> & <int> & <int> & <int> & <dbl> & <dbl> & <int> & <dbl> & <chr>\\\\\n",
       "\\hline\n",
       "\t female &  440787 & Drug dependence in mother complicating pregnancy, childbirth AND/OR puerperium &   27 &  978 & 1005 & 0.0269 & 0.9731 &  27 & 0.02686567 & {[}-0.034, 0.088{]} \\\\\n",
       "\t female &  201909 & Female infertility                                                             &  102 & 3715 & 3817 & 0.0267 & 0.9733 & 102 & 0.02672256 & {[}-0.0046, 0.058{]}\\\\\n",
       "\t female & 4279913 & Primary ovarian failure                                                        &   62 & 3591 & 3653 & 0.0170 & 0.9830 &  62 & 0.01697235 & {[}-0.015, 0.049{]} \\\\\n",
       "\t male   &  197605 & Inflammatory disorder of male genital organ                                    & 1361 &   42 & 1403 & 0.9701 & 0.0299 &  42 & 0.02993585 & {[}-0.022, 0.081{]} \\\\\n",
       "\t male   &   26662 & Testicular hypofunction                                                        & 4157 &   44 & 4201 & 0.9895 & 0.0105 &  44 & 0.01047370 & {[}-0.02, 0.041{]}  \\\\\n",
       "\t male   &  200962 & Primary malignant neoplasm of prostate                                         & 5770 &   55 & 5825 & 0.9906 & 0.0094 &  55 & 0.00944206 & {[}-0.016, 0.035{]} \\\\\n",
       "\\end{tabular}\n"
      ],
      "text/markdown": [
       "\n",
       "A data.table: 6 × 11\n",
       "\n",
       "| sex_specificity &lt;chr&gt; | standard_concept_id &lt;int&gt; | concept_name &lt;chr&gt; | male_count &lt;int&gt; | female_count &lt;int&gt; | total_count &lt;int&gt; | male_frac &lt;dbl&gt; | female_frac &lt;dbl&gt; | incongruent_count &lt;int&gt; | incongruent_freq &lt;dbl&gt; | incongruent_CI &lt;chr&gt; |\n",
       "|---|---|---|---|---|---|---|---|---|---|---|\n",
       "| female |  440787 | Drug dependence in mother complicating pregnancy, childbirth AND/OR puerperium |   27 |  978 | 1005 | 0.0269 | 0.9731 |  27 | 0.02686567 | [-0.034, 0.088]  |\n",
       "| female |  201909 | Female infertility                                                             |  102 | 3715 | 3817 | 0.0267 | 0.9733 | 102 | 0.02672256 | [-0.0046, 0.058] |\n",
       "| female | 4279913 | Primary ovarian failure                                                        |   62 | 3591 | 3653 | 0.0170 | 0.9830 |  62 | 0.01697235 | [-0.015, 0.049]  |\n",
       "| male   |  197605 | Inflammatory disorder of male genital organ                                    | 1361 |   42 | 1403 | 0.9701 | 0.0299 |  42 | 0.02993585 | [-0.022, 0.081]  |\n",
       "| male   |   26662 | Testicular hypofunction                                                        | 4157 |   44 | 4201 | 0.9895 | 0.0105 |  44 | 0.01047370 | [-0.02, 0.041]   |\n",
       "| male   |  200962 | Primary malignant neoplasm of prostate                                         | 5770 |   55 | 5825 | 0.9906 | 0.0094 |  55 | 0.00944206 | [-0.016, 0.035]  |\n",
       "\n"
      ],
      "text/plain": [
       "  sex_specificity standard_concept_id\n",
       "1 female           440787            \n",
       "2 female           201909            \n",
       "3 female          4279913            \n",
       "4 male             197605            \n",
       "5 male              26662            \n",
       "6 male             200962            \n",
       "  concept_name                                                                  \n",
       "1 Drug dependence in mother complicating pregnancy, childbirth AND/OR puerperium\n",
       "2 Female infertility                                                            \n",
       "3 Primary ovarian failure                                                       \n",
       "4 Inflammatory disorder of male genital organ                                   \n",
       "5 Testicular hypofunction                                                       \n",
       "6 Primary malignant neoplasm of prostate                                        \n",
       "  male_count female_count total_count male_frac female_frac incongruent_count\n",
       "1   27        978         1005        0.0269    0.9731       27              \n",
       "2  102       3715         3817        0.0267    0.9733      102              \n",
       "3   62       3591         3653        0.0170    0.9830       62              \n",
       "4 1361         42         1403        0.9701    0.0299       42              \n",
       "5 4157         44         4201        0.9895    0.0105       44              \n",
       "6 5770         55         5825        0.9906    0.0094       55              \n",
       "  incongruent_freq incongruent_CI  \n",
       "1 0.02686567       [-0.034, 0.088] \n",
       "2 0.02672256       [-0.0046, 0.058]\n",
       "3 0.01697235       [-0.015, 0.049] \n",
       "4 0.02993585       [-0.022, 0.081] \n",
       "5 0.01047370       [-0.02, 0.041]  \n",
       "6 0.00944206       [-0.016, 0.035] "
      ]
     },
     "metadata": {},
     "output_type": "display_data"
    }
   ],
   "source": [
    "rbind(sex_cond_report_full[sex_specificity=='female'][order(-male_frac)][1:3],\n",
    "sex_cond_report_full[sex_specificity=='male'][order(-female_frac)][1:3])"
   ]
  },
  {
   "cell_type": "code",
   "execution_count": 59,
   "id": "31f1a55b",
   "metadata": {},
   "outputs": [],
   "source": [
    "sex_cond_report_full[,male_count2:=as.character(male_count)][,female_count2:=as.character(female_count)]\n",
    "sex_cond_report_full[male_count<=20,male_count2:='<=20']\n",
    "sex_cond_report_full[male_count<=20,female_count2:=paste0('>=',total_count-20)]\n",
    "sex_cond_report_full[female_count<=20,female_count2:='<=20']\n",
    "sex_cond_report_full[female_count<=20,male_count2:=paste0('>=',total_count-20)]"
   ]
  },
  {
   "cell_type": "code",
   "execution_count": 60,
   "id": "ee0b3677",
   "metadata": {},
   "outputs": [],
   "source": [
    "sex_cond_report_full[,male_count:=male_count2][,male_count2:=NULL][,female_count:=female_count2][,female_count2:=NULL]\n",
    "sex_cond_report_full[male_count=='<=20'|female_count=='<=20',male_frac:=NA]\n",
    "sex_cond_report_full[male_count=='<=20'|female_count=='<=20',female_frac:=NA]"
   ]
  },
  {
   "cell_type": "markdown",
   "id": "e216dee4",
   "metadata": {},
   "source": [
    "*Table S1*"
   ]
  },
  {
   "cell_type": "code",
   "execution_count": 61,
   "id": "c0ab136f",
   "metadata": {},
   "outputs": [],
   "source": [
    "fwrite(sex_cond_report_full[order(-total_count)],'Table_S1_167_conditions.csv')"
   ]
  },
  {
   "cell_type": "markdown",
   "id": "421a714b",
   "metadata": {},
   "source": [
    "#### limit our subsequent investigation to sex-specific conditions observed in mixed sexs"
   ]
  },
  {
   "cell_type": "code",
   "execution_count": 62,
   "id": "e10449db",
   "metadata": {},
   "outputs": [],
   "source": [
    "female_cond<-sex_cond[male_frac<.5][['standard_concept_id']]\n",
    "male_cond<-sex_cond[male_frac>.5][['standard_concept_id']]"
   ]
  },
  {
   "cell_type": "code",
   "execution_count": 63,
   "id": "9ef47f7b",
   "metadata": {},
   "outputs": [
    {
     "data": {
      "text/html": [
       "151"
      ],
      "text/latex": [
       "151"
      ],
      "text/markdown": [
       "151"
      ],
      "text/plain": [
       "[1] 151"
      ]
     },
     "metadata": {},
     "output_type": "display_data"
    },
    {
     "data": {
      "text/html": [
       "16"
      ],
      "text/latex": [
       "16"
      ],
      "text/markdown": [
       "16"
      ],
      "text/plain": [
       "[1] 16"
      ]
     },
     "metadata": {},
     "output_type": "display_data"
    }
   ],
   "source": [
    "length(female_cond)\n",
    "length(male_cond)"
   ]
  },
  {
   "cell_type": "markdown",
   "id": "42652102",
   "metadata": {},
   "source": [
    "### Evaluate impact from gender fluidity"
   ]
  },
  {
   "cell_type": "markdown",
   "id": "82d3f8e2",
   "metadata": {},
   "source": [
    "#### males_w_m, males_w_f, females_w_m, females_w_f"
   ]
  },
  {
   "cell_type": "code",
   "execution_count": 64,
   "id": "46edbb5f",
   "metadata": {},
   "outputs": [],
   "source": [
    "males_w_m_cond <- bq_table_download(bq_project_query(\n",
    "    BILLING_PROJECT_ID, page_size = 25000,\n",
    "    query = str_glue('\n",
    "SELECT \n",
    "    m.person_id,\n",
    "    m.condition_concept_id,\n",
    "    c.concept_name\n",
    "FROM `{CDR}.condition_occurrence` m \n",
    "JOIN `{CDR}.concept` c ON m.condition_concept_id = c.concept_id \n",
    "JOIN `{CDR}.person` p ON m.person_id = p.person_id\n",
    "WHERE p.sex_at_birth_concept_id = 45880669 \n",
    "AND m.condition_concept_id IN (',paste(male_cond,collapse=\",\"),')\n",
    "')))"
   ]
  },
  {
   "cell_type": "code",
   "execution_count": 65,
   "id": "8bd201d1",
   "metadata": {},
   "outputs": [],
   "source": [
    "males_w_f_cond <- bq_table_download(bq_project_query(\n",
    "    BILLING_PROJECT_ID, page_size = 25000,\n",
    "    query = str_glue('\n",
    "SELECT \n",
    "    m.person_id,\n",
    "    m.condition_concept_id,\n",
    "    c.concept_name\n",
    "FROM `{CDR}.condition_occurrence` m \n",
    "JOIN `{CDR}.concept` c ON m.condition_concept_id = c.concept_id \n",
    "JOIN `{CDR}.person` p ON m.person_id = p.person_id\n",
    "WHERE p.sex_at_birth_concept_id = 45880669 \n",
    "AND m.condition_concept_id IN (',paste(female_cond,collapse=\",\"),')\n",
    "')))"
   ]
  },
  {
   "cell_type": "code",
   "execution_count": 66,
   "id": "9dde3129",
   "metadata": {},
   "outputs": [],
   "source": [
    "females_w_f_cond <- bq_table_download(bq_project_query(\n",
    "    BILLING_PROJECT_ID, page_size = 25000,\n",
    "    query = str_glue('\n",
    "SELECT \n",
    "    m.person_id,\n",
    "    m.condition_concept_id,\n",
    "    c.concept_name\n",
    "FROM `{CDR}.condition_occurrence` m \n",
    "JOIN `{CDR}.concept` c ON m.condition_concept_id = c.concept_id \n",
    "JOIN `{CDR}.person` p ON m.person_id = p.person_id\n",
    "WHERE p.sex_at_birth_concept_id = 45878463 \n",
    "AND m.condition_concept_id IN (',paste(female_cond,collapse=\",\"),')\n",
    "')))"
   ]
  },
  {
   "cell_type": "code",
   "execution_count": 67,
   "id": "32216009",
   "metadata": {},
   "outputs": [],
   "source": [
    "females_w_m_cond <- bq_table_download(bq_project_query(\n",
    "    BILLING_PROJECT_ID, page_size = 25000,\n",
    "    query = str_glue('\n",
    "SELECT \n",
    "    m.person_id,\n",
    "    m.condition_concept_id,\n",
    "    c.concept_name\n",
    "FROM `{CDR}.condition_occurrence` m \n",
    "JOIN `{CDR}.concept` c ON m.condition_concept_id = c.concept_id \n",
    "JOIN `{CDR}.person` p ON m.person_id = p.person_id\n",
    "WHERE p.sex_at_birth_concept_id = 45878463 \n",
    "AND m.condition_concept_id IN (',paste(male_cond,collapse=\",\"),')\n",
    "')))"
   ]
  },
  {
   "cell_type": "code",
   "execution_count": 68,
   "id": "bf43d34e",
   "metadata": {},
   "outputs": [],
   "source": [
    "males_w_m<-as.data.table(males_w_m_cond)[,.N,by=.(person_id,condition_concept_id,concept_name)]\n",
    "females_w_f<-as.data.table(females_w_f_cond)[,.N,by=.(person_id,condition_concept_id,concept_name)]\n",
    "males_w_f<-as.data.table(males_w_f_cond)[,.N,by=.(person_id,condition_concept_id,concept_name)]\n",
    "females_w_m<-as.data.table(females_w_m_cond)[,.N,by=.(person_id,condition_concept_id,concept_name)]"
   ]
  },
  {
   "cell_type": "code",
   "execution_count": 69,
   "id": "a8689643",
   "metadata": {},
   "outputs": [],
   "source": [
    "fwrite(males_w_m,'males_with_male_conditions.csv')\n",
    "fwrite(males_w_f,'males_with_female_conditions.csv')\n",
    "fwrite(females_w_m,'females_with_male_conditions.csv')\n",
    "fwrite(females_w_f,'females_with_female_conditions.csv')"
   ]
  },
  {
   "cell_type": "code",
   "execution_count": 70,
   "id": "230bda4a",
   "metadata": {},
   "outputs": [],
   "source": [
    "males_w_m<-fread('males_with_male_conditions.csv')\n",
    "males_w_f<-fread('males_with_female_conditions.csv')\n",
    "females_w_m<-fread('females_with_male_conditions.csv')\n",
    "females_w_f<-fread('females_with_female_conditions.csv')"
   ]
  },
  {
   "cell_type": "code",
   "execution_count": 71,
   "id": "981a8c1e",
   "metadata": {},
   "outputs": [],
   "source": [
    "fwm_subject<-unique(females_w_m[['person_id']])\n",
    "mwf_subject<-unique(males_w_f[['person_id']])"
   ]
  },
  {
   "cell_type": "code",
   "execution_count": 72,
   "id": "25442aeb",
   "metadata": {},
   "outputs": [
    {
     "data": {
      "text/html": [
       "36422"
      ],
      "text/latex": [
       "36422"
      ],
      "text/markdown": [
       "36422"
      ],
      "text/plain": [
       "[1] 36422"
      ]
     },
     "metadata": {},
     "output_type": "display_data"
    }
   ],
   "source": [
    "length(unique(males_w_m[['person_id']]))"
   ]
  },
  {
   "cell_type": "code",
   "execution_count": 73,
   "id": "a48d14df",
   "metadata": {
    "scrolled": true
   },
   "outputs": [
    {
     "data": {
      "text/html": [
       "96285"
      ],
      "text/latex": [
       "96285"
      ],
      "text/markdown": [
       "96285"
      ],
      "text/plain": [
       "[1] 96285"
      ]
     },
     "metadata": {},
     "output_type": "display_data"
    }
   ],
   "source": [
    "length(unique(females_w_f[['person_id']]))"
   ]
  },
  {
   "cell_type": "code",
   "execution_count": 74,
   "id": "e945cfba",
   "metadata": {},
   "outputs": [
    {
     "data": {
      "text/html": [
       "338"
      ],
      "text/latex": [
       "338"
      ],
      "text/markdown": [
       "338"
      ],
      "text/plain": [
       "[1] 338"
      ]
     },
     "metadata": {},
     "output_type": "display_data"
    }
   ],
   "source": [
    "length(fwm_subject)"
   ]
  },
  {
   "cell_type": "code",
   "execution_count": 75,
   "id": "f578581b",
   "metadata": {},
   "outputs": [
    {
     "data": {
      "text/html": [
       "950"
      ],
      "text/latex": [
       "950"
      ],
      "text/markdown": [
       "950"
      ],
      "text/plain": [
       "[1] 950"
      ]
     },
     "metadata": {},
     "output_type": "display_data"
    }
   ],
   "source": [
    "length(mwf_subject)"
   ]
  },
  {
   "cell_type": "code",
   "execution_count": 76,
   "id": "03a3c57f",
   "metadata": {},
   "outputs": [
    {
     "name": "stdout",
     "output_type": "stream",
     "text": [
      "133995 participants with 167 selected conditions (Without sex-conforming gender)"
     ]
    }
   ],
   "source": [
    "cat(paste(36422+96285+338+950,\"participants with 167 selected conditions (Without sex-conforming gender)\"))"
   ]
  },
  {
   "cell_type": "code",
   "execution_count": 77,
   "id": "a52d1aa1",
   "metadata": {},
   "outputs": [
    {
     "data": {
      "text/html": [
       "1288"
      ],
      "text/latex": [
       "1288"
      ],
      "text/markdown": [
       "1288"
      ],
      "text/plain": [
       "[1] 1288"
      ]
     },
     "metadata": {},
     "output_type": "display_data"
    }
   ],
   "source": [
    "length(fwm_subject)+length(mwf_subject)"
   ]
  },
  {
   "cell_type": "markdown",
   "id": "9be9451e",
   "metadata": {},
   "source": [
    "#### confirm incongruent participant sex by microarray autogenderCalls"
   ]
  },
  {
   "cell_type": "code",
   "execution_count": 78,
   "id": "e9f65e92",
   "metadata": {},
   "outputs": [],
   "source": [
    "person_df <- bq_table_download(bq_project_query(\n",
    "    BILLING_PROJECT_ID, page_size = 25000,\n",
    "    query = str_glue('\n",
    "SELECT \n",
    "    person_id,sex_at_birth_source_value,gender_source_value\n",
    "FROM {CDR}.person\n",
    "WHERE person_id IN (',paste(unique(c(fwm_subject,mwf_subject)),collapse=\",\"),')\n",
    "')))\n",
    "setDT(person_df)"
   ]
  },
  {
   "cell_type": "code",
   "execution_count": 79,
   "id": "09af24d6",
   "metadata": {},
   "outputs": [
    {
     "data": {
      "text/html": [
       "1288"
      ],
      "text/latex": [
       "1288"
      ],
      "text/markdown": [
       "1288"
      ],
      "text/plain": [
       "[1] 1288"
      ]
     },
     "metadata": {},
     "output_type": "display_data"
    }
   ],
   "source": [
    "affected.ids<-unique(c(females_w_m_cond[['person_id']],males_w_f_cond[['person_id']]))\n",
    "length(affected.ids)\n",
    "fwrite(data.table(s=affected.ids),'affected_ids.txt')"
   ]
  },
  {
   "cell_type": "code",
   "execution_count": 80,
   "id": "37b7e509",
   "metadata": {},
   "outputs": [],
   "source": [
    "library(data.table)"
   ]
  },
  {
   "cell_type": "markdown",
   "id": "166d204a",
   "metadata": {},
   "source": [
    "run bash script to retreive genomically inferred sex and output as resolved_sex.txt"
   ]
  },
  {
   "cell_type": "code",
   "execution_count": 81,
   "id": "3ee3cd9d",
   "metadata": {},
   "outputs": [],
   "source": [
    "resolved<-fread('resolved_sex.txt')\n",
    "resolved<-resolved[V1%in%affected.ids]\n",
    "resolved<-resolved[!is.na(V2)]"
   ]
  },
  {
   "cell_type": "code",
   "execution_count": 82,
   "id": "622b448d",
   "metadata": {
    "scrolled": true
   },
   "outputs": [],
   "source": [
    "resolved[,sex_at_birth:=person_df[match(resolved[['V1']],person_id)][['sex_at_birth_source_value']]]"
   ]
  },
  {
   "cell_type": "code",
   "execution_count": 83,
   "id": "dccddf74",
   "metadata": {},
   "outputs": [
    {
     "name": "stdout",
     "output_type": "stream",
     "text": [
      "1027 participants have genomics-inferred sex available."
     ]
    }
   ],
   "source": [
    "cat(paste(nrow(resolved),\"participants have genomics-inferred sex available.\"))"
   ]
  },
  {
   "cell_type": "markdown",
   "id": "b1531362",
   "metadata": {},
   "source": [
    "Note that 1288 is the total incongruent cases and 1027 are the genomically confirmed cases. These numbers include non-cisgender participants"
   ]
  },
  {
   "cell_type": "code",
   "execution_count": 84,
   "id": "bf164b27",
   "metadata": {},
   "outputs": [
    {
     "data": {
      "text/html": [
       "<table class=\"dataframe\">\n",
       "<caption>A data.table: 2 × 3</caption>\n",
       "<thead>\n",
       "\t<tr><th scope=col>V2</th><th scope=col>sex_at_birth</th><th scope=col>N</th></tr>\n",
       "\t<tr><th scope=col>&lt;chr&gt;</th><th scope=col>&lt;chr&gt;</th><th scope=col>&lt;int&gt;</th></tr>\n",
       "</thead>\n",
       "<tbody>\n",
       "\t<tr><td>F</td><td>SexAtBirth_Female</td><td>252</td></tr>\n",
       "\t<tr><td>M</td><td>SexAtBirth_Male  </td><td>775</td></tr>\n",
       "</tbody>\n",
       "</table>\n"
      ],
      "text/latex": [
       "A data.table: 2 × 3\n",
       "\\begin{tabular}{lll}\n",
       " V2 & sex\\_at\\_birth & N\\\\\n",
       " <chr> & <chr> & <int>\\\\\n",
       "\\hline\n",
       "\t F & SexAtBirth\\_Female & 252\\\\\n",
       "\t M & SexAtBirth\\_Male   & 775\\\\\n",
       "\\end{tabular}\n"
      ],
      "text/markdown": [
       "\n",
       "A data.table: 2 × 3\n",
       "\n",
       "| V2 &lt;chr&gt; | sex_at_birth &lt;chr&gt; | N &lt;int&gt; |\n",
       "|---|---|---|\n",
       "| F | SexAtBirth_Female | 252 |\n",
       "| M | SexAtBirth_Male   | 775 |\n",
       "\n"
      ],
      "text/plain": [
       "  V2 sex_at_birth      N  \n",
       "1 F  SexAtBirth_Female 252\n",
       "2 M  SexAtBirth_Male   775"
      ]
     },
     "metadata": {},
     "output_type": "display_data"
    }
   ],
   "source": [
    "# Perfect match\n",
    "resolved[,.N,by=.(V2,sex_at_birth)]"
   ]
  },
  {
   "cell_type": "markdown",
   "id": "8aa7f495",
   "metadata": {},
   "source": [
    "Here are the numbers excluding non-cisgender participants"
   ]
  },
  {
   "cell_type": "code",
   "execution_count": 85,
   "id": "6ffb1dae",
   "metadata": {
    "scrolled": true
   },
   "outputs": [
    {
     "data": {
      "text/plain": [
       "\n",
       "FALSE  TRUE \n",
       " 1134   154 "
      ]
     },
     "metadata": {},
     "output_type": "display_data"
    }
   ],
   "source": [
    "table(affected.ids%in%noncisgender_person_df$person_id)"
   ]
  },
  {
   "cell_type": "code",
   "execution_count": 88,
   "id": "95d3c190",
   "metadata": {},
   "outputs": [
    {
     "name": "stdout",
     "output_type": "stream",
     "text": [
      "978 cisgender participants have sex at birth confirmed by genomics-inferred sex"
     ]
    }
   ],
   "source": [
    "cat(paste(nrow(resolved[!V1%in%noncisgender_person_df$person_id]),\n",
    "      \"cisgender participants have sex at birth confirmed by genomics-inferred sex\"))"
   ]
  },
  {
   "cell_type": "markdown",
   "id": "d2d5e737",
   "metadata": {},
   "source": [
    "#### compare gender distribution in all participants vs. incongruent cases"
   ]
  },
  {
   "cell_type": "markdown",
   "id": "26c81116",
   "metadata": {},
   "source": [
    "##### prepare figure in all subjects"
   ]
  },
  {
   "cell_type": "code",
   "execution_count": 89,
   "id": "a5bf4f72",
   "metadata": {
    "scrolled": false
   },
   "outputs": [
    {
     "data": {
      "text/html": [
       "<table class=\"dataframe\">\n",
       "<caption>A tibble: 7 × 2</caption>\n",
       "<thead>\n",
       "\t<tr><th scope=col>sex</th><th scope=col>unique_person_count</th></tr>\n",
       "\t<tr><th scope=col>&lt;chr&gt;</th><th scope=col>&lt;int&gt;</th></tr>\n",
       "</thead>\n",
       "<tbody>\n",
       "\t<tr><td>SexAtBirth_Female               </td><td>154914</td></tr>\n",
       "\t<tr><td>SexAtBirth_Male                 </td><td> 94413</td></tr>\n",
       "\t<tr><td>No matching concept             </td><td>  2403</td></tr>\n",
       "\t<tr><td>PMI_Skip                        </td><td>  2455</td></tr>\n",
       "\t<tr><td>PMI_PreferNotToAnswer           </td><td>   172</td></tr>\n",
       "\t<tr><td>SexAtBirth_SexAtBirthNoneOfThese</td><td>    81</td></tr>\n",
       "\t<tr><td>SexAtBirth_Intersex             </td><td>    49</td></tr>\n",
       "</tbody>\n",
       "</table>\n"
      ],
      "text/latex": [
       "A tibble: 7 × 2\n",
       "\\begin{tabular}{ll}\n",
       " sex & unique\\_person\\_count\\\\\n",
       " <chr> & <int>\\\\\n",
       "\\hline\n",
       "\t SexAtBirth\\_Female                & 154914\\\\\n",
       "\t SexAtBirth\\_Male                  &  94413\\\\\n",
       "\t No matching concept              &   2403\\\\\n",
       "\t PMI\\_Skip                         &   2455\\\\\n",
       "\t PMI\\_PreferNotToAnswer            &    172\\\\\n",
       "\t SexAtBirth\\_SexAtBirthNoneOfThese &     81\\\\\n",
       "\t SexAtBirth\\_Intersex              &     49\\\\\n",
       "\\end{tabular}\n"
      ],
      "text/markdown": [
       "\n",
       "A tibble: 7 × 2\n",
       "\n",
       "| sex &lt;chr&gt; | unique_person_count &lt;int&gt; |\n",
       "|---|---|\n",
       "| SexAtBirth_Female                | 154914 |\n",
       "| SexAtBirth_Male                  |  94413 |\n",
       "| No matching concept              |   2403 |\n",
       "| PMI_Skip                         |   2455 |\n",
       "| PMI_PreferNotToAnswer            |    172 |\n",
       "| SexAtBirth_SexAtBirthNoneOfThese |     81 |\n",
       "| SexAtBirth_Intersex              |     49 |\n",
       "\n"
      ],
      "text/plain": [
       "  sex                              unique_person_count\n",
       "1 SexAtBirth_Female                154914             \n",
       "2 SexAtBirth_Male                   94413             \n",
       "3 No matching concept                2403             \n",
       "4 PMI_Skip                           2455             \n",
       "5 PMI_PreferNotToAnswer               172             \n",
       "6 SexAtBirth_SexAtBirthNoneOfThese     81             \n",
       "7 SexAtBirth_Intersex                  49             "
      ]
     },
     "metadata": {},
     "output_type": "display_data"
    }
   ],
   "source": [
    "all_cond_count_by_sex <- bq_table_download(bq_project_query(\n",
    "    BILLING_PROJECT_ID, page_size = 25000,\n",
    "    query = str_glue('\n",
    "SELECT \n",
    "    p.sex_at_birth_source_value AS sex,\n",
    "    COUNT(DISTINCT m.person_id) as unique_person_count\n",
    "FROM `{CDR}.condition_occurrence` m\n",
    "JOIN `{CDR}.person` p\n",
    "ON m.person_id = p.person_id\n",
    "GROUP BY p.sex_at_birth_source_value\n",
    "')))\n",
    "all_cond_count_by_sex"
   ]
  },
  {
   "cell_type": "code",
   "execution_count": 90,
   "id": "3a469d04",
   "metadata": {},
   "outputs": [],
   "source": [
    "setDT(all_cond_count_by_sex)"
   ]
  },
  {
   "cell_type": "code",
   "execution_count": 91,
   "id": "7016ae47",
   "metadata": {
    "scrolled": true
   },
   "outputs": [],
   "source": [
    "all_person_freq<-all_person_df[sex_at_birth_source_value%in%c('SexAtBirth_Male','SexAtBirth_Female'),.N,\n",
    "                               by=.(sex_at_birth_source_value,gender_source_value)]\n",
    "all_person_freq<-all_person_freq[!grepl('PMI',gender_source_value)]\n",
    "all_person_freq[!grepl(\"Man|Woman\",gender_source_value),other:=T]"
   ]
  },
  {
   "cell_type": "code",
   "execution_count": 92,
   "id": "47569dcd",
   "metadata": {
    "scrolled": false
   },
   "outputs": [],
   "source": [
    "all_other_df<-data.table(gender_source_value=paste(gsub('GenderIdentity_','',unique(all_person_freq[!grepl(\"Man|Woman\",gender_source_value)][['gender_source_value']])),\n",
    "      collapse = '/'),all_person_freq[,list(N=sum(N)),by=.(other,sex_at_birth_source_value)][!is.na(other)])"
   ]
  },
  {
   "cell_type": "code",
   "execution_count": 93,
   "id": "2deb5451",
   "metadata": {},
   "outputs": [],
   "source": [
    "all_person_freq2<-rbind(all_person_freq[grepl(\"Man|Woman\",gender_source_value),c('sex_at_birth_source_value','gender_source_value','N')],\n",
    "all_other_df[,c('sex_at_birth_source_value','gender_source_value','N')])"
   ]
  },
  {
   "cell_type": "code",
   "execution_count": 94,
   "id": "2cceba2e",
   "metadata": {},
   "outputs": [],
   "source": [
    "all_person_freq2[,frac:=N/sum(N),by=sex_at_birth_source_value]"
   ]
  },
  {
   "cell_type": "code",
   "execution_count": 95,
   "id": "7a519d22",
   "metadata": {},
   "outputs": [],
   "source": [
    "g1<-ggplot(all_person_freq2,aes(y=gender_source_value,x=frac))+geom_bar(stat='identity')+\n",
    "facet_wrap(~sex_at_birth_source_value,ncol=1)+theme_bw()+theme(axis.title.y = element_blank())+\n",
    "ggtitle(\"all participants\")"
   ]
  },
  {
   "cell_type": "markdown",
   "id": "699e4b53",
   "metadata": {},
   "source": [
    "##### top frequent conditions (in person/across person) in non-cisgender subjets"
   ]
  },
  {
   "cell_type": "code",
   "execution_count": 96,
   "id": "0b0cacf2",
   "metadata": {},
   "outputs": [],
   "source": [
    "noncis_mwf<-person_df[sex_at_birth_source_value=='SexAtBirth_Male' & !gender_source_value%in%c('GenderIdentity_Man','PMI_Skip','PMI_PreferNotToAnswer')]\n",
    "noncis_fwm<-person_df[sex_at_birth_source_value=='SexAtBirth_Female' & !gender_source_value%in%c('GenderIdentity_Woman','PMI_Skip','PMI_PreferNotToAnswer')]"
   ]
  },
  {
   "cell_type": "markdown",
   "id": "18089d91",
   "metadata": {},
   "source": [
    "##### prepare figure in incongruent cases"
   ]
  },
  {
   "cell_type": "code",
   "execution_count": 97,
   "id": "cdff315e",
   "metadata": {},
   "outputs": [],
   "source": [
    "sex_match.df<-rbind(person_df[person_id%in%females_w_m_cond[['person_id']],.N,\n",
    "                                     by=.(sex_at_birth_source_value,gender_source_value)],\n",
    "person_df[person_id%in%males_w_f_cond[['person_id']],.N,\n",
    "                                     by=.(sex_at_birth_source_value,gender_source_value)])"
   ]
  },
  {
   "cell_type": "code",
   "execution_count": 98,
   "id": "bc9a2624",
   "metadata": {},
   "outputs": [],
   "source": [
    "cisgender.ind<-person_df[,.I[(sex_at_birth_source_value=='SexAtBirth_Male' & gender_source_value=='GenderIdentity_Man')|\n",
    "         (sex_at_birth_source_value=='SexAtBirth_Female' & gender_source_value=='GenderIdentity_Woman')]]"
   ]
  },
  {
   "cell_type": "code",
   "execution_count": 99,
   "id": "39526fdc",
   "metadata": {},
   "outputs": [],
   "source": [
    "noncisgender.person_df<-person_df[-cisgender.ind] # 158"
   ]
  },
  {
   "cell_type": "code",
   "execution_count": 100,
   "id": "8a487a07",
   "metadata": {},
   "outputs": [],
   "source": [
    "sex_match.df<-sex_match.df[!grepl('PMI',gender_source_value)]\n",
    "sex_match.df[!grepl(\"Man|Woman\",gender_source_value),other:=T]"
   ]
  },
  {
   "cell_type": "code",
   "execution_count": 101,
   "id": "3fd7b6db",
   "metadata": {},
   "outputs": [],
   "source": [
    "sex_match_other.df<-data.table(gender_source_value=all_other_df[['gender_source_value']][1],\n",
    "                               sex_match.df[,list(N=sum(N)),by=.(other,sex_at_birth_source_value)][!is.na(other)])"
   ]
  },
  {
   "cell_type": "code",
   "execution_count": 102,
   "id": "eab9b9f8",
   "metadata": {},
   "outputs": [],
   "source": [
    "sex_match.df2<-rbind(sex_match.df[grepl(\"Man|Woman\",gender_source_value),c('sex_at_birth_source_value','gender_source_value','N')],\n",
    "sex_match_other.df[,c('sex_at_birth_source_value','gender_source_value','N')])\n",
    "sex_match.df2[,frac:=N/sum(N),by=sex_at_birth_source_value]"
   ]
  },
  {
   "cell_type": "code",
   "execution_count": 103,
   "id": "6e81b1d0",
   "metadata": {},
   "outputs": [],
   "source": [
    "g2<-ggplot(sex_match.df2,aes(y=gender_source_value,x=frac))+geom_bar(stat='identity')+\n",
    "facet_wrap(~sex_at_birth_source_value,ncol=1)+theme_bw()+theme(axis.title.y = element_blank())+\n",
    "ggtitle(\"participants with\\nincongruent sex-specific conditions\")"
   ]
  },
  {
   "cell_type": "code",
   "execution_count": 104,
   "id": "40d81531",
   "metadata": {},
   "outputs": [
    {
     "data": {
      "image/png": "[encoded data removed]",
      "text/plain": [
       "plot without title"
      ]
     },
     "metadata": {
      "image/png": {
       "height": 180,
       "width": 780
      }
     },
     "output_type": "display_data"
    }
   ],
   "source": [
    "options(repr.plot.width=13, repr.plot.height=3)\n",
    "g1|(g2+theme(axis.text.y = element_blank()))"
   ]
  },
  {
   "cell_type": "code",
   "execution_count": 105,
   "id": "30a56b36",
   "metadata": {},
   "outputs": [],
   "source": [
    "all_person_freq2[gender_source_value=='NonBinary/GeneralizedDiffGender/Transgender/AdditionalOptions',\n",
    "             gender_source_value:=\"NonBinary/GeneralizedDiffGender\\n/Transgender/AdditionalOptions\"]"
   ]
  },
  {
   "cell_type": "code",
   "execution_count": 106,
   "id": "5fab3a7a",
   "metadata": {},
   "outputs": [],
   "source": [
    "g1<-ggplot(all_person_freq2,aes(y=gender_source_value,x=frac))+geom_bar(stat='identity')+\n",
    "facet_wrap(~sex_at_birth_source_value,ncol=1)+theme_bw()+theme(axis.title.y = element_blank())+\n",
    "ggtitle(\"all participants\")"
   ]
  },
  {
   "cell_type": "markdown",
   "id": "b0221c7e",
   "metadata": {},
   "source": [
    "*Figure 4*"
   ]
  },
  {
   "cell_type": "code",
   "execution_count": 107,
   "id": "5c60b1e4",
   "metadata": {},
   "outputs": [
    {
     "data": {
      "text/html": [
       "<strong>png:</strong> 2"
      ],
      "text/latex": [
       "\\textbf{png:} 2"
      ],
      "text/markdown": [
       "**png:** 2"
      ],
      "text/plain": [
       "png \n",
       "  2 "
      ]
     },
     "metadata": {},
     "output_type": "display_data"
    },
    {
     "data": {
      "image/png": "[encoded data removed]",
      "text/plain": [
       "plot without title"
      ]
     },
     "metadata": {
      "image/png": {
       "height": 180,
       "width": 540
      }
     },
     "output_type": "display_data"
    }
   ],
   "source": [
    "options(repr.plot.width=9, repr.plot.height=3);g1|(g2+theme(axis.text.y = element_blank()))\n",
    "pdf('output/gender_distribution_all_vs_incongruent.pdf',w=8,h=3)\n",
    "g1|(g2+theme(axis.text.y = element_blank()))\n",
    "dev.off()"
   ]
  },
  {
   "cell_type": "markdown",
   "id": "61636f21",
   "metadata": {},
   "source": [
    "How does sex at birth match with gender from the survey data"
   ]
  },
  {
   "cell_type": "code",
   "execution_count": 108,
   "id": "d68ac6e9",
   "metadata": {},
   "outputs": [
    {
     "data": {
      "text/html": [
       "<table class=\"dataframe\">\n",
       "<caption>A data.table: 6 × 4</caption>\n",
       "<thead>\n",
       "\t<tr><th scope=col>sex_at_birth_source_value</th><th scope=col>gender_source_value</th><th scope=col>N</th><th scope=col>frac</th></tr>\n",
       "\t<tr><th scope=col>&lt;chr&gt;</th><th scope=col>&lt;chr&gt;</th><th scope=col>&lt;int&gt;</th><th scope=col>&lt;dbl&gt;</th></tr>\n",
       "</thead>\n",
       "<tbody>\n",
       "\t<tr><td>SexAtBirth_Male  </td><td>GenderIdentity_Man                                             </td><td>152093</td><td>0.989589636</td></tr>\n",
       "\t<tr><td>SexAtBirth_Male  </td><td>GenderIdentity_Woman                                           </td><td>   424</td><td>0.002758746</td></tr>\n",
       "\t<tr><td>SexAtBirth_Female</td><td>GenderIdentity_Woman                                           </td><td>245131</td><td>0.988419495</td></tr>\n",
       "\t<tr><td>SexAtBirth_Female</td><td>GenderIdentity_Man                                             </td><td>   514</td><td>0.002072556</td></tr>\n",
       "\t<tr><td>SexAtBirth_Male  </td><td>NonBinary/GeneralizedDiffGender\n",
       "/Transgender/AdditionalOptions</td><td>  1176</td><td>0.007651617</td></tr>\n",
       "\t<tr><td>SexAtBirth_Female</td><td>NonBinary/GeneralizedDiffGender\n",
       "/Transgender/AdditionalOptions</td><td>  2358</td><td>0.009507950</td></tr>\n",
       "</tbody>\n",
       "</table>\n"
      ],
      "text/latex": [
       "A data.table: 6 × 4\n",
       "\\begin{tabular}{llll}\n",
       " sex\\_at\\_birth\\_source\\_value & gender\\_source\\_value & N & frac\\\\\n",
       " <chr> & <chr> & <int> & <dbl>\\\\\n",
       "\\hline\n",
       "\t SexAtBirth\\_Male   & GenderIdentity\\_Man                                              & 152093 & 0.989589636\\\\\n",
       "\t SexAtBirth\\_Male   & GenderIdentity\\_Woman                                            &    424 & 0.002758746\\\\\n",
       "\t SexAtBirth\\_Female & GenderIdentity\\_Woman                                            & 245131 & 0.988419495\\\\\n",
       "\t SexAtBirth\\_Female & GenderIdentity\\_Man                                              &    514 & 0.002072556\\\\\n",
       "\t SexAtBirth\\_Male   & NonBinary/GeneralizedDiffGender\n",
       "/Transgender/AdditionalOptions &   1176 & 0.007651617\\\\\n",
       "\t SexAtBirth\\_Female & NonBinary/GeneralizedDiffGender\n",
       "/Transgender/AdditionalOptions &   2358 & 0.009507950\\\\\n",
       "\\end{tabular}\n"
      ],
      "text/markdown": [
       "\n",
       "A data.table: 6 × 4\n",
       "\n",
       "| sex_at_birth_source_value &lt;chr&gt; | gender_source_value &lt;chr&gt; | N &lt;int&gt; | frac &lt;dbl&gt; |\n",
       "|---|---|---|---|\n",
       "| SexAtBirth_Male   | GenderIdentity_Man                                              | 152093 | 0.989589636 |\n",
       "| SexAtBirth_Male   | GenderIdentity_Woman                                            |    424 | 0.002758746 |\n",
       "| SexAtBirth_Female | GenderIdentity_Woman                                            | 245131 | 0.988419495 |\n",
       "| SexAtBirth_Female | GenderIdentity_Man                                              |    514 | 0.002072556 |\n",
       "| SexAtBirth_Male   | NonBinary/GeneralizedDiffGender\n",
       "/Transgender/AdditionalOptions |   1176 | 0.007651617 |\n",
       "| SexAtBirth_Female | NonBinary/GeneralizedDiffGender\n",
       "/Transgender/AdditionalOptions |   2358 | 0.009507950 |\n",
       "\n"
      ],
      "text/plain": [
       "  sex_at_birth_source_value\n",
       "1 SexAtBirth_Male          \n",
       "2 SexAtBirth_Male          \n",
       "3 SexAtBirth_Female        \n",
       "4 SexAtBirth_Female        \n",
       "5 SexAtBirth_Male          \n",
       "6 SexAtBirth_Female        \n",
       "  gender_source_value                                             N     \n",
       "1 GenderIdentity_Man                                              152093\n",
       "2 GenderIdentity_Woman                                               424\n",
       "3 GenderIdentity_Woman                                            245131\n",
       "4 GenderIdentity_Man                                                 514\n",
       "5 NonBinary/GeneralizedDiffGender\\n/Transgender/AdditionalOptions   1176\n",
       "6 NonBinary/GeneralizedDiffGender\\n/Transgender/AdditionalOptions   2358\n",
       "  frac       \n",
       "1 0.989589636\n",
       "2 0.002758746\n",
       "3 0.988419495\n",
       "4 0.002072556\n",
       "5 0.007651617\n",
       "6 0.009507950"
      ]
     },
     "metadata": {},
     "output_type": "display_data"
    }
   ],
   "source": [
    "all_person_freq2"
   ]
  },
  {
   "cell_type": "markdown",
   "id": "75ecb621",
   "metadata": {},
   "source": [
    "### OIR calculation"
   ]
  },
  {
   "cell_type": "markdown",
   "id": "90958b52",
   "metadata": {},
   "source": [
    "#### include all biological females and males"
   ]
  },
  {
   "cell_type": "code",
   "execution_count": 109,
   "id": "f38238b4",
   "metadata": {},
   "outputs": [
    {
     "data": {
      "text/html": [
       "950"
      ],
      "text/latex": [
       "950"
      ],
      "text/markdown": [
       "950"
      ],
      "text/plain": [
       "[1] 950"
      ]
     },
     "metadata": {},
     "output_type": "display_data"
    },
    {
     "data": {
      "text/html": [
       "96285"
      ],
      "text/latex": [
       "96285"
      ],
      "text/markdown": [
       "96285"
      ],
      "text/plain": [
       "[1] 96285"
      ]
     },
     "metadata": {},
     "output_type": "display_data"
    },
    {
     "data": {
      "text/html": [
       "338"
      ],
      "text/latex": [
       "338"
      ],
      "text/markdown": [
       "338"
      ],
      "text/plain": [
       "[1] 338"
      ]
     },
     "metadata": {},
     "output_type": "display_data"
    },
    {
     "data": {
      "text/html": [
       "36422"
      ],
      "text/latex": [
       "36422"
      ],
      "text/markdown": [
       "36422"
      ],
      "text/plain": [
       "[1] 36422"
      ]
     },
     "metadata": {},
     "output_type": "display_data"
    }
   ],
   "source": [
    "mf.n<-length(unique(males_w_f[['person_id']]));mf.n\n",
    "ff.n<-length(unique(females_w_f[['person_id']]));ff.n\n",
    "fm.n<-length(unique(females_w_m[['person_id']]));fm.n\n",
    "mm.n<-length(unique(males_w_m[['person_id']]));mm.n"
   ]
  },
  {
   "cell_type": "code",
   "execution_count": 110,
   "id": "96d468c1",
   "metadata": {},
   "outputs": [
    {
     "data": {
      "text/html": [
       "0.0097701444952949"
      ],
      "text/latex": [
       "0.0097701444952949"
      ],
      "text/markdown": [
       "0.0097701444952949"
      ],
      "text/plain": [
       "[1] 0.009770144"
      ]
     },
     "metadata": {},
     "output_type": "display_data"
    },
    {
     "data": {
      "text/html": [
       "0.00919477693144722"
      ],
      "text/latex": [
       "0.00919477693144722"
      ],
      "text/markdown": [
       "0.00919477693144722"
      ],
      "text/plain": [
       "[1] 0.009194777"
      ]
     },
     "metadata": {},
     "output_type": "display_data"
    },
    {
     "data": {
      "text/html": [
       "0.00961229896637934"
      ],
      "text/latex": [
       "0.00961229896637934"
      ],
      "text/markdown": [
       "0.00961229896637934"
      ],
      "text/plain": [
       "[1] 0.009612299"
      ]
     },
     "metadata": {},
     "output_type": "display_data"
    }
   ],
   "source": [
    "mf.n/(mf.n+ff.n)\n",
    "fm.n/(fm.n+mm.n)\n",
    "(fm.n+mf.n)/(mf.n+ff.n+fm.n+mm.n)"
   ]
  },
  {
   "cell_type": "code",
   "execution_count": 111,
   "id": "e993af9d",
   "metadata": {},
   "outputs": [
    {
     "data": {
      "text/html": [
       "'[0.0092, 0.01]'"
      ],
      "text/latex": [
       "'{[}0.0092, 0.01{]}'"
      ],
      "text/markdown": [
       "'[0.0092, 0.01]'"
      ],
      "text/plain": [
       "[1] \"[0.0092, 0.01]\""
      ]
     },
     "metadata": {},
     "output_type": "display_data"
    },
    {
     "data": {
      "text/html": [
       "'[0.0082, 0.01]'"
      ],
      "text/latex": [
       "'{[}0.0082, 0.01{]}'"
      ],
      "text/markdown": [
       "'[0.0082, 0.01]'"
      ],
      "text/plain": [
       "[1] \"[0.0082, 0.01]\""
      ]
     },
     "metadata": {},
     "output_type": "display_data"
    },
    {
     "data": {
      "text/html": [
       "'[0.0091, 0.01]'"
      ],
      "text/latex": [
       "'{[}0.0091, 0.01{]}'"
      ],
      "text/markdown": [
       "'[0.0091, 0.01]'"
      ],
      "text/plain": [
       "[1] \"[0.0091, 0.01]\""
      ]
     },
     "metadata": {},
     "output_type": "display_data"
    }
   ],
   "source": [
    "CI(p = mf.n/(mf.n+ff.n),n=mf.n+ff.n)\n",
    "CI(p = fm.n/(fm.n+mm.n),n=fm.n+mm.n)\n",
    "CI(p = (fm.n+mf.n)/(mf.n+ff.n+fm.n+mm.n),n=mf.n+ff.n+fm.n+mm.n)"
   ]
  },
  {
   "cell_type": "code",
   "execution_count": 112,
   "id": "fb6720fa",
   "metadata": {},
   "outputs": [
    {
     "data": {
      "text/html": [
       "133995"
      ],
      "text/latex": [
       "133995"
      ],
      "text/markdown": [
       "133995"
      ],
      "text/plain": [
       "[1] 133995"
      ]
     },
     "metadata": {},
     "output_type": "display_data"
    }
   ],
   "source": [
    "mf.n+ff.n+fm.n+mm.n"
   ]
  },
  {
   "cell_type": "code",
   "execution_count": 113,
   "id": "f1da80c3",
   "metadata": {},
   "outputs": [
    {
     "data": {
      "text/html": [
       "0.621538401952051"
      ],
      "text/latex": [
       "0.621538401952051"
      ],
      "text/markdown": [
       "0.621538401952051"
      ],
      "text/plain": [
       "[1] 0.6215384"
      ]
     },
     "metadata": {},
     "output_type": "display_data"
    },
    {
     "data": {
      "text/html": [
       "0.385773145647316"
      ],
      "text/latex": [
       "0.385773145647316"
      ],
      "text/markdown": [
       "0.385773145647316"
      ],
      "text/plain": [
       "[1] 0.3857731"
      ]
     },
     "metadata": {},
     "output_type": "display_data"
    }
   ],
   "source": [
    "length(unique(females_w_f[['person_id']]))/\n",
    "all_cond_count_by_sex[sex=='SexAtBirth_Female'][['unique_person_count']]\n",
    "length(unique(males_w_m[['person_id']]))/\n",
    "all_cond_count_by_sex[sex=='SexAtBirth_Male'][['unique_person_count']]"
   ]
  },
  {
   "cell_type": "markdown",
   "id": "c83e6251",
   "metadata": {},
   "source": [
    "#### OIR excluding non-cisgender participants"
   ]
  },
  {
   "cell_type": "code",
   "execution_count": 150,
   "id": "7feb5e1e",
   "metadata": {},
   "outputs": [
    {
     "data": {
      "text/html": [
       "<table class=\"dataframe\">\n",
       "<caption>A data.table: 9 × 2</caption>\n",
       "<thead>\n",
       "\t<tr><th scope=col>gender_source_value</th><th scope=col>N</th></tr>\n",
       "\t<tr><th scope=col>&lt;chr&gt;</th><th scope=col>&lt;int&gt;</th></tr>\n",
       "</thead>\n",
       "<tbody>\n",
       "\t<tr><td>PMI_Skip                            </td><td>  7356</td></tr>\n",
       "\t<tr><td>No matching concept                 </td><td>    97</td></tr>\n",
       "\t<tr><td>GenderIdentity_Man                  </td><td>154241</td></tr>\n",
       "\t<tr><td>GenderIdentity_Woman                </td><td>247453</td></tr>\n",
       "\t<tr><td>PMI_PreferNotToAnswer               </td><td>   602</td></tr>\n",
       "\t<tr><td>GenderIdentity_GeneralizedDiffGender</td><td>  1526</td></tr>\n",
       "\t<tr><td>GenderIdentity_AdditionalOptions    </td><td>   407</td></tr>\n",
       "\t<tr><td>GenderIdentity_Transgender          </td><td>   562</td></tr>\n",
       "\t<tr><td>GenderIdentity_NonBinary            </td><td>  1213</td></tr>\n",
       "</tbody>\n",
       "</table>\n"
      ],
      "text/latex": [
       "A data.table: 9 × 2\n",
       "\\begin{tabular}{ll}\n",
       " gender\\_source\\_value & N\\\\\n",
       " <chr> & <int>\\\\\n",
       "\\hline\n",
       "\t PMI\\_Skip                             &   7356\\\\\n",
       "\t No matching concept                  &     97\\\\\n",
       "\t GenderIdentity\\_Man                   & 154241\\\\\n",
       "\t GenderIdentity\\_Woman                 & 247453\\\\\n",
       "\t PMI\\_PreferNotToAnswer                &    602\\\\\n",
       "\t GenderIdentity\\_GeneralizedDiffGender &   1526\\\\\n",
       "\t GenderIdentity\\_AdditionalOptions     &    407\\\\\n",
       "\t GenderIdentity\\_Transgender           &    562\\\\\n",
       "\t GenderIdentity\\_NonBinary             &   1213\\\\\n",
       "\\end{tabular}\n"
      ],
      "text/markdown": [
       "\n",
       "A data.table: 9 × 2\n",
       "\n",
       "| gender_source_value &lt;chr&gt; | N &lt;int&gt; |\n",
       "|---|---|\n",
       "| PMI_Skip                             |   7356 |\n",
       "| No matching concept                  |     97 |\n",
       "| GenderIdentity_Man                   | 154241 |\n",
       "| GenderIdentity_Woman                 | 247453 |\n",
       "| PMI_PreferNotToAnswer                |    602 |\n",
       "| GenderIdentity_GeneralizedDiffGender |   1526 |\n",
       "| GenderIdentity_AdditionalOptions     |    407 |\n",
       "| GenderIdentity_Transgender           |    562 |\n",
       "| GenderIdentity_NonBinary             |   1213 |\n",
       "\n"
      ],
      "text/plain": [
       "  gender_source_value                  N     \n",
       "1 PMI_Skip                               7356\n",
       "2 No matching concept                      97\n",
       "3 GenderIdentity_Man                   154241\n",
       "4 GenderIdentity_Woman                 247453\n",
       "5 PMI_PreferNotToAnswer                   602\n",
       "6 GenderIdentity_GeneralizedDiffGender   1526\n",
       "7 GenderIdentity_AdditionalOptions        407\n",
       "8 GenderIdentity_Transgender              562\n",
       "9 GenderIdentity_NonBinary               1213"
      ]
     },
     "metadata": {},
     "output_type": "display_data"
    }
   ],
   "source": [
    "all_person_df[,.N,by=gender_source_value]"
   ]
  },
  {
   "cell_type": "markdown",
   "id": "595deeb9",
   "metadata": {},
   "source": [
    "##### within Male and Female gender"
   ]
  },
  {
   "cell_type": "code",
   "execution_count": 133,
   "id": "83bd62fe",
   "metadata": {},
   "outputs": [],
   "source": [
    "binary_gender_person_df<-all_person_df[gender_source_value%in%c('GenderIdentity_Man','GenderIdentity_Woman')]"
   ]
  },
  {
   "cell_type": "code",
   "execution_count": 134,
   "id": "72a71d36",
   "metadata": {},
   "outputs": [
    {
     "data": {
      "text/html": [
       "918"
      ],
      "text/latex": [
       "918"
      ],
      "text/markdown": [
       "918"
      ],
      "text/plain": [
       "[1] 918"
      ]
     },
     "metadata": {},
     "output_type": "display_data"
    },
    {
     "data": {
      "text/html": [
       "95148"
      ],
      "text/latex": [
       "95148"
      ],
      "text/markdown": [
       "95148"
      ],
      "text/plain": [
       "[1] 95148"
      ]
     },
     "metadata": {},
     "output_type": "display_data"
    },
    {
     "data": {
      "text/html": [
       "323"
      ],
      "text/latex": [
       "323"
      ],
      "text/markdown": [
       "323"
      ],
      "text/plain": [
       "[1] 323"
      ]
     },
     "metadata": {},
     "output_type": "display_data"
    },
    {
     "data": {
      "text/html": [
       "35921"
      ],
      "text/latex": [
       "35921"
      ],
      "text/markdown": [
       "35921"
      ],
      "text/plain": [
       "[1] 35921"
      ]
     },
     "metadata": {},
     "output_type": "display_data"
    }
   ],
   "source": [
    "mf.n<-length(intersect(binary_gender_person_df$person_id,unique(males_w_f[['person_id']])));mf.n\n",
    "ff.n<-length(intersect(binary_gender_person_df$person_id,unique(females_w_f[['person_id']])));ff.n\n",
    "fm.n<-length(intersect(binary_gender_person_df$person_id,unique(females_w_m[['person_id']])));fm.n\n",
    "mm.n<-length(intersect(binary_gender_person_df$person_id,unique(males_w_m[['person_id']])));mm.n"
   ]
  },
  {
   "cell_type": "code",
   "execution_count": 135,
   "id": "889abf54",
   "metadata": {},
   "outputs": [
    {
     "data": {
      "text/html": [
       "132310"
      ],
      "text/latex": [
       "132310"
      ],
      "text/markdown": [
       "132310"
      ],
      "text/plain": [
       "[1] 132310"
      ]
     },
     "metadata": {},
     "output_type": "display_data"
    }
   ],
   "source": [
    "mf.n+ff.n+fm.n+mm.n"
   ]
  },
  {
   "cell_type": "code",
   "execution_count": 136,
   "id": "6f09da6c",
   "metadata": {},
   "outputs": [
    {
     "data": {
      "text/html": [
       "0.00955593029792018"
      ],
      "text/latex": [
       "0.00955593029792018"
      ],
      "text/markdown": [
       "0.00955593029792018"
      ],
      "text/plain": [
       "[1] 0.00955593"
      ]
     },
     "metadata": {},
     "output_type": "display_data"
    },
    {
     "data": {
      "text/html": [
       "0.00891181988742964"
      ],
      "text/latex": [
       "0.00891181988742964"
      ],
      "text/markdown": [
       "0.00891181988742964"
      ],
      "text/plain": [
       "[1] 0.00891182"
      ]
     },
     "metadata": {},
     "output_type": "display_data"
    },
    {
     "data": {
      "text/html": [
       "0.00937948756707732"
      ],
      "text/latex": [
       "0.00937948756707732"
      ],
      "text/markdown": [
       "0.00937948756707732"
      ],
      "text/plain": [
       "[1] 0.009379488"
      ]
     },
     "metadata": {},
     "output_type": "display_data"
    }
   ],
   "source": [
    "mf.n/(mf.n+ff.n)\n",
    "fm.n/(fm.n+mm.n)\n",
    "(fm.n+mf.n)/(mf.n+ff.n+fm.n+mm.n)"
   ]
  },
  {
   "cell_type": "code",
   "execution_count": 137,
   "id": "9fc844a0",
   "metadata": {},
   "outputs": [
    {
     "data": {
      "text/html": [
       "'[0.0089, 0.0099]'"
      ],
      "text/latex": [
       "'{[}0.0089, 0.0099{]}'"
      ],
      "text/markdown": [
       "'[0.0089, 0.0099]'"
      ],
      "text/plain": [
       "[1] \"[0.0089, 0.0099]\""
      ]
     },
     "metadata": {},
     "output_type": "display_data"
    }
   ],
   "source": [
    "CI(p = (fm.n+mf.n)/(mf.n+ff.n+fm.n+mm.n),n=mf.n+ff.n+fm.n+mm.n)"
   ]
  },
  {
   "cell_type": "markdown",
   "id": "f779444c",
   "metadata": {},
   "source": [
    "##### Strictly non-cisgender (Table 1, bottom half)"
   ]
  },
  {
   "cell_type": "code",
   "execution_count": 139,
   "id": "726524d8",
   "metadata": {},
   "outputs": [],
   "source": [
    "all_cisgender_person_df<-all_person_df[which(!noncisgender)]"
   ]
  },
  {
   "cell_type": "code",
   "execution_count": 140,
   "id": "0efe5d2f",
   "metadata": {},
   "outputs": [
    {
     "data": {
      "text/html": [
       "849"
      ],
      "text/latex": [
       "849"
      ],
      "text/markdown": [
       "849"
      ],
      "text/plain": [
       "[1] 849"
      ]
     },
     "metadata": {},
     "output_type": "display_data"
    },
    {
     "data": {
      "text/html": [
       "95015"
      ],
      "text/latex": [
       "95015"
      ],
      "text/markdown": [
       "95015"
      ],
      "text/plain": [
       "[1] 95015"
      ]
     },
     "metadata": {},
     "output_type": "display_data"
    },
    {
     "data": {
      "text/html": [
       "285"
      ],
      "text/latex": [
       "285"
      ],
      "text/markdown": [
       "285"
      ],
      "text/plain": [
       "[1] 285"
      ]
     },
     "metadata": {},
     "output_type": "display_data"
    },
    {
     "data": {
      "text/html": [
       "35875"
      ],
      "text/latex": [
       "35875"
      ],
      "text/markdown": [
       "35875"
      ],
      "text/plain": [
       "[1] 35875"
      ]
     },
     "metadata": {},
     "output_type": "display_data"
    }
   ],
   "source": [
    "mf.n<-length(intersect(all_cisgender_person_df$person_id,unique(males_w_f[['person_id']])));mf.n\n",
    "ff.n<-length(intersect(all_cisgender_person_df$person_id,unique(females_w_f[['person_id']])));ff.n\n",
    "fm.n<-length(intersect(all_cisgender_person_df$person_id,unique(females_w_m[['person_id']])));fm.n\n",
    "mm.n<-length(intersect(all_cisgender_person_df$person_id,unique(males_w_m[['person_id']])));mm.n"
   ]
  },
  {
   "cell_type": "code",
   "execution_count": 141,
   "id": "73ad6c7e",
   "metadata": {},
   "outputs": [
    {
     "data": {
      "text/html": [
       "36724"
      ],
      "text/latex": [
       "36724"
      ],
      "text/markdown": [
       "36724"
      ],
      "text/plain": [
       "[1] 36724"
      ]
     },
     "metadata": {},
     "output_type": "display_data"
    },
    {
     "data": {
      "text/html": [
       "95300"
      ],
      "text/latex": [
       "95300"
      ],
      "text/markdown": [
       "95300"
      ],
      "text/plain": [
       "[1] 95300"
      ]
     },
     "metadata": {},
     "output_type": "display_data"
    }
   ],
   "source": [
    "mf.n+mm.n\n",
    "ff.n+fm.n"
   ]
  },
  {
   "cell_type": "code",
   "execution_count": 142,
   "id": "e6f3fc9c",
   "metadata": {
    "scrolled": true
   },
   "outputs": [
    {
     "data": {
      "text/html": [
       "132024"
      ],
      "text/latex": [
       "132024"
      ],
      "text/markdown": [
       "132024"
      ],
      "text/plain": [
       "[1] 132024"
      ]
     },
     "metadata": {},
     "output_type": "display_data"
    }
   ],
   "source": [
    "mf.n+ff.n+fm.n+mm.n"
   ]
  },
  {
   "cell_type": "code",
   "execution_count": 143,
   "id": "410e56aa",
   "metadata": {},
   "outputs": [
    {
     "data": {
      "text/html": [
       "1134"
      ],
      "text/latex": [
       "1134"
      ],
      "text/markdown": [
       "1134"
      ],
      "text/plain": [
       "[1] 1134"
      ]
     },
     "metadata": {},
     "output_type": "display_data"
    },
    {
     "data": {
      "text/html": [
       "130890"
      ],
      "text/latex": [
       "130890"
      ],
      "text/markdown": [
       "130890"
      ],
      "text/plain": [
       "[1] 130890"
      ]
     },
     "metadata": {},
     "output_type": "display_data"
    }
   ],
   "source": [
    "mf.n+fm.n\n",
    "ff.n+mm.n"
   ]
  },
  {
   "cell_type": "code",
   "execution_count": 144,
   "id": "03c2ac3a",
   "metadata": {},
   "outputs": [
    {
     "data": {
      "text/html": [
       "0.00885629641992823"
      ],
      "text/latex": [
       "0.00885629641992823"
      ],
      "text/markdown": [
       "0.00885629641992823"
      ],
      "text/plain": [
       "[1] 0.008856296"
      ]
     },
     "metadata": {},
     "output_type": "display_data"
    },
    {
     "data": {
      "text/html": [
       "0.00788163716814159"
      ],
      "text/latex": [
       "0.00788163716814159"
      ],
      "text/markdown": [
       "0.00788163716814159"
      ],
      "text/plain": [
       "[1] 0.007881637"
      ]
     },
     "metadata": {},
     "output_type": "display_data"
    },
    {
     "data": {
      "text/html": [
       "0.00858934739138338"
      ],
      "text/latex": [
       "0.00858934739138338"
      ],
      "text/markdown": [
       "0.00858934739138338"
      ],
      "text/plain": [
       "[1] 0.008589347"
      ]
     },
     "metadata": {},
     "output_type": "display_data"
    }
   ],
   "source": [
    "mf.n/(mf.n+ff.n)\n",
    "fm.n/(fm.n+mm.n)\n",
    "(fm.n+mf.n)/(mf.n+ff.n+fm.n+mm.n)"
   ]
  },
  {
   "cell_type": "code",
   "execution_count": 145,
   "id": "d74de808",
   "metadata": {
    "scrolled": true
   },
   "outputs": [
    {
     "data": {
      "text/html": [
       "'[0.0083, 0.0094]'"
      ],
      "text/latex": [
       "'{[}0.0083, 0.0094{]}'"
      ],
      "text/markdown": [
       "'[0.0083, 0.0094]'"
      ],
      "text/plain": [
       "[1] \"[0.0083, 0.0094]\""
      ]
     },
     "metadata": {},
     "output_type": "display_data"
    },
    {
     "data": {
      "text/html": [
       "'[0.007, 0.0088]'"
      ],
      "text/latex": [
       "'{[}0.007, 0.0088{]}'"
      ],
      "text/markdown": [
       "'[0.007, 0.0088]'"
      ],
      "text/plain": [
       "[1] \"[0.007, 0.0088]\""
      ]
     },
     "metadata": {},
     "output_type": "display_data"
    },
    {
     "data": {
      "text/html": [
       "'[0.0081, 0.0091]'"
      ],
      "text/latex": [
       "'{[}0.0081, 0.0091{]}'"
      ],
      "text/markdown": [
       "'[0.0081, 0.0091]'"
      ],
      "text/plain": [
       "[1] \"[0.0081, 0.0091]\""
      ]
     },
     "metadata": {},
     "output_type": "display_data"
    }
   ],
   "source": [
    "CI(p = mf.n/(mf.n+ff.n),n=mf.n+ff.n)\n",
    "CI(p = fm.n/(fm.n+mm.n),n=fm.n+mm.n)\n",
    "CI(p = (fm.n+mf.n)/(mf.n+ff.n+fm.n+mm.n),n=mf.n+ff.n+fm.n+mm.n)"
   ]
  },
  {
   "cell_type": "code",
   "execution_count": 146,
   "id": "eda98b5e",
   "metadata": {},
   "outputs": [
    {
     "data": {
      "text/html": [
       "1134"
      ],
      "text/latex": [
       "1134"
      ],
      "text/markdown": [
       "1134"
      ],
      "text/plain": [
       "[1] 1134"
      ]
     },
     "metadata": {},
     "output_type": "display_data"
    }
   ],
   "source": [
    "mf.id<-intersect(all_noncisgender_person_df$person_id,unique(males_w_f[['person_id']]))\n",
    "fm.id<-intersect(all_noncisgender_person_df$person_id,unique(females_w_m[['person_id']]))\n",
    "affected.ids<-unique(c(mf.id,fm.id))\n",
    "length(affected.ids)"
   ]
  },
  {
   "cell_type": "code",
   "execution_count": 147,
   "id": "c6ee2905",
   "metadata": {},
   "outputs": [
    {
     "data": {
      "text/html": [
       "<style>\n",
       ".list-inline {list-style: none; margin:0; padding: 0}\n",
       ".list-inline>li {display: inline-block}\n",
       ".list-inline>li:not(:last-child)::after {content: \"\\00b7\"; padding: 0 .5ex}\n",
       "</style>\n",
       "<ol class=list-inline><li>1134</li><li>2</li></ol>\n"
      ],
      "text/latex": [
       "\\begin{enumerate*}\n",
       "\\item 1134\n",
       "\\item 2\n",
       "\\end{enumerate*}\n"
      ],
      "text/markdown": [
       "1. 1134\n",
       "2. 2\n",
       "\n",
       "\n"
      ],
      "text/plain": [
       "[1] 1134    2"
      ]
     },
     "metadata": {},
     "output_type": "display_data"
    }
   ],
   "source": [
    "resolved<-fread('resolved_sex.txt')\n",
    "resolved<-resolved[V1%in%affected.ids]\n",
    "dim(resolved)"
   ]
  },
  {
   "cell_type": "code",
   "execution_count": 148,
   "id": "b8b832c8",
   "metadata": {},
   "outputs": [
    {
     "data": {
      "text/html": [
       "<style>\n",
       ".list-inline {list-style: none; margin:0; padding: 0}\n",
       ".list-inline>li {display: inline-block}\n",
       ".list-inline>li:not(:last-child)::after {content: \"\\00b7\"; padding: 0 .5ex}\n",
       "</style>\n",
       "<ol class=list-inline><li>978</li><li>2</li></ol>\n"
      ],
      "text/latex": [
       "\\begin{enumerate*}\n",
       "\\item 978\n",
       "\\item 2\n",
       "\\end{enumerate*}\n"
      ],
      "text/markdown": [
       "1. 978\n",
       "2. 2\n",
       "\n",
       "\n"
      ],
      "text/plain": [
       "[1] 978   2"
      ]
     },
     "metadata": {},
     "output_type": "display_data"
    }
   ],
   "source": [
    "resolved<-resolved[!is.na(V2)]\n",
    "dim(resolved)"
   ]
  },
  {
   "cell_type": "markdown",
   "id": "efb9a7bf",
   "metadata": {},
   "source": [
    "### concurrent sex-specific conditions "
   ]
  },
  {
   "cell_type": "markdown",
   "id": "8794cebe",
   "metadata": {},
   "source": [
    "#### opposite sex"
   ]
  },
  {
   "cell_type": "code",
   "execution_count": 129,
   "id": "e16da738",
   "metadata": {},
   "outputs": [
    {
     "data": {
      "text/html": [
       "338"
      ],
      "text/latex": [
       "338"
      ],
      "text/markdown": [
       "338"
      ],
      "text/plain": [
       "[1] 338"
      ]
     },
     "metadata": {},
     "output_type": "display_data"
    },
    {
     "data": {
      "text/html": [
       "259"
      ],
      "text/latex": [
       "259"
      ],
      "text/markdown": [
       "259"
      ],
      "text/plain": [
       "[1] 259"
      ]
     },
     "metadata": {},
     "output_type": "display_data"
    },
    {
     "data": {
      "text/html": [
       "950"
      ],
      "text/latex": [
       "950"
      ],
      "text/markdown": [
       "950"
      ],
      "text/plain": [
       "[1] 950"
      ]
     },
     "metadata": {},
     "output_type": "display_data"
    },
    {
     "data": {
      "text/html": [
       "603"
      ],
      "text/latex": [
       "603"
      ],
      "text/markdown": [
       "603"
      ],
      "text/plain": [
       "[1] 603"
      ]
     },
     "metadata": {},
     "output_type": "display_data"
    },
    {
     "data": {
      "text/html": [
       "0.766272189349112"
      ],
      "text/latex": [
       "0.766272189349112"
      ],
      "text/markdown": [
       "0.766272189349112"
      ],
      "text/plain": [
       "[1] 0.7662722"
      ]
     },
     "metadata": {},
     "output_type": "display_data"
    },
    {
     "data": {
      "text/html": [
       "0.634736842105263"
      ],
      "text/latex": [
       "0.634736842105263"
      ],
      "text/markdown": [
       "0.634736842105263"
      ],
      "text/plain": [
       "[1] 0.6347368"
      ]
     },
     "metadata": {},
     "output_type": "display_data"
    }
   ],
   "source": [
    "# females with male-specific condition subjects\n",
    "fwm_subject<-unique(females_w_m[['person_id']])\n",
    "# females with both male-specific and female-specific condition subjects\n",
    "fwmf_subject<-unique(intersect(females_w_m[['person_id']],females_w_f[['person_id']]))\n",
    "# males with female-specific condition subjects\n",
    "mwf_subject<-unique(males_w_f[['person_id']])\n",
    "# males with both male-specific and female-specific condition subjects\n",
    "mwfm_subject<-unique(intersect(males_w_f[['person_id']],males_w_m[['person_id']]))\n",
    "length(fwm_subject)\n",
    "length(fwmf_subject)\n",
    "length(mwf_subject)\n",
    "length(mwfm_subject)\n",
    "# fraction of subjects with conditions of opposite sex over subjects with incongruent conditions, by sex\n",
    "length(fwmf_subject)/length(fwm_subject)\n",
    "length(mwfm_subject)/length(mwf_subject)"
   ]
  },
  {
   "cell_type": "code",
   "execution_count": 150,
   "id": "545c1150",
   "metadata": {},
   "outputs": [
    {
     "data": {
      "text/html": [
       "285"
      ],
      "text/latex": [
       "285"
      ],
      "text/markdown": [
       "285"
      ],
      "text/plain": [
       "[1] 285"
      ]
     },
     "metadata": {},
     "output_type": "display_data"
    },
    {
     "data": {
      "text/html": [
       "248"
      ],
      "text/latex": [
       "248"
      ],
      "text/markdown": [
       "248"
      ],
      "text/plain": [
       "[1] 248"
      ]
     },
     "metadata": {},
     "output_type": "display_data"
    },
    {
     "data": {
      "text/html": [
       "849"
      ],
      "text/latex": [
       "849"
      ],
      "text/markdown": [
       "849"
      ],
      "text/plain": [
       "[1] 849"
      ]
     },
     "metadata": {},
     "output_type": "display_data"
    },
    {
     "data": {
      "text/html": [
       "583"
      ],
      "text/latex": [
       "583"
      ],
      "text/markdown": [
       "583"
      ],
      "text/plain": [
       "[1] 583"
      ]
     },
     "metadata": {},
     "output_type": "display_data"
    },
    {
     "data": {
      "text/html": [
       "0.870175438596491"
      ],
      "text/latex": [
       "0.870175438596491"
      ],
      "text/markdown": [
       "0.870175438596491"
      ],
      "text/plain": [
       "[1] 0.8701754"
      ]
     },
     "metadata": {},
     "output_type": "display_data"
    },
    {
     "data": {
      "text/html": [
       "0.686690223792697"
      ],
      "text/latex": [
       "0.686690223792697"
      ],
      "text/markdown": [
       "0.686690223792697"
      ],
      "text/plain": [
       "[1] 0.6866902"
      ]
     },
     "metadata": {},
     "output_type": "display_data"
    }
   ],
   "source": [
    "# compute this within the strictlly cisgender participants (numbers used in text)\n",
    "fwm.n<-length(intersect(fwm_subject,all_cisgender_person_df$person_id))\n",
    "fwmf.n<-length(intersect(fwmf_subject,all_cisgender_person_df$person_id))\n",
    "mwf.n<-length(intersect(mwf_subject,all_cisgender_person_df$person_id))\n",
    "mwfm.n<-length(intersect(mwfm_subject,all_cisgender_person_df$person_id))\n",
    "fwm.n\n",
    "fwmf.n\n",
    "mwf.n\n",
    "mwfm.n\n",
    "fwmf.n/fwm.n\n",
    "mwfm.n/mwf.n"
   ]
  },
  {
   "cell_type": "markdown",
   "id": "7fdb6a43",
   "metadata": {},
   "source": [
    "#### multiple unique conditions"
   ]
  },
  {
   "cell_type": "code",
   "execution_count": 151,
   "id": "8e061028",
   "metadata": {},
   "outputs": [],
   "source": [
    "N.df<-rbind(data.table(type=\"females with\\nmale conditions\",N=females_w_m[['N']]),\n",
    "     data.table(type=\"females with\\nfemale conditions\",N=females_w_f[['N']]),\n",
    "     data.table(type=\"males with\\nfemale conditions\",N=males_w_m[['N']]),\n",
    "     data.table(type=\"males with\\nmale conditions\",N=males_w_f[['N']]))"
   ]
  },
  {
   "cell_type": "code",
   "execution_count": 154,
   "id": "6bc8368a",
   "metadata": {},
   "outputs": [
    {
     "name": "stdout",
     "output_type": "stream",
     "text": [
      "0.056  of females with male-specific conditions have more than one of such conditions\n",
      "0.771  of females with female-specific conditions have more than one of such conditions"
     ]
    }
   ],
   "source": [
    "cat(paste(round(nrow(females_w_m[!person_id%in%noncisgender_person_df$person_id,.N,by=person_id][N>1])/\n",
    "    nrow(females_w_m[!person_id%in%noncisgender_person_df$person_id,.N,by=person_id]),3),\n",
    "      \" of females with male-specific conditions have more than one of such conditions\\n\"))\n",
    "cat(paste(round(nrow(females_w_f[!person_id%in%noncisgender_person_df$person_id,.N,by=person_id][N>1])/\n",
    "    nrow(females_w_f[!person_id%in%noncisgender_person_df$person_id,.N,by=person_id]),3),\n",
    "      \" of females with female-specific conditions have more than one of such conditions\"))"
   ]
  },
  {
   "cell_type": "code",
   "execution_count": 155,
   "id": "ae8c2a21",
   "metadata": {},
   "outputs": [
    {
     "name": "stdout",
     "output_type": "stream",
     "text": [
      "0.2  of males with female-specific conditions have more than one of such conditions\n",
      "0.604  of males with male-specific conditions have more than one of such conditions"
     ]
    }
   ],
   "source": [
    "cat(paste(round(nrow(males_w_f[!person_id%in%noncisgender_person_df$person_id,.N,by=person_id][N>1])/\n",
    "    nrow(males_w_f[!person_id%in%noncisgender_person_df$person_id,.N,by=person_id]),3),\n",
    "      \" of males with female-specific conditions have more than one of such conditions\\n\"))\n",
    "cat(paste(round(nrow(males_w_m[!person_id%in%noncisgender_person_df$person_id,.N,by=person_id][N>1])/\n",
    "    nrow(males_w_m[!person_id%in%noncisgender_person_df$person_id,.N,by=person_id]),3),\n",
    "      \" of males with male-specific conditions have more than one of such conditions\"))"
   ]
  },
  {
   "cell_type": "markdown",
   "id": "aed8e63c",
   "metadata": {},
   "source": [
    "### geographical spread"
   ]
  },
  {
   "cell_type": "code",
   "execution_count": 156,
   "id": "9a93b056",
   "metadata": {},
   "outputs": [],
   "source": [
    "source('../Cohort_builder/data_loader2.R')"
   ]
  },
  {
   "cell_type": "code",
   "execution_count": 157,
   "id": "8c544161",
   "metadata": {},
   "outputs": [
    {
     "name": "stdout",
     "output_type": "stream",
     "text": [
      "[1] \"person data chosen.\"\n"
     ]
    },
    {
     "name": "stderr",
     "output_type": "stream",
     "text": [
      "Loading gs://fc-secure-4f1d4ea4-6226-44c5-8138-471e05dd74f3/bq_exports/ling.cai@researchallofus.org/20230818/person_66357698/person_66357698_000000000000.csv.\n",
      "\n",
      "Warning message:\n",
      "“The following named parsers don't match the column names: gender, race, ethnicity, sex_at_birth”\n"
     ]
    }
   ],
   "source": [
    "person_df<-read_bq_export_from_workspace_bucket(2);setDT(person_df)"
   ]
  },
  {
   "cell_type": "code",
   "execution_count": 158,
   "id": "4d97dbb9",
   "metadata": {},
   "outputs": [
    {
     "name": "stdout",
     "output_type": "stream",
     "text": [
      "[1] \"socioeconomics data chosen.\"\n"
     ]
    },
    {
     "name": "stderr",
     "output_type": "stream",
     "text": [
      "Loading gs://fc-secure-4f1d4ea4-6226-44c5-8138-471e05dd74f3/bq_exports/ling.cai@researchallofus.org/20230717/zip_code_socioeconomic/zip_code_socioeconomic_000000000000.csv.\n",
      "\n",
      "Warning message:\n",
      "“The following named parsers don't match the column names: zip3_as_string”\n"
     ]
    }
   ],
   "source": [
    "soc_df<-read_bq_export_from_workspace_bucket(5);setDT(soc_df)"
   ]
  },
  {
   "cell_type": "code",
   "execution_count": 159,
   "id": "9133342e",
   "metadata": {},
   "outputs": [],
   "source": [
    "p.df<-rbind(data.table(sex_at_birth='female',id=setdiff(fwm_subject,noncisgender_person_df$person_id)),\n",
    "    data.table(sex_at_birth='male',id=setdiff(mwf_subject,noncisgender_person_df$person_id)))"
   ]
  },
  {
   "cell_type": "code",
   "execution_count": 160,
   "id": "3996969e",
   "metadata": {},
   "outputs": [],
   "source": [
    "zip_mistakes<-soc_df[person_id%in%p.df$id][,.N,by=zip_code][order(-N)]"
   ]
  },
  {
   "cell_type": "code",
   "execution_count": 161,
   "id": "5f1ab601",
   "metadata": {},
   "outputs": [],
   "source": [
    "zip_mistakes[,total:=soc_df[,.N,by=zip_code][match(zip_mistakes$zip_code,zip_code)][['N']]]"
   ]
  },
  {
   "cell_type": "code",
   "execution_count": 162,
   "id": "95dd445e",
   "metadata": {},
   "outputs": [],
   "source": [
    "zip_mistakes[,frac:=N/sum(N)][,frac.pop:=total/sum(total)]"
   ]
  },
  {
   "cell_type": "code",
   "execution_count": 163,
   "id": "324f64ae",
   "metadata": {},
   "outputs": [
    {
     "name": "stdout",
     "output_type": "stream",
     "text": [
      "153 zip codes with incongruent cases found."
     ]
    }
   ],
   "source": [
    "cat(paste(nrow(zip_mistakes),'zip codes with incongruent cases found.'))"
   ]
  },
  {
   "cell_type": "code",
   "execution_count": 189,
   "id": "15661d5a",
   "metadata": {
    "scrolled": true
   },
   "outputs": [
    {
     "data": {
      "text/html": [
       "<table class=\"dataframe\">\n",
       "<caption>A data.table: 6 × 5</caption>\n",
       "<thead>\n",
       "\t<tr><th scope=col>zip_code</th><th scope=col>N</th><th scope=col>total</th><th scope=col>frac</th><th scope=col>frac.pop</th></tr>\n",
       "\t<tr><th scope=col>&lt;chr&gt;</th><th scope=col>&lt;int&gt;</th><th scope=col>&lt;int&gt;</th><th scope=col>&lt;dbl&gt;</th><th scope=col>&lt;dbl&gt;</th></tr>\n",
       "</thead>\n",
       "<tbody>\n",
       "\t<tr><td>021**</td><td>153</td><td>15113</td><td>0.13503972</td><td>0.04563448</td></tr>\n",
       "\t<tr><td>024**</td><td> 58</td><td> 3776</td><td>0.05119153</td><td>0.01140183</td></tr>\n",
       "\t<tr><td>606**</td><td> 45</td><td>25467</td><td>0.03971756</td><td>0.07689892</td></tr>\n",
       "\t<tr><td>100**</td><td> 43</td><td>13391</td><td>0.03795234</td><td>0.04043482</td></tr>\n",
       "\t<tr><td>482**</td><td> 38</td><td> 3329</td><td>0.03353928</td><td>0.01005209</td></tr>\n",
       "\t<tr><td>352**</td><td> 35</td><td> 9791</td><td>0.03089144</td><td>0.02956443</td></tr>\n",
       "</tbody>\n",
       "</table>\n"
      ],
      "text/latex": [
       "A data.table: 6 × 5\n",
       "\\begin{tabular}{lllll}\n",
       " zip\\_code & N & total & frac & frac.pop\\\\\n",
       " <chr> & <int> & <int> & <dbl> & <dbl>\\\\\n",
       "\\hline\n",
       "\t 021** & 153 & 15113 & 0.13503972 & 0.04563448\\\\\n",
       "\t 024** &  58 &  3776 & 0.05119153 & 0.01140183\\\\\n",
       "\t 606** &  45 & 25467 & 0.03971756 & 0.07689892\\\\\n",
       "\t 100** &  43 & 13391 & 0.03795234 & 0.04043482\\\\\n",
       "\t 482** &  38 &  3329 & 0.03353928 & 0.01005209\\\\\n",
       "\t 352** &  35 &  9791 & 0.03089144 & 0.02956443\\\\\n",
       "\\end{tabular}\n"
      ],
      "text/markdown": [
       "\n",
       "A data.table: 6 × 5\n",
       "\n",
       "| zip_code &lt;chr&gt; | N &lt;int&gt; | total &lt;int&gt; | frac &lt;dbl&gt; | frac.pop &lt;dbl&gt; |\n",
       "|---|---|---|---|---|\n",
       "| 021** | 153 | 15113 | 0.13503972 | 0.04563448 |\n",
       "| 024** |  58 |  3776 | 0.05119153 | 0.01140183 |\n",
       "| 606** |  45 | 25467 | 0.03971756 | 0.07689892 |\n",
       "| 100** |  43 | 13391 | 0.03795234 | 0.04043482 |\n",
       "| 482** |  38 |  3329 | 0.03353928 | 0.01005209 |\n",
       "| 352** |  35 |  9791 | 0.03089144 | 0.02956443 |\n",
       "\n"
      ],
      "text/plain": [
       "  zip_code N   total frac       frac.pop  \n",
       "1 021**    153 15113 0.13503972 0.04563448\n",
       "2 024**     58  3776 0.05119153 0.01140183\n",
       "3 606**     45 25467 0.03971756 0.07689892\n",
       "4 100**     43 13391 0.03795234 0.04043482\n",
       "5 482**     38  3329 0.03353928 0.01005209\n",
       "6 352**     35  9791 0.03089144 0.02956443"
      ]
     },
     "metadata": {},
     "output_type": "display_data"
    }
   ],
   "source": [
    "head(zip_mistakes)"
   ]
  },
  {
   "cell_type": "markdown",
   "id": "ad06bdb2",
   "metadata": {},
   "source": [
    "*Figure 5a*"
   ]
  },
  {
   "cell_type": "code",
   "execution_count": 164,
   "id": "2c5995d8",
   "metadata": {},
   "outputs": [
    {
     "data": {
      "text/html": [
       "<strong>png:</strong> 2"
      ],
      "text/latex": [
       "\\textbf{png:} 2"
      ],
      "text/markdown": [
       "**png:** 2"
      ],
      "text/plain": [
       "png \n",
       "  2 "
      ]
     },
     "metadata": {},
     "output_type": "display_data"
    },
    {
     "data": {
      "image/png": "[encoded data removed]",
      "text/plain": [
       "plot without title"
      ]
     },
     "metadata": {
      "image/png": {
       "height": 180,
       "width": 192
      }
     },
     "output_type": "display_data"
    }
   ],
   "source": [
    "options(repr.plot.width=3.2, repr.plot.height=3)\n",
    "g<-ggplot(zip_mistakes,aes(x=frac.pop,y=frac))+geom_point(alpha=.3)+geom_abline(intercept = 0,slope = 1)+\n",
    "scale_x_log10()+scale_y_log10()+theme_bw()+xlab('Population fraction')+ylab('Incongruent participant fraction')+\n",
    "theme(plot.margin = unit(c(.5,1,1,0), \"cm\"))\n",
    "g\n",
    "pdf('output/zipcode_scatterplot.pdf',w=3.2,h=3)\n",
    "g\n",
    "dev.off()"
   ]
  },
  {
   "cell_type": "code",
   "execution_count": 165,
   "id": "650b5038",
   "metadata": {},
   "outputs": [],
   "source": [
    "zip.N<-soc_df[,.N,by=zip_code]"
   ]
  },
  {
   "cell_type": "code",
   "execution_count": 166,
   "id": "c2b070ea",
   "metadata": {},
   "outputs": [],
   "source": [
    "zip.N[,issue:=ifelse(zip_code%in%zip_mistakes$zip_code,'yes','no')]"
   ]
  },
  {
   "cell_type": "code",
   "execution_count": 167,
   "id": "ba99c618",
   "metadata": {},
   "outputs": [
    {
     "data": {
      "text/html": [
       "<table class=\"dataframe\">\n",
       "<caption>A data.table: 2 × 2</caption>\n",
       "<thead>\n",
       "\t<tr><th scope=col>issue</th><th scope=col>N</th></tr>\n",
       "\t<tr><th scope=col>&lt;chr&gt;</th><th scope=col>&lt;int&gt;</th></tr>\n",
       "</thead>\n",
       "<tbody>\n",
       "\t<tr><td>no </td><td>716</td></tr>\n",
       "\t<tr><td>yes</td><td>153</td></tr>\n",
       "</tbody>\n",
       "</table>\n"
      ],
      "text/latex": [
       "A data.table: 2 × 2\n",
       "\\begin{tabular}{ll}\n",
       " issue & N\\\\\n",
       " <chr> & <int>\\\\\n",
       "\\hline\n",
       "\t no  & 716\\\\\n",
       "\t yes & 153\\\\\n",
       "\\end{tabular}\n"
      ],
      "text/markdown": [
       "\n",
       "A data.table: 2 × 2\n",
       "\n",
       "| issue &lt;chr&gt; | N &lt;int&gt; |\n",
       "|---|---|\n",
       "| no  | 716 |\n",
       "| yes | 153 |\n",
       "\n"
      ],
      "text/plain": [
       "  issue N  \n",
       "1 no    716\n",
       "2 yes   153"
      ]
     },
     "metadata": {},
     "output_type": "display_data"
    }
   ],
   "source": [
    "zip.N[,.N,by=issue]"
   ]
  },
  {
   "cell_type": "markdown",
   "id": "90f08290",
   "metadata": {},
   "source": [
    "*Figure 5b*"
   ]
  },
  {
   "cell_type": "code",
   "execution_count": 168,
   "id": "36bc8e48",
   "metadata": {},
   "outputs": [
    {
     "data": {
      "text/html": [
       "<strong>png:</strong> 2"
      ],
      "text/latex": [
       "\\textbf{png:} 2"
      ],
      "text/markdown": [
       "**png:** 2"
      ],
      "text/plain": [
       "png \n",
       "  2 "
      ]
     },
     "metadata": {},
     "output_type": "display_data"
    },
    {
     "data": {
      "image/png": "[encoded data removed]",
      "text/plain": [
       "plot without title"
      ]
     },
     "metadata": {
      "image/png": {
       "height": 60,
       "width": 192
      }
     },
     "output_type": "display_data"
    }
   ],
   "source": [
    "options(repr.plot.width=3.2, repr.plot.height=1)\n",
    "g<-ggplot(zip.N,aes(x=N,y=issue))+geom_boxplot()+scale_x_log10()+theme_bw()+xlab('total population')+\n",
    "ylab(\"incongruent\\nissue\")+theme(axis.title.y=element_text(angle=0,vjust=0.5))\n",
    "g\n",
    "pdf('output/zipcode_binary.pdf',w=3.2,h=1)\n",
    "g\n",
    "dev.off()\n"
   ]
  },
  {
   "cell_type": "markdown",
   "id": "b8ab0f2d",
   "metadata": {},
   "source": [
    "### Temporal spread"
   ]
  },
  {
   "cell_type": "code",
   "execution_count": 170,
   "id": "882052f7",
   "metadata": {},
   "outputs": [],
   "source": [
    "female_assembly <- bq_table_download(bq_project_query(\n",
    "    BILLING_PROJECT_ID, page_size = 25000,\n",
    "    query = str_glue('\n",
    "SELECT \n",
    "    p.sex_at_birth_concept_id,\n",
    "    m.person_id,m.condition_concept_id,m.condition_start_date,\n",
    "    c.concept_name\n",
    "FROM `{CDR}.condition_occurrence` m \n",
    "JOIN `{CDR}.concept` c ON m.condition_concept_id = c.concept_id \n",
    "JOIN `{CDR}.person` p ON m.person_id = p.person_id\n",
    "AND m.condition_concept_id IN (',paste(female_cond,collapse=\",\"),')\n",
    "')))\n",
    "setDT(female_assembly)"
   ]
  },
  {
   "cell_type": "code",
   "execution_count": null,
   "id": "eb98295b",
   "metadata": {},
   "outputs": [],
   "source": [
    "male_assembly <- bq_table_download(bq_project_query(\n",
    "    BILLING_PROJECT_ID, page_size = 20000,\n",
    "    query = str_glue('\n",
    "SELECT \n",
    "    p.sex_at_birth_concept_id,\n",
    "    m.person_id,m.condition_concept_id,m.condition_start_date,\n",
    "    c.concept_name\n",
    "FROM `{CDR}.condition_occurrence` m \n",
    "JOIN `{CDR}.concept` c ON m.condition_concept_id = c.concept_id \n",
    "JOIN `{CDR}.person` p ON m.person_id = p.person_id\n",
    "AND m.condition_concept_id IN (',paste(male_cond,collapse=\",\"),')\n",
    "')))\n",
    "setDT(male_assembly)"
   ]
  },
  {
   "cell_type": "code",
   "execution_count": null,
   "id": "5573dbb0",
   "metadata": {},
   "outputs": [],
   "source": [
    "female_assembly<-female_assembly[!person_id%in%noncisgender_person_df$person_id]\n",
    "male_assembly<-male_assembly[!person_id%in%noncisgender_person_df$person_id]"
   ]
  },
  {
   "cell_type": "code",
   "execution_count": null,
   "id": "63e47eb3",
   "metadata": {},
   "outputs": [],
   "source": [
    "female_assembly[sex_at_birth_concept_id==45878463,sex:='Female']\n",
    "female_assembly[sex_at_birth_concept_id==45880669,sex:='Male']\n",
    "male_assembly[sex_at_birth_concept_id==45878463,sex:='Female']\n",
    "male_assembly[sex_at_birth_concept_id==45880669,sex:='Male']"
   ]
  },
  {
   "cell_type": "code",
   "execution_count": null,
   "id": "59bc2b3b",
   "metadata": {},
   "outputs": [],
   "source": [
    "options(repr.plot.width=8, repr.plot.height=2.7)\n",
    "g1<-ggplot(female_assembly[!is.na(sex)],aes(x=as.numeric(substr(condition_start_date,1,4))))+\n",
    "geom_histogram()+theme_bw()+xlab('condition_start_date')+ggtitle('Female conditions')+ylab('participant count')+\n",
    "facet_wrap(sex~.,scales='free_y',ncol=1)\n",
    "g2<-ggplot(male_assembly[!is.na(sex)],aes(x=as.numeric(substr(condition_start_date,1,4))))+ylab('participant count')+\n",
    "geom_histogram()+theme_bw()+xlab('condition_start_date')+ggtitle('Male conditions')+\n",
    "facet_wrap(sex~.,scales='free_y',ncol=1)"
   ]
  },
  {
   "cell_type": "markdown",
   "id": "1a11d346",
   "metadata": {},
   "source": [
    "*Figure 5c*"
   ]
  },
  {
   "cell_type": "code",
   "execution_count": 208,
   "id": "8d3ec47a",
   "metadata": {},
   "outputs": [
    {
     "name": "stderr",
     "output_type": "stream",
     "text": [
      "\u001b[1m\u001b[22m`stat_bin()` using `bins = 30`. Pick better value with `binwidth`.\n",
      "\u001b[1m\u001b[22m`stat_bin()` using `bins = 30`. Pick better value with `binwidth`.\n",
      "\u001b[1m\u001b[22m`stat_bin()` using `bins = 30`. Pick better value with `binwidth`.\n",
      "\u001b[1m\u001b[22m`stat_bin()` using `bins = 30`. Pick better value with `binwidth`.\n"
     ]
    },
    {
     "data": {
      "text/html": [
       "<strong>png:</strong> 2"
      ],
      "text/latex": [
       "\\textbf{png:} 2"
      ],
      "text/markdown": [
       "**png:** 2"
      ],
      "text/plain": [
       "png \n",
       "  2 "
      ]
     },
     "metadata": {},
     "output_type": "display_data"
    },
    {
     "data": {
      "image/png": "[encoded data removed]",
      "text/plain": [
       "plot without title"
      ]
     },
     "metadata": {
      "image/png": {
       "height": 330,
       "width": 180
      }
     },
     "output_type": "display_data"
    }
   ],
   "source": [
    "options(repr.plot.width=3, repr.plot.height=5.5)\n",
    "g1/g2\n",
    "pdf('output/tempora_spread.pdf',w=3,h=5.5);g1/g2;dev.off()"
   ]
  }
 ],
 "metadata": {
  "kernelspec": {
   "display_name": "R",
   "language": "R",
   "name": "ir"
  },
  "language_info": {
   "codemirror_mode": "r",
   "file_extension": ".r",
   "mimetype": "text/x-r-source",
   "name": "R",
   "pygments_lexer": "r",
   "version": "4.4.0"
  },
  "toc": {
   "base_numbering": 1,
   "nav_menu": {},
   "number_sections": true,
   "sideBar": true,
   "skip_h1_title": false,
   "title_cell": "Table of Contents",
   "title_sidebar": "Contents",
   "toc_cell": false,
   "toc_position": {},
   "toc_section_display": true,
   "toc_window_display": false
  }
 },
 "nbformat": 4,
 "nbformat_minor": 5
}
